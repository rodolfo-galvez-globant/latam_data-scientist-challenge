{
 "cells": [
  {
   "cell_type": "code",
   "execution_count": 283,
   "id": "7f69b6ba",
   "metadata": {},
   "outputs": [],
   "source": [
    "import pandas as pd\n",
    "\n",
    "from sklearn.metrics import f1_score, accuracy_score, precision_score, recall_score"
   ]
  },
  {
   "cell_type": "markdown",
   "id": "3ff6a85f",
   "metadata": {},
   "source": [
    "# Custom helper functions"
   ]
  },
  {
   "cell_type": "code",
   "execution_count": 284,
   "id": "2607649b",
   "metadata": {},
   "outputs": [],
   "source": [
    "def can_be_cast_to_type(value, type_to_cast):\n",
    "    try:\n",
    "        type_to_cast(value)\n",
    "        \n",
    "        return True\n",
    "    except:\n",
    "        return False\n",
    "    \n",
    "def get_metrics(y_true, y_pred):\n",
    "    f1 = f1_score(y_true, y_pred, average='macro')\n",
    "    f1_w = f1_score(y_true, y_pred, average='weighted')\n",
    "    acc = accuracy_score(y_true, y_pred)\n",
    "    precision = precision_score(y_true, y_pred, average='macro')\n",
    "    recall = recall_score(y_true, y_pred, average='macro')\n",
    "    \n",
    "    return f1, f1_w, acc, precision, recall"
   ]
  },
  {
   "cell_type": "markdown",
   "id": "1844f772",
   "metadata": {},
   "source": [
    "# Data Loading"
   ]
  },
  {
   "cell_type": "code",
   "execution_count": 3,
   "id": "a9e0df0f",
   "metadata": {},
   "outputs": [
    {
     "name": "stderr",
     "output_type": "stream",
     "text": [
      "/Users/rodolfo.galvez/.envs/p38/lib/python3.8/site-packages/IPython/core/interactiveshell.py:3172: DtypeWarning: Columns (1,6) have mixed types.Specify dtype option on import or set low_memory=False.\n",
      "  has_raised = await self.run_ast_nodes(code_ast.body, cell_name,\n"
     ]
    }
   ],
   "source": [
    "df = pd.read_csv('dataset_SCL.csv')"
   ]
  },
  {
   "cell_type": "code",
   "execution_count": 4,
   "id": "c9fb0067",
   "metadata": {},
   "outputs": [
    {
     "data": {
      "text/html": [
       "<div>\n",
       "<style scoped>\n",
       "    .dataframe tbody tr th:only-of-type {\n",
       "        vertical-align: middle;\n",
       "    }\n",
       "\n",
       "    .dataframe tbody tr th {\n",
       "        vertical-align: top;\n",
       "    }\n",
       "\n",
       "    .dataframe thead th {\n",
       "        text-align: right;\n",
       "    }\n",
       "</style>\n",
       "<table border=\"1\" class=\"dataframe\">\n",
       "  <thead>\n",
       "    <tr style=\"text-align: right;\">\n",
       "      <th></th>\n",
       "      <th>Fecha-I</th>\n",
       "      <th>Vlo-I</th>\n",
       "      <th>Ori-I</th>\n",
       "      <th>Des-I</th>\n",
       "      <th>Emp-I</th>\n",
       "      <th>Fecha-O</th>\n",
       "      <th>Vlo-O</th>\n",
       "      <th>Ori-O</th>\n",
       "      <th>Des-O</th>\n",
       "      <th>Emp-O</th>\n",
       "      <th>DIA</th>\n",
       "      <th>MES</th>\n",
       "      <th>AÑO</th>\n",
       "      <th>DIANOM</th>\n",
       "      <th>TIPOVUELO</th>\n",
       "      <th>OPERA</th>\n",
       "      <th>SIGLAORI</th>\n",
       "      <th>SIGLADES</th>\n",
       "    </tr>\n",
       "  </thead>\n",
       "  <tbody>\n",
       "    <tr>\n",
       "      <th>0</th>\n",
       "      <td>2017-01-01 23:30:00</td>\n",
       "      <td>226</td>\n",
       "      <td>SCEL</td>\n",
       "      <td>KMIA</td>\n",
       "      <td>AAL</td>\n",
       "      <td>2017-01-01 23:33:00</td>\n",
       "      <td>226</td>\n",
       "      <td>SCEL</td>\n",
       "      <td>KMIA</td>\n",
       "      <td>AAL</td>\n",
       "      <td>1</td>\n",
       "      <td>1</td>\n",
       "      <td>2017</td>\n",
       "      <td>Domingo</td>\n",
       "      <td>I</td>\n",
       "      <td>American Airlines</td>\n",
       "      <td>Santiago</td>\n",
       "      <td>Miami</td>\n",
       "    </tr>\n",
       "    <tr>\n",
       "      <th>1</th>\n",
       "      <td>2017-01-02 23:30:00</td>\n",
       "      <td>226</td>\n",
       "      <td>SCEL</td>\n",
       "      <td>KMIA</td>\n",
       "      <td>AAL</td>\n",
       "      <td>2017-01-02 23:39:00</td>\n",
       "      <td>226</td>\n",
       "      <td>SCEL</td>\n",
       "      <td>KMIA</td>\n",
       "      <td>AAL</td>\n",
       "      <td>2</td>\n",
       "      <td>1</td>\n",
       "      <td>2017</td>\n",
       "      <td>Lunes</td>\n",
       "      <td>I</td>\n",
       "      <td>American Airlines</td>\n",
       "      <td>Santiago</td>\n",
       "      <td>Miami</td>\n",
       "    </tr>\n",
       "    <tr>\n",
       "      <th>2</th>\n",
       "      <td>2017-01-03 23:30:00</td>\n",
       "      <td>226</td>\n",
       "      <td>SCEL</td>\n",
       "      <td>KMIA</td>\n",
       "      <td>AAL</td>\n",
       "      <td>2017-01-03 23:39:00</td>\n",
       "      <td>226</td>\n",
       "      <td>SCEL</td>\n",
       "      <td>KMIA</td>\n",
       "      <td>AAL</td>\n",
       "      <td>3</td>\n",
       "      <td>1</td>\n",
       "      <td>2017</td>\n",
       "      <td>Martes</td>\n",
       "      <td>I</td>\n",
       "      <td>American Airlines</td>\n",
       "      <td>Santiago</td>\n",
       "      <td>Miami</td>\n",
       "    </tr>\n",
       "    <tr>\n",
       "      <th>3</th>\n",
       "      <td>2017-01-04 23:30:00</td>\n",
       "      <td>226</td>\n",
       "      <td>SCEL</td>\n",
       "      <td>KMIA</td>\n",
       "      <td>AAL</td>\n",
       "      <td>2017-01-04 23:33:00</td>\n",
       "      <td>226</td>\n",
       "      <td>SCEL</td>\n",
       "      <td>KMIA</td>\n",
       "      <td>AAL</td>\n",
       "      <td>4</td>\n",
       "      <td>1</td>\n",
       "      <td>2017</td>\n",
       "      <td>Miercoles</td>\n",
       "      <td>I</td>\n",
       "      <td>American Airlines</td>\n",
       "      <td>Santiago</td>\n",
       "      <td>Miami</td>\n",
       "    </tr>\n",
       "    <tr>\n",
       "      <th>4</th>\n",
       "      <td>2017-01-05 23:30:00</td>\n",
       "      <td>226</td>\n",
       "      <td>SCEL</td>\n",
       "      <td>KMIA</td>\n",
       "      <td>AAL</td>\n",
       "      <td>2017-01-05 23:28:00</td>\n",
       "      <td>226</td>\n",
       "      <td>SCEL</td>\n",
       "      <td>KMIA</td>\n",
       "      <td>AAL</td>\n",
       "      <td>5</td>\n",
       "      <td>1</td>\n",
       "      <td>2017</td>\n",
       "      <td>Jueves</td>\n",
       "      <td>I</td>\n",
       "      <td>American Airlines</td>\n",
       "      <td>Santiago</td>\n",
       "      <td>Miami</td>\n",
       "    </tr>\n",
       "  </tbody>\n",
       "</table>\n",
       "</div>"
      ],
      "text/plain": [
       "               Fecha-I Vlo-I Ori-I Des-I Emp-I              Fecha-O Vlo-O  \\\n",
       "0  2017-01-01 23:30:00   226  SCEL  KMIA   AAL  2017-01-01 23:33:00   226   \n",
       "1  2017-01-02 23:30:00   226  SCEL  KMIA   AAL  2017-01-02 23:39:00   226   \n",
       "2  2017-01-03 23:30:00   226  SCEL  KMIA   AAL  2017-01-03 23:39:00   226   \n",
       "3  2017-01-04 23:30:00   226  SCEL  KMIA   AAL  2017-01-04 23:33:00   226   \n",
       "4  2017-01-05 23:30:00   226  SCEL  KMIA   AAL  2017-01-05 23:28:00   226   \n",
       "\n",
       "  Ori-O Des-O Emp-O  DIA  MES   AÑO     DIANOM TIPOVUELO              OPERA  \\\n",
       "0  SCEL  KMIA   AAL    1    1  2017    Domingo         I  American Airlines   \n",
       "1  SCEL  KMIA   AAL    2    1  2017      Lunes         I  American Airlines   \n",
       "2  SCEL  KMIA   AAL    3    1  2017     Martes         I  American Airlines   \n",
       "3  SCEL  KMIA   AAL    4    1  2017  Miercoles         I  American Airlines   \n",
       "4  SCEL  KMIA   AAL    5    1  2017     Jueves         I  American Airlines   \n",
       "\n",
       "   SIGLAORI SIGLADES  \n",
       "0  Santiago    Miami  \n",
       "1  Santiago    Miami  \n",
       "2  Santiago    Miami  \n",
       "3  Santiago    Miami  \n",
       "4  Santiago    Miami  "
      ]
     },
     "execution_count": 4,
     "metadata": {},
     "output_type": "execute_result"
    }
   ],
   "source": [
    "df.head()"
   ]
  },
  {
   "cell_type": "markdown",
   "id": "695f3b82",
   "metadata": {},
   "source": [
    "# Data exploration"
   ]
  },
  {
   "cell_type": "code",
   "execution_count": 5,
   "id": "59c45b38",
   "metadata": {},
   "outputs": [
    {
     "name": "stdout",
     "output_type": "stream",
     "text": [
      "<class 'pandas.core.frame.DataFrame'>\n",
      "RangeIndex: 68206 entries, 0 to 68205\n",
      "Data columns (total 18 columns):\n",
      " #   Column     Non-Null Count  Dtype \n",
      "---  ------     --------------  ----- \n",
      " 0   Fecha-I    68206 non-null  object\n",
      " 1   Vlo-I      68206 non-null  object\n",
      " 2   Ori-I      68206 non-null  object\n",
      " 3   Des-I      68206 non-null  object\n",
      " 4   Emp-I      68206 non-null  object\n",
      " 5   Fecha-O    68206 non-null  object\n",
      " 6   Vlo-O      68205 non-null  object\n",
      " 7   Ori-O      68206 non-null  object\n",
      " 8   Des-O      68206 non-null  object\n",
      " 9   Emp-O      68206 non-null  object\n",
      " 10  DIA        68206 non-null  int64 \n",
      " 11  MES        68206 non-null  int64 \n",
      " 12  AÑO        68206 non-null  int64 \n",
      " 13  DIANOM     68206 non-null  object\n",
      " 14  TIPOVUELO  68206 non-null  object\n",
      " 15  OPERA      68206 non-null  object\n",
      " 16  SIGLAORI   68206 non-null  object\n",
      " 17  SIGLADES   68206 non-null  object\n",
      "dtypes: int64(3), object(15)\n",
      "memory usage: 9.4+ MB\n"
     ]
    }
   ],
   "source": [
    "df.info()"
   ]
  },
  {
   "cell_type": "markdown",
   "id": "a6ac4b94",
   "metadata": {},
   "source": [
    "## Fecha-I"
   ]
  },
  {
   "cell_type": "markdown",
   "id": "a6d2373a",
   "metadata": {},
   "source": [
    "Casting to datetime:"
   ]
  },
  {
   "cell_type": "code",
   "execution_count": 50,
   "id": "6caad5f7",
   "metadata": {},
   "outputs": [],
   "source": [
    "df['Fecha-I'] = pd.to_datetime(df['Fecha-I'])"
   ]
  },
  {
   "cell_type": "markdown",
   "id": "cd8a2b63",
   "metadata": {},
   "source": [
    "## Vlo-I"
   ]
  },
  {
   "cell_type": "code",
   "execution_count": 6,
   "id": "a8a5644c",
   "metadata": {},
   "outputs": [
    {
     "data": {
      "text/plain": [
       "0        226\n",
       "1        226\n",
       "2        226\n",
       "3        226\n",
       "4        226\n",
       "        ... \n",
       "68201    400\n",
       "68202    400\n",
       "68203    400\n",
       "68204    400\n",
       "68205    400\n",
       "Name: Vlo-I, Length: 68206, dtype: category\n",
       "Categories (750, object): [4, 6, 8, 10, ..., '991', '993', '9955', '9956']"
      ]
     },
     "execution_count": 6,
     "metadata": {},
     "output_type": "execute_result"
    }
   ],
   "source": [
    "df['Vlo-I'].astype('category')"
   ]
  },
  {
   "cell_type": "code",
   "execution_count": 7,
   "id": "c7880351",
   "metadata": {},
   "outputs": [
    {
     "data": {
      "text/plain": [
       "<AxesSubplot:>"
      ]
     },
     "execution_count": 7,
     "metadata": {},
     "output_type": "execute_result"
    },
    {
     "data": {
      "image/png": "[encoded data removed]",
      "text/plain": [
       "<Figure size 1800x1080 with 1 Axes>"
      ]
     },
     "metadata": {
      "needs_background": "light"
     },
     "output_type": "display_data"
    }
   ],
   "source": [
    "df['Vlo-I'].value_counts().plot.line(figsize=(25,15))"
   ]
  },
  {
   "cell_type": "markdown",
   "id": "97c85bdc",
   "metadata": {},
   "source": [
    "Y axis: count  \n",
    "X axis: Vlo-I value  \n",
    "There are few Vlo-I values that have high count numbers, which means they are scheduled more frequently."
   ]
  },
  {
   "cell_type": "markdown",
   "id": "25e2f82e",
   "metadata": {},
   "source": [
    "Mixed types found, looking if they can be cast to int"
   ]
  },
  {
   "cell_type": "code",
   "execution_count": 8,
   "id": "90657944",
   "metadata": {},
   "outputs": [
    {
     "data": {
      "text/html": [
       "<div>\n",
       "<style scoped>\n",
       "    .dataframe tbody tr th:only-of-type {\n",
       "        vertical-align: middle;\n",
       "    }\n",
       "\n",
       "    .dataframe tbody tr th {\n",
       "        vertical-align: top;\n",
       "    }\n",
       "\n",
       "    .dataframe thead th {\n",
       "        text-align: right;\n",
       "    }\n",
       "</style>\n",
       "<table border=\"1\" class=\"dataframe\">\n",
       "  <thead>\n",
       "    <tr style=\"text-align: right;\">\n",
       "      <th></th>\n",
       "      <th>Fecha-I</th>\n",
       "      <th>Vlo-I</th>\n",
       "      <th>Ori-I</th>\n",
       "      <th>Des-I</th>\n",
       "      <th>Emp-I</th>\n",
       "      <th>Fecha-O</th>\n",
       "      <th>Vlo-O</th>\n",
       "      <th>Ori-O</th>\n",
       "      <th>Des-O</th>\n",
       "      <th>Emp-O</th>\n",
       "      <th>DIA</th>\n",
       "      <th>MES</th>\n",
       "      <th>AÑO</th>\n",
       "      <th>DIANOM</th>\n",
       "      <th>TIPOVUELO</th>\n",
       "      <th>OPERA</th>\n",
       "      <th>SIGLAORI</th>\n",
       "      <th>SIGLADES</th>\n",
       "    </tr>\n",
       "  </thead>\n",
       "  <tbody>\n",
       "    <tr>\n",
       "      <th>22232</th>\n",
       "      <td>2017-05-13 21:50:00</td>\n",
       "      <td>989P</td>\n",
       "      <td>SCEL</td>\n",
       "      <td>SUMU</td>\n",
       "      <td>AAL</td>\n",
       "      <td>2017-05-13 21:52:00</td>\n",
       "      <td>989</td>\n",
       "      <td>SCEL</td>\n",
       "      <td>SUMU</td>\n",
       "      <td>AAL</td>\n",
       "      <td>13</td>\n",
       "      <td>5</td>\n",
       "      <td>2017</td>\n",
       "      <td>Sabado</td>\n",
       "      <td>I</td>\n",
       "      <td>American Airlines</td>\n",
       "      <td>Santiago</td>\n",
       "      <td>Montevideo</td>\n",
       "    </tr>\n",
       "    <tr>\n",
       "      <th>27464</th>\n",
       "      <td>2017-06-16 20:30:00</td>\n",
       "      <td>940P</td>\n",
       "      <td>SCEL</td>\n",
       "      <td>KDFW</td>\n",
       "      <td>AAL</td>\n",
       "      <td>2017-06-16 20:50:00</td>\n",
       "      <td>940</td>\n",
       "      <td>SCEL</td>\n",
       "      <td>KDFW</td>\n",
       "      <td>AAL</td>\n",
       "      <td>16</td>\n",
       "      <td>6</td>\n",
       "      <td>2017</td>\n",
       "      <td>Viernes</td>\n",
       "      <td>I</td>\n",
       "      <td>American Airlines</td>\n",
       "      <td>Santiago</td>\n",
       "      <td>Dallas</td>\n",
       "    </tr>\n",
       "    <tr>\n",
       "      <th>39225</th>\n",
       "      <td>2017-08-07 19:00:00</td>\n",
       "      <td>591P</td>\n",
       "      <td>SCEL</td>\n",
       "      <td>LFPG</td>\n",
       "      <td>PUE</td>\n",
       "      <td>2017-08-07 20:35:00</td>\n",
       "      <td>591P</td>\n",
       "      <td>SCEL</td>\n",
       "      <td>LFPG</td>\n",
       "      <td>PUE</td>\n",
       "      <td>7</td>\n",
       "      <td>8</td>\n",
       "      <td>2017</td>\n",
       "      <td>Lunes</td>\n",
       "      <td>I</td>\n",
       "      <td>Plus Ultra Lineas Aereas</td>\n",
       "      <td>Santiago</td>\n",
       "      <td>Paris</td>\n",
       "    </tr>\n",
       "    <tr>\n",
       "      <th>39266</th>\n",
       "      <td>2017-08-24 23:00:00</td>\n",
       "      <td>846A</td>\n",
       "      <td>SCEL</td>\n",
       "      <td>KIAH</td>\n",
       "      <td>UAL</td>\n",
       "      <td>2017-08-24 23:00:00</td>\n",
       "      <td>2804</td>\n",
       "      <td>SCEL</td>\n",
       "      <td>KIAH</td>\n",
       "      <td>UAL</td>\n",
       "      <td>24</td>\n",
       "      <td>8</td>\n",
       "      <td>2017</td>\n",
       "      <td>Jueves</td>\n",
       "      <td>I</td>\n",
       "      <td>United Airlines</td>\n",
       "      <td>Santiago</td>\n",
       "      <td>Houston</td>\n",
       "    </tr>\n",
       "    <tr>\n",
       "      <th>58126</th>\n",
       "      <td>2017-11-05 17:00:00</td>\n",
       "      <td>1104A</td>\n",
       "      <td>SCEL</td>\n",
       "      <td>SCSE</td>\n",
       "      <td>SKU</td>\n",
       "      <td>2017-11-05 17:42:00</td>\n",
       "      <td>1104</td>\n",
       "      <td>SCEL</td>\n",
       "      <td>SCSE</td>\n",
       "      <td>SKU</td>\n",
       "      <td>5</td>\n",
       "      <td>11</td>\n",
       "      <td>2017</td>\n",
       "      <td>Domingo</td>\n",
       "      <td>N</td>\n",
       "      <td>Sky Airline</td>\n",
       "      <td>Santiago</td>\n",
       "      <td>La Serena</td>\n",
       "    </tr>\n",
       "  </tbody>\n",
       "</table>\n",
       "</div>"
      ],
      "text/plain": [
       "                   Fecha-I  Vlo-I Ori-I Des-I Emp-I              Fecha-O  \\\n",
       "22232  2017-05-13 21:50:00   989P  SCEL  SUMU   AAL  2017-05-13 21:52:00   \n",
       "27464  2017-06-16 20:30:00   940P  SCEL  KDFW   AAL  2017-06-16 20:50:00   \n",
       "39225  2017-08-07 19:00:00   591P  SCEL  LFPG   PUE  2017-08-07 20:35:00   \n",
       "39266  2017-08-24 23:00:00   846A  SCEL  KIAH   UAL  2017-08-24 23:00:00   \n",
       "58126  2017-11-05 17:00:00  1104A  SCEL  SCSE   SKU  2017-11-05 17:42:00   \n",
       "\n",
       "      Vlo-O Ori-O Des-O Emp-O  DIA  MES   AÑO   DIANOM TIPOVUELO  \\\n",
       "22232   989  SCEL  SUMU   AAL   13    5  2017   Sabado         I   \n",
       "27464   940  SCEL  KDFW   AAL   16    6  2017  Viernes         I   \n",
       "39225  591P  SCEL  LFPG   PUE    7    8  2017    Lunes         I   \n",
       "39266  2804  SCEL  KIAH   UAL   24    8  2017   Jueves         I   \n",
       "58126  1104  SCEL  SCSE   SKU    5   11  2017  Domingo         N   \n",
       "\n",
       "                          OPERA  SIGLAORI    SIGLADES  \n",
       "22232         American Airlines  Santiago  Montevideo  \n",
       "27464         American Airlines  Santiago      Dallas  \n",
       "39225  Plus Ultra Lineas Aereas  Santiago       Paris  \n",
       "39266           United Airlines  Santiago     Houston  \n",
       "58126               Sky Airline  Santiago   La Serena  "
      ]
     },
     "execution_count": 8,
     "metadata": {},
     "output_type": "execute_result"
    }
   ],
   "source": [
    "df[df['Vlo-I'].map(lambda x: not can_be_cast_to_type(x, int))]"
   ]
  },
  {
   "cell_type": "markdown",
   "id": "009ff2c0",
   "metadata": {},
   "source": [
    "Some Vlo-I values contain letters, everything will be casted as string"
   ]
  },
  {
   "cell_type": "code",
   "execution_count": 9,
   "id": "115be2f8",
   "metadata": {},
   "outputs": [],
   "source": [
    "df['Vlo-I'] = df['Vlo-I'].astype('string')"
   ]
  },
  {
   "cell_type": "markdown",
   "id": "ea206c18",
   "metadata": {},
   "source": [
    "## Ori-I"
   ]
  },
  {
   "cell_type": "code",
   "execution_count": 10,
   "id": "a142dfd4",
   "metadata": {
    "scrolled": false
   },
   "outputs": [
    {
     "data": {
      "text/plain": [
       "0        SCEL\n",
       "1        SCEL\n",
       "2        SCEL\n",
       "3        SCEL\n",
       "4        SCEL\n",
       "         ... \n",
       "68201    SCEL\n",
       "68202    SCEL\n",
       "68203    SCEL\n",
       "68204    SCEL\n",
       "68205    SCEL\n",
       "Name: Ori-I, Length: 68206, dtype: category\n",
       "Categories (1, object): ['SCEL']"
      ]
     },
     "execution_count": 10,
     "metadata": {},
     "output_type": "execute_result"
    }
   ],
   "source": [
    "df['Ori-I'].astype('category')"
   ]
  },
  {
   "cell_type": "markdown",
   "id": "8914956a",
   "metadata": {},
   "source": [
    "Same value across all records, this field won't be considered."
   ]
  },
  {
   "cell_type": "markdown",
   "id": "cce5cdcd",
   "metadata": {},
   "source": [
    "## Des-I"
   ]
  },
  {
   "cell_type": "code",
   "execution_count": 11,
   "id": "b5e92a28",
   "metadata": {},
   "outputs": [
    {
     "data": {
      "text/plain": [
       "0        KMIA\n",
       "1        KMIA\n",
       "2        KMIA\n",
       "3        KMIA\n",
       "4        KMIA\n",
       "         ... \n",
       "68201    SPJC\n",
       "68202    SPJC\n",
       "68203    SPJC\n",
       "68204    SPJC\n",
       "68205    SPJC\n",
       "Name: Des-I, Length: 68206, dtype: category\n",
       "Categories (64, object): ['CYYZ', 'EGLL', 'EGYP', 'KATL', ..., 'SULS', 'SUMU', 'YMML', 'YSSY']"
      ]
     },
     "execution_count": 11,
     "metadata": {},
     "output_type": "execute_result"
    }
   ],
   "source": [
    "df['Des-I'].astype('category')"
   ]
  },
  {
   "cell_type": "code",
   "execution_count": 12,
   "id": "2e2057b3",
   "metadata": {},
   "outputs": [
    {
     "data": {
      "text/plain": [
       "<AxesSubplot:>"
      ]
     },
     "execution_count": 12,
     "metadata": {},
     "output_type": "execute_result"
    },
    {
     "data": {
      "image/png": "[encoded data removed]",
      "text/plain": [
       "<Figure size 1800x1080 with 1 Axes>"
      ]
     },
     "metadata": {
      "needs_background": "light"
     },
     "output_type": "display_data"
    }
   ],
   "source": [
    "df['Des-I'].value_counts().plot.bar(figsize=(25,15))"
   ]
  },
  {
   "cell_type": "markdown",
   "id": "a8433d11",
   "metadata": {},
   "source": [
    "Definitely there are few cities that are scheduled more frequently as well."
   ]
  },
  {
   "cell_type": "markdown",
   "id": "15a8d24c",
   "metadata": {},
   "source": [
    "## Emp-I"
   ]
  },
  {
   "cell_type": "code",
   "execution_count": 13,
   "id": "1b70bc4a",
   "metadata": {},
   "outputs": [
    {
     "data": {
      "text/plain": [
       "0        AAL\n",
       "1        AAL\n",
       "2        AAL\n",
       "3        AAL\n",
       "4        AAL\n",
       "        ... \n",
       "68201    JAT\n",
       "68202    JAT\n",
       "68203    JAT\n",
       "68204    JAT\n",
       "68205    JAT\n",
       "Name: Emp-I, Length: 68206, dtype: category\n",
       "Categories (30, object): ['AAL', 'ACA', 'AFR', 'AMX', ..., 'QFU', 'SKU', 'TAM', 'UAL']"
      ]
     },
     "execution_count": 13,
     "metadata": {},
     "output_type": "execute_result"
    }
   ],
   "source": [
    "df['Emp-I'].astype('category')"
   ]
  },
  {
   "cell_type": "code",
   "execution_count": 14,
   "id": "9ed1246d",
   "metadata": {},
   "outputs": [
    {
     "data": {
      "text/plain": [
       "count       30.000000\n",
       "mean      2273.533333\n",
       "std       7163.120100\n",
       "min          1.000000\n",
       "25%        123.750000\n",
       "50%        343.000000\n",
       "75%       1022.750000\n",
       "max      37611.000000\n",
       "Name: Emp-I, dtype: float64"
      ]
     },
     "execution_count": 14,
     "metadata": {},
     "output_type": "execute_result"
    }
   ],
   "source": [
    "df['Emp-I'].value_counts().describe()"
   ]
  },
  {
   "cell_type": "code",
   "execution_count": 15,
   "id": "cc0aaba9",
   "metadata": {},
   "outputs": [
    {
     "data": {
      "text/plain": [
       "<AxesSubplot:>"
      ]
     },
     "execution_count": 15,
     "metadata": {},
     "output_type": "execute_result"
    },
    {
     "data": {
      "image/png": "[encoded data removed]",
      "text/plain": [
       "<Figure size 1800x1080 with 1 Axes>"
      ]
     },
     "metadata": {
      "needs_background": "light"
     },
     "output_type": "display_data"
    }
   ],
   "source": [
    "df['Emp-I'].value_counts().plot.bar(figsize=(25,15))"
   ]
  },
  {
   "cell_type": "markdown",
   "id": "7aae0345",
   "metadata": {},
   "source": [
    "Most of the available information is from the LAN airline code."
   ]
  },
  {
   "cell_type": "markdown",
   "id": "af45c3f9",
   "metadata": {},
   "source": [
    "## Fecha-O"
   ]
  },
  {
   "cell_type": "markdown",
   "id": "9a2cc7d9",
   "metadata": {},
   "source": [
    "Casting to datetime:"
   ]
  },
  {
   "cell_type": "code",
   "execution_count": 51,
   "id": "740fd780",
   "metadata": {},
   "outputs": [],
   "source": [
    "df['Fecha-O'] = pd.to_datetime(df['Fecha-O'])"
   ]
  },
  {
   "cell_type": "markdown",
   "id": "dfa18517",
   "metadata": {},
   "source": [
    "## Vlo-O"
   ]
  },
  {
   "cell_type": "code",
   "execution_count": 16,
   "id": "92e6474d",
   "metadata": {},
   "outputs": [
    {
     "data": {
      "text/plain": [
       "0        226\n",
       "1        226\n",
       "2        226\n",
       "3        226\n",
       "4        226\n",
       "        ... \n",
       "68201    400\n",
       "68202    400\n",
       "68203    400\n",
       "68204    400\n",
       "68205    400\n",
       "Name: Vlo-O, Length: 68206, dtype: category\n",
       "Categories (866, object): [4, 6, 8, 10, ..., '991', '993', '9955', '9956']"
      ]
     },
     "execution_count": 16,
     "metadata": {},
     "output_type": "execute_result"
    }
   ],
   "source": [
    "df['Vlo-O'].astype('category')"
   ]
  },
  {
   "cell_type": "code",
   "execution_count": 17,
   "id": "54c03923",
   "metadata": {},
   "outputs": [
    {
     "data": {
      "text/plain": [
       "<AxesSubplot:>"
      ]
     },
     "execution_count": 17,
     "metadata": {},
     "output_type": "execute_result"
    },
    {
     "data": {
      "image/png": "[encoded data removed]",
      "text/plain": [
       "<Figure size 1800x1080 with 1 Axes>"
      ]
     },
     "metadata": {
      "needs_background": "light"
     },
     "output_type": "display_data"
    }
   ],
   "source": [
    "df['Vlo-O'].value_counts().plot.line(figsize=(25,15))"
   ]
  },
  {
   "cell_type": "markdown",
   "id": "188b6ed4",
   "metadata": {},
   "source": [
    "Y axis: count  \n",
    "X axis: Vlo-I value  \n",
    "It's quite similar than Vlo-I, but not the same, which means the actual Vlo-O isn't always as the scheduled Vlo-I.  \n",
    "  \n",
    "Also, mixed types found, looking if they can be cast to int"
   ]
  },
  {
   "cell_type": "code",
   "execution_count": 18,
   "id": "43e1c845",
   "metadata": {
    "scrolled": true
   },
   "outputs": [
    {
     "data": {
      "text/html": [
       "<div>\n",
       "<style scoped>\n",
       "    .dataframe tbody tr th:only-of-type {\n",
       "        vertical-align: middle;\n",
       "    }\n",
       "\n",
       "    .dataframe tbody tr th {\n",
       "        vertical-align: top;\n",
       "    }\n",
       "\n",
       "    .dataframe thead th {\n",
       "        text-align: right;\n",
       "    }\n",
       "</style>\n",
       "<table border=\"1\" class=\"dataframe\">\n",
       "  <thead>\n",
       "    <tr style=\"text-align: right;\">\n",
       "      <th></th>\n",
       "      <th>Fecha-I</th>\n",
       "      <th>Vlo-I</th>\n",
       "      <th>Ori-I</th>\n",
       "      <th>Des-I</th>\n",
       "      <th>Emp-I</th>\n",
       "      <th>Fecha-O</th>\n",
       "      <th>Vlo-O</th>\n",
       "      <th>Ori-O</th>\n",
       "      <th>Des-O</th>\n",
       "      <th>Emp-O</th>\n",
       "      <th>DIA</th>\n",
       "      <th>MES</th>\n",
       "      <th>AÑO</th>\n",
       "      <th>DIANOM</th>\n",
       "      <th>TIPOVUELO</th>\n",
       "      <th>OPERA</th>\n",
       "      <th>SIGLAORI</th>\n",
       "      <th>SIGLADES</th>\n",
       "    </tr>\n",
       "  </thead>\n",
       "  <tbody>\n",
       "    <tr>\n",
       "      <th>6068</th>\n",
       "      <td>2017-01-19 11:00:00</td>\n",
       "      <td>200</td>\n",
       "      <td>SCEL</td>\n",
       "      <td>SPJC</td>\n",
       "      <td>LAW</td>\n",
       "      <td>2017-01-19 11:03:00</td>\n",
       "      <td>NaN</td>\n",
       "      <td>SCEL</td>\n",
       "      <td>SPJC</td>\n",
       "      <td>56R</td>\n",
       "      <td>19</td>\n",
       "      <td>1</td>\n",
       "      <td>2017</td>\n",
       "      <td>Jueves</td>\n",
       "      <td>I</td>\n",
       "      <td>Latin American Wings</td>\n",
       "      <td>Santiago</td>\n",
       "      <td>Lima</td>\n",
       "    </tr>\n",
       "    <tr>\n",
       "      <th>13906</th>\n",
       "      <td>2017-03-30 10:30:00</td>\n",
       "      <td>71</td>\n",
       "      <td>SCEL</td>\n",
       "      <td>SCIE</td>\n",
       "      <td>SKU</td>\n",
       "      <td>2017-03-30 10:50:00</td>\n",
       "      <td>71R</td>\n",
       "      <td>SCEL</td>\n",
       "      <td>SCIE</td>\n",
       "      <td>SKU</td>\n",
       "      <td>30</td>\n",
       "      <td>3</td>\n",
       "      <td>2017</td>\n",
       "      <td>Jueves</td>\n",
       "      <td>N</td>\n",
       "      <td>Sky Airline</td>\n",
       "      <td>Santiago</td>\n",
       "      <td>Concepcion</td>\n",
       "    </tr>\n",
       "    <tr>\n",
       "      <th>13907</th>\n",
       "      <td>2017-03-22 11:00:00</td>\n",
       "      <td>1071</td>\n",
       "      <td>SCEL</td>\n",
       "      <td>SCIE</td>\n",
       "      <td>SKU</td>\n",
       "      <td>2017-03-22 11:00:00</td>\n",
       "      <td>71R</td>\n",
       "      <td>SCEL</td>\n",
       "      <td>SCIE</td>\n",
       "      <td>SKU</td>\n",
       "      <td>22</td>\n",
       "      <td>3</td>\n",
       "      <td>2017</td>\n",
       "      <td>Miercoles</td>\n",
       "      <td>N</td>\n",
       "      <td>Sky Airline</td>\n",
       "      <td>Santiago</td>\n",
       "      <td>Concepcion</td>\n",
       "    </tr>\n",
       "    <tr>\n",
       "      <th>17055</th>\n",
       "      <td>2017-03-22 10:00:00</td>\n",
       "      <td>201</td>\n",
       "      <td>SCEL</td>\n",
       "      <td>SCIE</td>\n",
       "      <td>LXP</td>\n",
       "      <td>2017-03-22 11:50:00</td>\n",
       "      <td>201R</td>\n",
       "      <td>SCEL</td>\n",
       "      <td>SCIE</td>\n",
       "      <td>LXP</td>\n",
       "      <td>22</td>\n",
       "      <td>3</td>\n",
       "      <td>2017</td>\n",
       "      <td>Miercoles</td>\n",
       "      <td>N</td>\n",
       "      <td>Grupo LATAM</td>\n",
       "      <td>Santiago</td>\n",
       "      <td>Concepcion</td>\n",
       "    </tr>\n",
       "    <tr>\n",
       "      <th>19207</th>\n",
       "      <td>2017-04-25 09:00:00</td>\n",
       "      <td>71</td>\n",
       "      <td>SCEL</td>\n",
       "      <td>SCIE</td>\n",
       "      <td>SKU</td>\n",
       "      <td>2017-04-25 09:29:00</td>\n",
       "      <td>71R</td>\n",
       "      <td>SCEL</td>\n",
       "      <td>SCIE</td>\n",
       "      <td>SKU</td>\n",
       "      <td>25</td>\n",
       "      <td>4</td>\n",
       "      <td>2017</td>\n",
       "      <td>Martes</td>\n",
       "      <td>N</td>\n",
       "      <td>Sky Airline</td>\n",
       "      <td>Santiago</td>\n",
       "      <td>Concepcion</td>\n",
       "    </tr>\n",
       "    <tr>\n",
       "      <th>...</th>\n",
       "      <td>...</td>\n",
       "      <td>...</td>\n",
       "      <td>...</td>\n",
       "      <td>...</td>\n",
       "      <td>...</td>\n",
       "      <td>...</td>\n",
       "      <td>...</td>\n",
       "      <td>...</td>\n",
       "      <td>...</td>\n",
       "      <td>...</td>\n",
       "      <td>...</td>\n",
       "      <td>...</td>\n",
       "      <td>...</td>\n",
       "      <td>...</td>\n",
       "      <td>...</td>\n",
       "      <td>...</td>\n",
       "      <td>...</td>\n",
       "      <td>...</td>\n",
       "    </tr>\n",
       "    <tr>\n",
       "      <th>65531</th>\n",
       "      <td>2017-12-12 15:30:00</td>\n",
       "      <td>265</td>\n",
       "      <td>SCEL</td>\n",
       "      <td>SCTE</td>\n",
       "      <td>LAN</td>\n",
       "      <td>2017-12-12 15:32:00</td>\n",
       "      <td>265.0</td>\n",
       "      <td>SCEL</td>\n",
       "      <td>SCTE</td>\n",
       "      <td>LXP</td>\n",
       "      <td>12</td>\n",
       "      <td>12</td>\n",
       "      <td>2017</td>\n",
       "      <td>Martes</td>\n",
       "      <td>N</td>\n",
       "      <td>Grupo LATAM</td>\n",
       "      <td>Santiago</td>\n",
       "      <td>Puerto Montt</td>\n",
       "    </tr>\n",
       "    <tr>\n",
       "      <th>65532</th>\n",
       "      <td>2017-12-16 13:41:00</td>\n",
       "      <td>265</td>\n",
       "      <td>SCEL</td>\n",
       "      <td>SCTE</td>\n",
       "      <td>LAN</td>\n",
       "      <td>2017-12-16 13:49:00</td>\n",
       "      <td>265.0</td>\n",
       "      <td>SCEL</td>\n",
       "      <td>SCTE</td>\n",
       "      <td>LXP</td>\n",
       "      <td>16</td>\n",
       "      <td>12</td>\n",
       "      <td>2017</td>\n",
       "      <td>Sabado</td>\n",
       "      <td>N</td>\n",
       "      <td>Grupo LATAM</td>\n",
       "      <td>Santiago</td>\n",
       "      <td>Puerto Montt</td>\n",
       "    </tr>\n",
       "    <tr>\n",
       "      <th>65533</th>\n",
       "      <td>2017-12-18 15:59:00</td>\n",
       "      <td>265</td>\n",
       "      <td>SCEL</td>\n",
       "      <td>SCTE</td>\n",
       "      <td>LAN</td>\n",
       "      <td>2017-12-18 16:07:00</td>\n",
       "      <td>265.0</td>\n",
       "      <td>SCEL</td>\n",
       "      <td>SCTE</td>\n",
       "      <td>LXP</td>\n",
       "      <td>18</td>\n",
       "      <td>12</td>\n",
       "      <td>2017</td>\n",
       "      <td>Lunes</td>\n",
       "      <td>N</td>\n",
       "      <td>Grupo LATAM</td>\n",
       "      <td>Santiago</td>\n",
       "      <td>Puerto Montt</td>\n",
       "    </tr>\n",
       "    <tr>\n",
       "      <th>65534</th>\n",
       "      <td>2017-12-19 15:11:00</td>\n",
       "      <td>265</td>\n",
       "      <td>SCEL</td>\n",
       "      <td>SCTE</td>\n",
       "      <td>LAN</td>\n",
       "      <td>2017-12-19 15:10:00</td>\n",
       "      <td>265.0</td>\n",
       "      <td>SCEL</td>\n",
       "      <td>SCTE</td>\n",
       "      <td>LXP</td>\n",
       "      <td>19</td>\n",
       "      <td>12</td>\n",
       "      <td>2017</td>\n",
       "      <td>Martes</td>\n",
       "      <td>N</td>\n",
       "      <td>Grupo LATAM</td>\n",
       "      <td>Santiago</td>\n",
       "      <td>Puerto Montt</td>\n",
       "    </tr>\n",
       "    <tr>\n",
       "      <th>65535</th>\n",
       "      <td>2017-12-25 16:19:00</td>\n",
       "      <td>265</td>\n",
       "      <td>SCEL</td>\n",
       "      <td>SCTE</td>\n",
       "      <td>LAN</td>\n",
       "      <td>2017-12-25 16:24:00</td>\n",
       "      <td>265.0</td>\n",
       "      <td>SCEL</td>\n",
       "      <td>SCTE</td>\n",
       "      <td>LXP</td>\n",
       "      <td>25</td>\n",
       "      <td>12</td>\n",
       "      <td>2017</td>\n",
       "      <td>Lunes</td>\n",
       "      <td>N</td>\n",
       "      <td>Grupo LATAM</td>\n",
       "      <td>Santiago</td>\n",
       "      <td>Puerto Montt</td>\n",
       "    </tr>\n",
       "  </tbody>\n",
       "</table>\n",
       "<p>1747 rows × 18 columns</p>\n",
       "</div>"
      ],
      "text/plain": [
       "                   Fecha-I Vlo-I Ori-I Des-I Emp-I              Fecha-O  \\\n",
       "6068   2017-01-19 11:00:00   200  SCEL  SPJC   LAW  2017-01-19 11:03:00   \n",
       "13906  2017-03-30 10:30:00    71  SCEL  SCIE   SKU  2017-03-30 10:50:00   \n",
       "13907  2017-03-22 11:00:00  1071  SCEL  SCIE   SKU  2017-03-22 11:00:00   \n",
       "17055  2017-03-22 10:00:00   201  SCEL  SCIE   LXP  2017-03-22 11:50:00   \n",
       "19207  2017-04-25 09:00:00    71  SCEL  SCIE   SKU  2017-04-25 09:29:00   \n",
       "...                    ...   ...   ...   ...   ...                  ...   \n",
       "65531  2017-12-12 15:30:00   265  SCEL  SCTE   LAN  2017-12-12 15:32:00   \n",
       "65532  2017-12-16 13:41:00   265  SCEL  SCTE   LAN  2017-12-16 13:49:00   \n",
       "65533  2017-12-18 15:59:00   265  SCEL  SCTE   LAN  2017-12-18 16:07:00   \n",
       "65534  2017-12-19 15:11:00   265  SCEL  SCTE   LAN  2017-12-19 15:10:00   \n",
       "65535  2017-12-25 16:19:00   265  SCEL  SCTE   LAN  2017-12-25 16:24:00   \n",
       "\n",
       "       Vlo-O Ori-O Des-O Emp-O  DIA  MES   AÑO     DIANOM TIPOVUELO  \\\n",
       "6068     NaN  SCEL  SPJC   56R   19    1  2017     Jueves         I   \n",
       "13906    71R  SCEL  SCIE   SKU   30    3  2017     Jueves         N   \n",
       "13907    71R  SCEL  SCIE   SKU   22    3  2017  Miercoles         N   \n",
       "17055   201R  SCEL  SCIE   LXP   22    3  2017  Miercoles         N   \n",
       "19207    71R  SCEL  SCIE   SKU   25    4  2017     Martes         N   \n",
       "...      ...   ...   ...   ...  ...  ...   ...        ...       ...   \n",
       "65531  265.0  SCEL  SCTE   LXP   12   12  2017     Martes         N   \n",
       "65532  265.0  SCEL  SCTE   LXP   16   12  2017     Sabado         N   \n",
       "65533  265.0  SCEL  SCTE   LXP   18   12  2017      Lunes         N   \n",
       "65534  265.0  SCEL  SCTE   LXP   19   12  2017     Martes         N   \n",
       "65535  265.0  SCEL  SCTE   LXP   25   12  2017      Lunes         N   \n",
       "\n",
       "                      OPERA  SIGLAORI      SIGLADES  \n",
       "6068   Latin American Wings  Santiago          Lima  \n",
       "13906           Sky Airline  Santiago    Concepcion  \n",
       "13907           Sky Airline  Santiago    Concepcion  \n",
       "17055           Grupo LATAM  Santiago    Concepcion  \n",
       "19207           Sky Airline  Santiago    Concepcion  \n",
       "...                     ...       ...           ...  \n",
       "65531           Grupo LATAM  Santiago  Puerto Montt  \n",
       "65532           Grupo LATAM  Santiago  Puerto Montt  \n",
       "65533           Grupo LATAM  Santiago  Puerto Montt  \n",
       "65534           Grupo LATAM  Santiago  Puerto Montt  \n",
       "65535           Grupo LATAM  Santiago  Puerto Montt  \n",
       "\n",
       "[1747 rows x 18 columns]"
      ]
     },
     "execution_count": 18,
     "metadata": {},
     "output_type": "execute_result"
    }
   ],
   "source": [
    "df[df['Vlo-O'].map(lambda x: not can_be_cast_to_type(x, int))]"
   ]
  },
  {
   "cell_type": "markdown",
   "id": "788a3e3d",
   "metadata": {},
   "source": [
    "- NaN value found, looking if can be filled with 0 in case 0 doesn't exist.\n",
    "- Float numbers stored as string, they will be casted to float, then to int (to get rid of the decimal part) and then to string (to be the same as Vlo-I)."
   ]
  },
  {
   "cell_type": "markdown",
   "id": "d2e07273",
   "metadata": {},
   "source": [
    "### Filling NaN"
   ]
  },
  {
   "cell_type": "code",
   "execution_count": 19,
   "id": "b514bf54",
   "metadata": {
    "scrolled": true
   },
   "outputs": [
    {
     "data": {
      "text/html": [
       "<div>\n",
       "<style scoped>\n",
       "    .dataframe tbody tr th:only-of-type {\n",
       "        vertical-align: middle;\n",
       "    }\n",
       "\n",
       "    .dataframe tbody tr th {\n",
       "        vertical-align: top;\n",
       "    }\n",
       "\n",
       "    .dataframe thead th {\n",
       "        text-align: right;\n",
       "    }\n",
       "</style>\n",
       "<table border=\"1\" class=\"dataframe\">\n",
       "  <thead>\n",
       "    <tr style=\"text-align: right;\">\n",
       "      <th></th>\n",
       "      <th>Fecha-I</th>\n",
       "      <th>Vlo-I</th>\n",
       "      <th>Ori-I</th>\n",
       "      <th>Des-I</th>\n",
       "      <th>Emp-I</th>\n",
       "      <th>Fecha-O</th>\n",
       "      <th>Vlo-O</th>\n",
       "      <th>Ori-O</th>\n",
       "      <th>Des-O</th>\n",
       "      <th>Emp-O</th>\n",
       "      <th>DIA</th>\n",
       "      <th>MES</th>\n",
       "      <th>AÑO</th>\n",
       "      <th>DIANOM</th>\n",
       "      <th>TIPOVUELO</th>\n",
       "      <th>OPERA</th>\n",
       "      <th>SIGLAORI</th>\n",
       "      <th>SIGLADES</th>\n",
       "    </tr>\n",
       "  </thead>\n",
       "  <tbody>\n",
       "  </tbody>\n",
       "</table>\n",
       "</div>"
      ],
      "text/plain": [
       "Empty DataFrame\n",
       "Columns: [Fecha-I, Vlo-I, Ori-I, Des-I, Emp-I, Fecha-O, Vlo-O, Ori-O, Des-O, Emp-O, DIA, MES, AÑO, DIANOM, TIPOVUELO, OPERA, SIGLAORI, SIGLADES]\n",
       "Index: []"
      ]
     },
     "execution_count": 19,
     "metadata": {},
     "output_type": "execute_result"
    }
   ],
   "source": [
    "df[(df['Vlo-O'] == 0) | (df['Vlo-I'] == 0)]"
   ]
  },
  {
   "cell_type": "code",
   "execution_count": 20,
   "id": "988dd823",
   "metadata": {},
   "outputs": [],
   "source": [
    "df[['Vlo-O']] = df[['Vlo-O']].fillna(value=0)"
   ]
  },
  {
   "cell_type": "markdown",
   "id": "330174e6",
   "metadata": {},
   "source": [
    "### Fixing types"
   ]
  },
  {
   "cell_type": "code",
   "execution_count": 21,
   "id": "4e23b67f",
   "metadata": {},
   "outputs": [],
   "source": [
    "df['Vlo-O'] = df['Vlo-O'].apply(lambda x: int(float(x)) if can_be_cast_to_type(x, float) else x).astype('string')"
   ]
  },
  {
   "cell_type": "markdown",
   "id": "b266f63d",
   "metadata": {},
   "source": [
    "### Comparing Vlo-I to Vlo-O"
   ]
  },
  {
   "cell_type": "markdown",
   "id": "aaf5114d",
   "metadata": {},
   "source": [
    "Retrieving records where Vlo-I is different than Vlo-O"
   ]
  },
  {
   "cell_type": "code",
   "execution_count": 22,
   "id": "318eda88",
   "metadata": {},
   "outputs": [
    {
     "data": {
      "text/html": [
       "<div>\n",
       "<style scoped>\n",
       "    .dataframe tbody tr th:only-of-type {\n",
       "        vertical-align: middle;\n",
       "    }\n",
       "\n",
       "    .dataframe tbody tr th {\n",
       "        vertical-align: top;\n",
       "    }\n",
       "\n",
       "    .dataframe thead th {\n",
       "        text-align: right;\n",
       "    }\n",
       "</style>\n",
       "<table border=\"1\" class=\"dataframe\">\n",
       "  <thead>\n",
       "    <tr style=\"text-align: right;\">\n",
       "      <th></th>\n",
       "      <th>Vlo-I</th>\n",
       "      <th>Vlo-O</th>\n",
       "    </tr>\n",
       "  </thead>\n",
       "  <tbody>\n",
       "    <tr>\n",
       "      <th>6018</th>\n",
       "      <td>4501</td>\n",
       "      <td>1001</td>\n",
       "    </tr>\n",
       "    <tr>\n",
       "      <th>6020</th>\n",
       "      <td>4501</td>\n",
       "      <td>1001</td>\n",
       "    </tr>\n",
       "    <tr>\n",
       "      <th>6022</th>\n",
       "      <td>4501</td>\n",
       "      <td>1003</td>\n",
       "    </tr>\n",
       "    <tr>\n",
       "      <th>6023</th>\n",
       "      <td>4501</td>\n",
       "      <td>1001</td>\n",
       "    </tr>\n",
       "    <tr>\n",
       "      <th>6025</th>\n",
       "      <td>4501</td>\n",
       "      <td>1001</td>\n",
       "    </tr>\n",
       "    <tr>\n",
       "      <th>...</th>\n",
       "      <td>...</td>\n",
       "      <td>...</td>\n",
       "    </tr>\n",
       "    <tr>\n",
       "      <th>60565</th>\n",
       "      <td>530</td>\n",
       "      <td>534</td>\n",
       "    </tr>\n",
       "    <tr>\n",
       "      <th>61354</th>\n",
       "      <td>7811</td>\n",
       "      <td>1103</td>\n",
       "    </tr>\n",
       "    <tr>\n",
       "      <th>61426</th>\n",
       "      <td>207</td>\n",
       "      <td>207R</td>\n",
       "    </tr>\n",
       "    <tr>\n",
       "      <th>62175</th>\n",
       "      <td>2287</td>\n",
       "      <td>1287</td>\n",
       "    </tr>\n",
       "    <tr>\n",
       "      <th>68068</th>\n",
       "      <td>110</td>\n",
       "      <td>33</td>\n",
       "    </tr>\n",
       "  </tbody>\n",
       "</table>\n",
       "<p>120 rows × 2 columns</p>\n",
       "</div>"
      ],
      "text/plain": [
       "      Vlo-I Vlo-O\n",
       "6018   4501  1001\n",
       "6020   4501  1001\n",
       "6022   4501  1003\n",
       "6023   4501  1001\n",
       "6025   4501  1001\n",
       "...     ...   ...\n",
       "60565   530   534\n",
       "61354  7811  1103\n",
       "61426   207  207R\n",
       "62175  2287  1287\n",
       "68068   110    33\n",
       "\n",
       "[120 rows x 2 columns]"
      ]
     },
     "execution_count": 22,
     "metadata": {},
     "output_type": "execute_result"
    }
   ],
   "source": [
    "df[df['Vlo-I'] != df['Vlo-O']][['Vlo-I', 'Vlo-O']]"
   ]
  },
  {
   "cell_type": "markdown",
   "id": "b55625a1",
   "metadata": {},
   "source": [
    "120 rows is a really small number compared to the 68k records, a new feature might not be helpful in this case."
   ]
  },
  {
   "cell_type": "markdown",
   "id": "1acb1dcc",
   "metadata": {},
   "source": [
    "## Ori-O"
   ]
  },
  {
   "cell_type": "code",
   "execution_count": 23,
   "id": "1c8a4e2e",
   "metadata": {},
   "outputs": [
    {
     "data": {
      "text/plain": [
       "0        SCEL\n",
       "1        SCEL\n",
       "2        SCEL\n",
       "3        SCEL\n",
       "4        SCEL\n",
       "         ... \n",
       "68201    SCEL\n",
       "68202    SCEL\n",
       "68203    SCEL\n",
       "68204    SCEL\n",
       "68205    SCEL\n",
       "Name: Ori-O, Length: 68206, dtype: category\n",
       "Categories (1, object): ['SCEL']"
      ]
     },
     "execution_count": 23,
     "metadata": {},
     "output_type": "execute_result"
    }
   ],
   "source": [
    "df['Ori-O'].astype('category')"
   ]
  },
  {
   "cell_type": "markdown",
   "id": "c78ed156",
   "metadata": {},
   "source": [
    "Same value across all records, this field won't be considered."
   ]
  },
  {
   "cell_type": "markdown",
   "id": "e5bffdb6",
   "metadata": {},
   "source": [
    "## Des-O"
   ]
  },
  {
   "cell_type": "code",
   "execution_count": 24,
   "id": "73dd1b1b",
   "metadata": {
    "scrolled": true
   },
   "outputs": [
    {
     "data": {
      "text/plain": [
       "0        KMIA\n",
       "1        KMIA\n",
       "2        KMIA\n",
       "3        KMIA\n",
       "4        KMIA\n",
       "         ... \n",
       "68201    SPJC\n",
       "68202    SPJC\n",
       "68203    SPJC\n",
       "68204    SPJC\n",
       "68205    SPJC\n",
       "Name: Des-O, Length: 68206, dtype: category\n",
       "Categories (63, object): ['CYYZ', 'EGLL', 'EGYP', 'KATL', ..., 'SULS', 'SUMU', 'YMML', 'YSSY']"
      ]
     },
     "execution_count": 24,
     "metadata": {},
     "output_type": "execute_result"
    }
   ],
   "source": [
    "df['Des-O'].astype('category')"
   ]
  },
  {
   "cell_type": "code",
   "execution_count": 25,
   "id": "e64870e2",
   "metadata": {},
   "outputs": [
    {
     "data": {
      "text/plain": [
       "<AxesSubplot:>"
      ]
     },
     "execution_count": 25,
     "metadata": {},
     "output_type": "execute_result"
    },
    {
     "data": {
      "image/png": "[encoded data removed]",
      "text/plain": [
       "<Figure size 1800x1080 with 1 Axes>"
      ]
     },
     "metadata": {
      "needs_background": "light"
     },
     "output_type": "display_data"
    }
   ],
   "source": [
    "df['Des-O'].value_counts().plot.bar(figsize=(25,15))"
   ]
  },
  {
   "cell_type": "markdown",
   "id": "7e43d65f",
   "metadata": {},
   "source": [
    "Comparing Des-I to Des-O"
   ]
  },
  {
   "cell_type": "code",
   "execution_count": 26,
   "id": "e00fe7d6",
   "metadata": {
    "scrolled": true
   },
   "outputs": [
    {
     "data": {
      "text/html": [
       "<div>\n",
       "<style scoped>\n",
       "    .dataframe tbody tr th:only-of-type {\n",
       "        vertical-align: middle;\n",
       "    }\n",
       "\n",
       "    .dataframe tbody tr th {\n",
       "        vertical-align: top;\n",
       "    }\n",
       "\n",
       "    .dataframe thead th {\n",
       "        text-align: right;\n",
       "    }\n",
       "</style>\n",
       "<table border=\"1\" class=\"dataframe\">\n",
       "  <thead>\n",
       "    <tr style=\"text-align: right;\">\n",
       "      <th></th>\n",
       "      <th>Fecha-I</th>\n",
       "      <th>Vlo-I</th>\n",
       "      <th>Ori-I</th>\n",
       "      <th>Des-I</th>\n",
       "      <th>Emp-I</th>\n",
       "      <th>Fecha-O</th>\n",
       "      <th>Vlo-O</th>\n",
       "      <th>Ori-O</th>\n",
       "      <th>Des-O</th>\n",
       "      <th>Emp-O</th>\n",
       "      <th>DIA</th>\n",
       "      <th>MES</th>\n",
       "      <th>AÑO</th>\n",
       "      <th>DIANOM</th>\n",
       "      <th>TIPOVUELO</th>\n",
       "      <th>OPERA</th>\n",
       "      <th>SIGLAORI</th>\n",
       "      <th>SIGLADES</th>\n",
       "    </tr>\n",
       "  </thead>\n",
       "  <tbody>\n",
       "    <tr>\n",
       "      <th>1397</th>\n",
       "      <td>2017-01-17 19:20:00</td>\n",
       "      <td>25</td>\n",
       "      <td>SCEL</td>\n",
       "      <td>SCTE</td>\n",
       "      <td>SKU</td>\n",
       "      <td>2017-01-17 19:46:00</td>\n",
       "      <td>25</td>\n",
       "      <td>SCEL</td>\n",
       "      <td>SCQP</td>\n",
       "      <td>SKU</td>\n",
       "      <td>17</td>\n",
       "      <td>1</td>\n",
       "      <td>2017</td>\n",
       "      <td>Martes</td>\n",
       "      <td>N</td>\n",
       "      <td>Sky Airline</td>\n",
       "      <td>Santiago</td>\n",
       "      <td>Temuco</td>\n",
       "    </tr>\n",
       "    <tr>\n",
       "      <th>7290</th>\n",
       "      <td>2017-02-15 06:25:00</td>\n",
       "      <td>11</td>\n",
       "      <td>SCEL</td>\n",
       "      <td>SCTE</td>\n",
       "      <td>SKU</td>\n",
       "      <td>2017-02-15 06:25:00</td>\n",
       "      <td>11</td>\n",
       "      <td>SCEL</td>\n",
       "      <td>SCQP</td>\n",
       "      <td>SKU</td>\n",
       "      <td>15</td>\n",
       "      <td>2</td>\n",
       "      <td>2017</td>\n",
       "      <td>Miercoles</td>\n",
       "      <td>N</td>\n",
       "      <td>Sky Airline</td>\n",
       "      <td>Santiago</td>\n",
       "      <td>Temuco</td>\n",
       "    </tr>\n",
       "    <tr>\n",
       "      <th>7520</th>\n",
       "      <td>2017-02-27 06:40:00</td>\n",
       "      <td>71</td>\n",
       "      <td>SCEL</td>\n",
       "      <td>SCIE</td>\n",
       "      <td>SKU</td>\n",
       "      <td>2017-02-27 09:07:00</td>\n",
       "      <td>71</td>\n",
       "      <td>SCEL</td>\n",
       "      <td>SCQP</td>\n",
       "      <td>SKU</td>\n",
       "      <td>27</td>\n",
       "      <td>2</td>\n",
       "      <td>2017</td>\n",
       "      <td>Lunes</td>\n",
       "      <td>N</td>\n",
       "      <td>Sky Airline</td>\n",
       "      <td>Santiago</td>\n",
       "      <td>Temuco</td>\n",
       "    </tr>\n",
       "    <tr>\n",
       "      <th>8456</th>\n",
       "      <td>2017-02-15 06:10:00</td>\n",
       "      <td>57</td>\n",
       "      <td>SCEL</td>\n",
       "      <td>SCTE</td>\n",
       "      <td>LAN</td>\n",
       "      <td>2017-02-15 06:12:00</td>\n",
       "      <td>57</td>\n",
       "      <td>SCEL</td>\n",
       "      <td>SCQP</td>\n",
       "      <td>LAN</td>\n",
       "      <td>15</td>\n",
       "      <td>2</td>\n",
       "      <td>2017</td>\n",
       "      <td>Miercoles</td>\n",
       "      <td>N</td>\n",
       "      <td>Grupo LATAM</td>\n",
       "      <td>Santiago</td>\n",
       "      <td>Temuco</td>\n",
       "    </tr>\n",
       "    <tr>\n",
       "      <th>12787</th>\n",
       "      <td>2017-03-18 06:25:00</td>\n",
       "      <td>11</td>\n",
       "      <td>SCEL</td>\n",
       "      <td>SCTE</td>\n",
       "      <td>SKU</td>\n",
       "      <td>2017-03-18 06:29:00</td>\n",
       "      <td>11</td>\n",
       "      <td>SCEL</td>\n",
       "      <td>SCQP</td>\n",
       "      <td>SKU</td>\n",
       "      <td>18</td>\n",
       "      <td>3</td>\n",
       "      <td>2017</td>\n",
       "      <td>Sabado</td>\n",
       "      <td>N</td>\n",
       "      <td>Sky Airline</td>\n",
       "      <td>Santiago</td>\n",
       "      <td>Temuco</td>\n",
       "    </tr>\n",
       "    <tr>\n",
       "      <th>12823</th>\n",
       "      <td>2017-03-22 12:50:00</td>\n",
       "      <td>17</td>\n",
       "      <td>SCEL</td>\n",
       "      <td>SCBA</td>\n",
       "      <td>SKU</td>\n",
       "      <td>2017-03-22 12:48:00</td>\n",
       "      <td>17</td>\n",
       "      <td>SCEL</td>\n",
       "      <td>SCTE</td>\n",
       "      <td>SKU</td>\n",
       "      <td>22</td>\n",
       "      <td>3</td>\n",
       "      <td>2017</td>\n",
       "      <td>Miercoles</td>\n",
       "      <td>N</td>\n",
       "      <td>Sky Airline</td>\n",
       "      <td>Santiago</td>\n",
       "      <td>Puerto Montt</td>\n",
       "    </tr>\n",
       "    <tr>\n",
       "      <th>16169</th>\n",
       "      <td>2017-03-13 23:20:00</td>\n",
       "      <td>532</td>\n",
       "      <td>SCEL</td>\n",
       "      <td>KJFK</td>\n",
       "      <td>LAN</td>\n",
       "      <td>2017-03-14 01:35:00</td>\n",
       "      <td>1346</td>\n",
       "      <td>SCEL</td>\n",
       "      <td>KMIA</td>\n",
       "      <td>LAN</td>\n",
       "      <td>14</td>\n",
       "      <td>3</td>\n",
       "      <td>2017</td>\n",
       "      <td>Martes</td>\n",
       "      <td>I</td>\n",
       "      <td>Grupo LATAM</td>\n",
       "      <td>Santiago</td>\n",
       "      <td>Miami</td>\n",
       "    </tr>\n",
       "    <tr>\n",
       "      <th>16937</th>\n",
       "      <td>2017-03-22 17:00:00</td>\n",
       "      <td>1446</td>\n",
       "      <td>SCEL</td>\n",
       "      <td>SEGU</td>\n",
       "      <td>LAN</td>\n",
       "      <td>2017-03-22 17:11:00</td>\n",
       "      <td>1361</td>\n",
       "      <td>SCEL</td>\n",
       "      <td>SABE</td>\n",
       "      <td>LAN</td>\n",
       "      <td>22</td>\n",
       "      <td>3</td>\n",
       "      <td>2017</td>\n",
       "      <td>Miercoles</td>\n",
       "      <td>I</td>\n",
       "      <td>Grupo LATAM</td>\n",
       "      <td>Santiago</td>\n",
       "      <td>Buenos Aires</td>\n",
       "    </tr>\n",
       "    <tr>\n",
       "      <th>18293</th>\n",
       "      <td>2017-04-14 18:40:00</td>\n",
       "      <td>25</td>\n",
       "      <td>SCEL</td>\n",
       "      <td>SCTE</td>\n",
       "      <td>SKU</td>\n",
       "      <td>2017-04-14 18:48:00</td>\n",
       "      <td>25</td>\n",
       "      <td>SCEL</td>\n",
       "      <td>SCQP</td>\n",
       "      <td>SKU</td>\n",
       "      <td>14</td>\n",
       "      <td>4</td>\n",
       "      <td>2017</td>\n",
       "      <td>Viernes</td>\n",
       "      <td>N</td>\n",
       "      <td>Sky Airline</td>\n",
       "      <td>Santiago</td>\n",
       "      <td>Temuco</td>\n",
       "    </tr>\n",
       "    <tr>\n",
       "      <th>20444</th>\n",
       "      <td>2017-04-14 22:00:00</td>\n",
       "      <td>289</td>\n",
       "      <td>SCEL</td>\n",
       "      <td>SCTE</td>\n",
       "      <td>LAN</td>\n",
       "      <td>2017-04-14 22:01:00</td>\n",
       "      <td>289</td>\n",
       "      <td>SCEL</td>\n",
       "      <td>SCCI</td>\n",
       "      <td>LXP</td>\n",
       "      <td>14</td>\n",
       "      <td>4</td>\n",
       "      <td>2017</td>\n",
       "      <td>Viernes</td>\n",
       "      <td>N</td>\n",
       "      <td>Grupo LATAM</td>\n",
       "      <td>Santiago</td>\n",
       "      <td>Punta Arenas</td>\n",
       "    </tr>\n",
       "    <tr>\n",
       "      <th>24569</th>\n",
       "      <td>2017-05-13 18:25:00</td>\n",
       "      <td>136</td>\n",
       "      <td>SCEL</td>\n",
       "      <td>SCFA</td>\n",
       "      <td>LAN</td>\n",
       "      <td>2017-05-13 18:24:00</td>\n",
       "      <td>136</td>\n",
       "      <td>SCEL</td>\n",
       "      <td>SCCF</td>\n",
       "      <td>LAN</td>\n",
       "      <td>13</td>\n",
       "      <td>5</td>\n",
       "      <td>2017</td>\n",
       "      <td>Sabado</td>\n",
       "      <td>N</td>\n",
       "      <td>Grupo LATAM</td>\n",
       "      <td>Santiago</td>\n",
       "      <td>Calama</td>\n",
       "    </tr>\n",
       "    <tr>\n",
       "      <th>25419</th>\n",
       "      <td>2017-05-09 08:30:00</td>\n",
       "      <td>271</td>\n",
       "      <td>SCEL</td>\n",
       "      <td>SCBA</td>\n",
       "      <td>LAN</td>\n",
       "      <td>2017-05-09 08:31:00</td>\n",
       "      <td>271</td>\n",
       "      <td>SCEL</td>\n",
       "      <td>SCTE</td>\n",
       "      <td>LXP</td>\n",
       "      <td>9</td>\n",
       "      <td>5</td>\n",
       "      <td>2017</td>\n",
       "      <td>Martes</td>\n",
       "      <td>N</td>\n",
       "      <td>Grupo LATAM</td>\n",
       "      <td>Santiago</td>\n",
       "      <td>Puerto Montt</td>\n",
       "    </tr>\n",
       "    <tr>\n",
       "      <th>25422</th>\n",
       "      <td>2017-05-12 08:25:00</td>\n",
       "      <td>271</td>\n",
       "      <td>SCEL</td>\n",
       "      <td>SCBA</td>\n",
       "      <td>LAN</td>\n",
       "      <td>2017-05-12 08:36:00</td>\n",
       "      <td>271</td>\n",
       "      <td>SCEL</td>\n",
       "      <td>SCTE</td>\n",
       "      <td>LXP</td>\n",
       "      <td>12</td>\n",
       "      <td>5</td>\n",
       "      <td>2017</td>\n",
       "      <td>Viernes</td>\n",
       "      <td>N</td>\n",
       "      <td>Grupo LATAM</td>\n",
       "      <td>Santiago</td>\n",
       "      <td>Puerto Montt</td>\n",
       "    </tr>\n",
       "    <tr>\n",
       "      <th>25492</th>\n",
       "      <td>2017-05-12 09:15:00</td>\n",
       "      <td>279</td>\n",
       "      <td>SCEL</td>\n",
       "      <td>SCBA</td>\n",
       "      <td>LAN</td>\n",
       "      <td>2017-05-12 09:26:00</td>\n",
       "      <td>279</td>\n",
       "      <td>SCEL</td>\n",
       "      <td>SCTE</td>\n",
       "      <td>LXP</td>\n",
       "      <td>12</td>\n",
       "      <td>5</td>\n",
       "      <td>2017</td>\n",
       "      <td>Viernes</td>\n",
       "      <td>N</td>\n",
       "      <td>Grupo LATAM</td>\n",
       "      <td>Santiago</td>\n",
       "      <td>Puerto Montt</td>\n",
       "    </tr>\n",
       "    <tr>\n",
       "      <th>33166</th>\n",
       "      <td>2017-07-04 01:25:00</td>\n",
       "      <td>9261</td>\n",
       "      <td>SCEL</td>\n",
       "      <td>SBGR</td>\n",
       "      <td>GLO</td>\n",
       "      <td>2017-07-04 01:19:00</td>\n",
       "      <td>9261</td>\n",
       "      <td>SCEL</td>\n",
       "      <td>SBGL</td>\n",
       "      <td>GLO</td>\n",
       "      <td>4</td>\n",
       "      <td>7</td>\n",
       "      <td>2017</td>\n",
       "      <td>Martes</td>\n",
       "      <td>I</td>\n",
       "      <td>Gol Trans</td>\n",
       "      <td>Santiago</td>\n",
       "      <td>Rio de Janeiro</td>\n",
       "    </tr>\n",
       "    <tr>\n",
       "      <th>37162</th>\n",
       "      <td>2017-07-26 08:45:00</td>\n",
       "      <td>455</td>\n",
       "      <td>SCEL</td>\n",
       "      <td>SABE</td>\n",
       "      <td>LAN</td>\n",
       "      <td>2017-07-26 09:45:00</td>\n",
       "      <td>1155</td>\n",
       "      <td>SCEL</td>\n",
       "      <td>SAEZ</td>\n",
       "      <td>LAN</td>\n",
       "      <td>26</td>\n",
       "      <td>7</td>\n",
       "      <td>2017</td>\n",
       "      <td>Miercoles</td>\n",
       "      <td>I</td>\n",
       "      <td>Grupo LATAM</td>\n",
       "      <td>Santiago</td>\n",
       "      <td>Buenos Aires</td>\n",
       "    </tr>\n",
       "    <tr>\n",
       "      <th>38094</th>\n",
       "      <td>2017-07-03 07:55:00</td>\n",
       "      <td>7811</td>\n",
       "      <td>SCEL</td>\n",
       "      <td>SABE</td>\n",
       "      <td>LAN</td>\n",
       "      <td>2017-07-03 08:03:00</td>\n",
       "      <td>1111</td>\n",
       "      <td>SCEL</td>\n",
       "      <td>SAEZ</td>\n",
       "      <td>LAN</td>\n",
       "      <td>3</td>\n",
       "      <td>7</td>\n",
       "      <td>2017</td>\n",
       "      <td>Lunes</td>\n",
       "      <td>I</td>\n",
       "      <td>Grupo LATAM</td>\n",
       "      <td>Santiago</td>\n",
       "      <td>Buenos Aires</td>\n",
       "    </tr>\n",
       "    <tr>\n",
       "      <th>38135</th>\n",
       "      <td>2017-07-17 16:00:00</td>\n",
       "      <td>7813</td>\n",
       "      <td>SCEL</td>\n",
       "      <td>SABE</td>\n",
       "      <td>LAN</td>\n",
       "      <td>2017-07-17 16:41:00</td>\n",
       "      <td>1113</td>\n",
       "      <td>SCEL</td>\n",
       "      <td>SAEZ</td>\n",
       "      <td>LAN</td>\n",
       "      <td>17</td>\n",
       "      <td>7</td>\n",
       "      <td>2017</td>\n",
       "      <td>Lunes</td>\n",
       "      <td>I</td>\n",
       "      <td>Grupo LATAM</td>\n",
       "      <td>Santiago</td>\n",
       "      <td>Buenos Aires</td>\n",
       "    </tr>\n",
       "    <tr>\n",
       "      <th>38136</th>\n",
       "      <td>2017-07-18 16:00:00</td>\n",
       "      <td>7813</td>\n",
       "      <td>SCEL</td>\n",
       "      <td>SABE</td>\n",
       "      <td>LAN</td>\n",
       "      <td>2017-07-18 16:31:00</td>\n",
       "      <td>1113</td>\n",
       "      <td>SCEL</td>\n",
       "      <td>SAEZ</td>\n",
       "      <td>LAN</td>\n",
       "      <td>18</td>\n",
       "      <td>7</td>\n",
       "      <td>2017</td>\n",
       "      <td>Martes</td>\n",
       "      <td>I</td>\n",
       "      <td>Grupo LATAM</td>\n",
       "      <td>Santiago</td>\n",
       "      <td>Buenos Aires</td>\n",
       "    </tr>\n",
       "    <tr>\n",
       "      <th>39265</th>\n",
       "      <td>2017-08-29 21:55:00</td>\n",
       "      <td>846</td>\n",
       "      <td>SCEL</td>\n",
       "      <td>KIAH</td>\n",
       "      <td>UAL</td>\n",
       "      <td>2017-08-29 21:55:00</td>\n",
       "      <td>2763</td>\n",
       "      <td>SCEL</td>\n",
       "      <td>KIAD</td>\n",
       "      <td>UAL</td>\n",
       "      <td>29</td>\n",
       "      <td>8</td>\n",
       "      <td>2017</td>\n",
       "      <td>Martes</td>\n",
       "      <td>I</td>\n",
       "      <td>United Airlines</td>\n",
       "      <td>Santiago</td>\n",
       "      <td>Washington</td>\n",
       "    </tr>\n",
       "    <tr>\n",
       "      <th>42112</th>\n",
       "      <td>2017-08-07 11:00:00</td>\n",
       "      <td>293</td>\n",
       "      <td>SCEL</td>\n",
       "      <td>SCCI</td>\n",
       "      <td>LAN</td>\n",
       "      <td>2017-08-07 11:07:00</td>\n",
       "      <td>293</td>\n",
       "      <td>SCEL</td>\n",
       "      <td>SCTE</td>\n",
       "      <td>LXP</td>\n",
       "      <td>7</td>\n",
       "      <td>8</td>\n",
       "      <td>2017</td>\n",
       "      <td>Lunes</td>\n",
       "      <td>N</td>\n",
       "      <td>Grupo LATAM</td>\n",
       "      <td>Santiago</td>\n",
       "      <td>Puerto Montt</td>\n",
       "    </tr>\n",
       "    <tr>\n",
       "      <th>55144</th>\n",
       "      <td>2017-10-06 00:55:00</td>\n",
       "      <td>1260</td>\n",
       "      <td>SCEL</td>\n",
       "      <td>SEQU</td>\n",
       "      <td>LAN</td>\n",
       "      <td>2017-10-06 02:15:00</td>\n",
       "      <td>1260</td>\n",
       "      <td>SCEL</td>\n",
       "      <td>SEQM</td>\n",
       "      <td>LAN</td>\n",
       "      <td>6</td>\n",
       "      <td>10</td>\n",
       "      <td>2017</td>\n",
       "      <td>Viernes</td>\n",
       "      <td>I</td>\n",
       "      <td>Grupo LATAM</td>\n",
       "      <td>Santiago</td>\n",
       "      <td>Quito</td>\n",
       "    </tr>\n",
       "    <tr>\n",
       "      <th>61463</th>\n",
       "      <td>2017-11-06 06:00:00</td>\n",
       "      <td>1031</td>\n",
       "      <td>SCEL</td>\n",
       "      <td>SCIE</td>\n",
       "      <td>LAW</td>\n",
       "      <td>2017-11-06 08:01:00</td>\n",
       "      <td>1031</td>\n",
       "      <td>SCEL</td>\n",
       "      <td>SCTE</td>\n",
       "      <td>JMR</td>\n",
       "      <td>6</td>\n",
       "      <td>11</td>\n",
       "      <td>2017</td>\n",
       "      <td>Lunes</td>\n",
       "      <td>N</td>\n",
       "      <td>Latin American Wings</td>\n",
       "      <td>Santiago</td>\n",
       "      <td>Puerto Montt</td>\n",
       "    </tr>\n",
       "    <tr>\n",
       "      <th>62651</th>\n",
       "      <td>2017-12-10 13:35:00</td>\n",
       "      <td>28</td>\n",
       "      <td>SCEL</td>\n",
       "      <td>YSSY</td>\n",
       "      <td>QFU</td>\n",
       "      <td>2017-12-10 13:40:00</td>\n",
       "      <td>28</td>\n",
       "      <td>SCEL</td>\n",
       "      <td>YMML</td>\n",
       "      <td>QFA</td>\n",
       "      <td>10</td>\n",
       "      <td>12</td>\n",
       "      <td>2017</td>\n",
       "      <td>Domingo</td>\n",
       "      <td>I</td>\n",
       "      <td>Qantas Airways</td>\n",
       "      <td>Santiago</td>\n",
       "      <td>Melbourne</td>\n",
       "    </tr>\n",
       "    <tr>\n",
       "      <th>67599</th>\n",
       "      <td>2017-12-01 11:20:00</td>\n",
       "      <td>7811</td>\n",
       "      <td>SCEL</td>\n",
       "      <td>SAEZ</td>\n",
       "      <td>LAN</td>\n",
       "      <td>2017-12-01 11:22:00</td>\n",
       "      <td>7811</td>\n",
       "      <td>SCEL</td>\n",
       "      <td>SABE</td>\n",
       "      <td>DSM</td>\n",
       "      <td>1</td>\n",
       "      <td>12</td>\n",
       "      <td>2017</td>\n",
       "      <td>Viernes</td>\n",
       "      <td>I</td>\n",
       "      <td>Grupo LATAM</td>\n",
       "      <td>Santiago</td>\n",
       "      <td>Buenos Aires</td>\n",
       "    </tr>\n",
       "    <tr>\n",
       "      <th>67600</th>\n",
       "      <td>2017-12-02 11:15:00</td>\n",
       "      <td>7811</td>\n",
       "      <td>SCEL</td>\n",
       "      <td>SAEZ</td>\n",
       "      <td>LAN</td>\n",
       "      <td>2017-12-02 11:21:00</td>\n",
       "      <td>7811</td>\n",
       "      <td>SCEL</td>\n",
       "      <td>SABE</td>\n",
       "      <td>DSM</td>\n",
       "      <td>2</td>\n",
       "      <td>12</td>\n",
       "      <td>2017</td>\n",
       "      <td>Sabado</td>\n",
       "      <td>I</td>\n",
       "      <td>Grupo LATAM</td>\n",
       "      <td>Santiago</td>\n",
       "      <td>Buenos Aires</td>\n",
       "    </tr>\n",
       "    <tr>\n",
       "      <th>67601</th>\n",
       "      <td>2017-12-03 11:20:00</td>\n",
       "      <td>7811</td>\n",
       "      <td>SCEL</td>\n",
       "      <td>SAEZ</td>\n",
       "      <td>LAN</td>\n",
       "      <td>2017-12-03 11:30:00</td>\n",
       "      <td>7811</td>\n",
       "      <td>SCEL</td>\n",
       "      <td>SABE</td>\n",
       "      <td>DSM</td>\n",
       "      <td>3</td>\n",
       "      <td>12</td>\n",
       "      <td>2017</td>\n",
       "      <td>Domingo</td>\n",
       "      <td>I</td>\n",
       "      <td>Grupo LATAM</td>\n",
       "      <td>Santiago</td>\n",
       "      <td>Buenos Aires</td>\n",
       "    </tr>\n",
       "    <tr>\n",
       "      <th>67697</th>\n",
       "      <td>2017-12-16 02:45:00</td>\n",
       "      <td>1261</td>\n",
       "      <td>SCEL</td>\n",
       "      <td>SARI</td>\n",
       "      <td>LAN</td>\n",
       "      <td>2017-12-16 02:43:00</td>\n",
       "      <td>1261</td>\n",
       "      <td>SCEL</td>\n",
       "      <td>SBFI</td>\n",
       "      <td>LAN</td>\n",
       "      <td>16</td>\n",
       "      <td>12</td>\n",
       "      <td>2017</td>\n",
       "      <td>Sabado</td>\n",
       "      <td>I</td>\n",
       "      <td>Grupo LATAM</td>\n",
       "      <td>Santiago</td>\n",
       "      <td>Cataratas Iguacu</td>\n",
       "    </tr>\n",
       "  </tbody>\n",
       "</table>\n",
       "</div>"
      ],
      "text/plain": [
       "                   Fecha-I Vlo-I Ori-I Des-I Emp-I              Fecha-O Vlo-O  \\\n",
       "1397   2017-01-17 19:20:00    25  SCEL  SCTE   SKU  2017-01-17 19:46:00    25   \n",
       "7290   2017-02-15 06:25:00    11  SCEL  SCTE   SKU  2017-02-15 06:25:00    11   \n",
       "7520   2017-02-27 06:40:00    71  SCEL  SCIE   SKU  2017-02-27 09:07:00    71   \n",
       "8456   2017-02-15 06:10:00    57  SCEL  SCTE   LAN  2017-02-15 06:12:00    57   \n",
       "12787  2017-03-18 06:25:00    11  SCEL  SCTE   SKU  2017-03-18 06:29:00    11   \n",
       "12823  2017-03-22 12:50:00    17  SCEL  SCBA   SKU  2017-03-22 12:48:00    17   \n",
       "16169  2017-03-13 23:20:00   532  SCEL  KJFK   LAN  2017-03-14 01:35:00  1346   \n",
       "16937  2017-03-22 17:00:00  1446  SCEL  SEGU   LAN  2017-03-22 17:11:00  1361   \n",
       "18293  2017-04-14 18:40:00    25  SCEL  SCTE   SKU  2017-04-14 18:48:00    25   \n",
       "20444  2017-04-14 22:00:00   289  SCEL  SCTE   LAN  2017-04-14 22:01:00   289   \n",
       "24569  2017-05-13 18:25:00   136  SCEL  SCFA   LAN  2017-05-13 18:24:00   136   \n",
       "25419  2017-05-09 08:30:00   271  SCEL  SCBA   LAN  2017-05-09 08:31:00   271   \n",
       "25422  2017-05-12 08:25:00   271  SCEL  SCBA   LAN  2017-05-12 08:36:00   271   \n",
       "25492  2017-05-12 09:15:00   279  SCEL  SCBA   LAN  2017-05-12 09:26:00   279   \n",
       "33166  2017-07-04 01:25:00  9261  SCEL  SBGR   GLO  2017-07-04 01:19:00  9261   \n",
       "37162  2017-07-26 08:45:00   455  SCEL  SABE   LAN  2017-07-26 09:45:00  1155   \n",
       "38094  2017-07-03 07:55:00  7811  SCEL  SABE   LAN  2017-07-03 08:03:00  1111   \n",
       "38135  2017-07-17 16:00:00  7813  SCEL  SABE   LAN  2017-07-17 16:41:00  1113   \n",
       "38136  2017-07-18 16:00:00  7813  SCEL  SABE   LAN  2017-07-18 16:31:00  1113   \n",
       "39265  2017-08-29 21:55:00   846  SCEL  KIAH   UAL  2017-08-29 21:55:00  2763   \n",
       "42112  2017-08-07 11:00:00   293  SCEL  SCCI   LAN  2017-08-07 11:07:00   293   \n",
       "55144  2017-10-06 00:55:00  1260  SCEL  SEQU   LAN  2017-10-06 02:15:00  1260   \n",
       "61463  2017-11-06 06:00:00  1031  SCEL  SCIE   LAW  2017-11-06 08:01:00  1031   \n",
       "62651  2017-12-10 13:35:00    28  SCEL  YSSY   QFU  2017-12-10 13:40:00    28   \n",
       "67599  2017-12-01 11:20:00  7811  SCEL  SAEZ   LAN  2017-12-01 11:22:00  7811   \n",
       "67600  2017-12-02 11:15:00  7811  SCEL  SAEZ   LAN  2017-12-02 11:21:00  7811   \n",
       "67601  2017-12-03 11:20:00  7811  SCEL  SAEZ   LAN  2017-12-03 11:30:00  7811   \n",
       "67697  2017-12-16 02:45:00  1261  SCEL  SARI   LAN  2017-12-16 02:43:00  1261   \n",
       "\n",
       "      Ori-O Des-O Emp-O  DIA  MES   AÑO     DIANOM TIPOVUELO  \\\n",
       "1397   SCEL  SCQP   SKU   17    1  2017     Martes         N   \n",
       "7290   SCEL  SCQP   SKU   15    2  2017  Miercoles         N   \n",
       "7520   SCEL  SCQP   SKU   27    2  2017      Lunes         N   \n",
       "8456   SCEL  SCQP   LAN   15    2  2017  Miercoles         N   \n",
       "12787  SCEL  SCQP   SKU   18    3  2017     Sabado         N   \n",
       "12823  SCEL  SCTE   SKU   22    3  2017  Miercoles         N   \n",
       "16169  SCEL  KMIA   LAN   14    3  2017     Martes         I   \n",
       "16937  SCEL  SABE   LAN   22    3  2017  Miercoles         I   \n",
       "18293  SCEL  SCQP   SKU   14    4  2017    Viernes         N   \n",
       "20444  SCEL  SCCI   LXP   14    4  2017    Viernes         N   \n",
       "24569  SCEL  SCCF   LAN   13    5  2017     Sabado         N   \n",
       "25419  SCEL  SCTE   LXP    9    5  2017     Martes         N   \n",
       "25422  SCEL  SCTE   LXP   12    5  2017    Viernes         N   \n",
       "25492  SCEL  SCTE   LXP   12    5  2017    Viernes         N   \n",
       "33166  SCEL  SBGL   GLO    4    7  2017     Martes         I   \n",
       "37162  SCEL  SAEZ   LAN   26    7  2017  Miercoles         I   \n",
       "38094  SCEL  SAEZ   LAN    3    7  2017      Lunes         I   \n",
       "38135  SCEL  SAEZ   LAN   17    7  2017      Lunes         I   \n",
       "38136  SCEL  SAEZ   LAN   18    7  2017     Martes         I   \n",
       "39265  SCEL  KIAD   UAL   29    8  2017     Martes         I   \n",
       "42112  SCEL  SCTE   LXP    7    8  2017      Lunes         N   \n",
       "55144  SCEL  SEQM   LAN    6   10  2017    Viernes         I   \n",
       "61463  SCEL  SCTE   JMR    6   11  2017      Lunes         N   \n",
       "62651  SCEL  YMML   QFA   10   12  2017    Domingo         I   \n",
       "67599  SCEL  SABE   DSM    1   12  2017    Viernes         I   \n",
       "67600  SCEL  SABE   DSM    2   12  2017     Sabado         I   \n",
       "67601  SCEL  SABE   DSM    3   12  2017    Domingo         I   \n",
       "67697  SCEL  SBFI   LAN   16   12  2017     Sabado         I   \n",
       "\n",
       "                      OPERA  SIGLAORI          SIGLADES  \n",
       "1397            Sky Airline  Santiago            Temuco  \n",
       "7290            Sky Airline  Santiago            Temuco  \n",
       "7520            Sky Airline  Santiago            Temuco  \n",
       "8456            Grupo LATAM  Santiago            Temuco  \n",
       "12787           Sky Airline  Santiago            Temuco  \n",
       "12823           Sky Airline  Santiago      Puerto Montt  \n",
       "16169           Grupo LATAM  Santiago             Miami  \n",
       "16937           Grupo LATAM  Santiago      Buenos Aires  \n",
       "18293           Sky Airline  Santiago            Temuco  \n",
       "20444           Grupo LATAM  Santiago      Punta Arenas  \n",
       "24569           Grupo LATAM  Santiago            Calama  \n",
       "25419           Grupo LATAM  Santiago      Puerto Montt  \n",
       "25422           Grupo LATAM  Santiago      Puerto Montt  \n",
       "25492           Grupo LATAM  Santiago      Puerto Montt  \n",
       "33166             Gol Trans  Santiago    Rio de Janeiro  \n",
       "37162           Grupo LATAM  Santiago      Buenos Aires  \n",
       "38094           Grupo LATAM  Santiago      Buenos Aires  \n",
       "38135           Grupo LATAM  Santiago      Buenos Aires  \n",
       "38136           Grupo LATAM  Santiago      Buenos Aires  \n",
       "39265       United Airlines  Santiago        Washington  \n",
       "42112           Grupo LATAM  Santiago      Puerto Montt  \n",
       "55144           Grupo LATAM  Santiago             Quito  \n",
       "61463  Latin American Wings  Santiago      Puerto Montt  \n",
       "62651        Qantas Airways  Santiago         Melbourne  \n",
       "67599           Grupo LATAM  Santiago      Buenos Aires  \n",
       "67600           Grupo LATAM  Santiago      Buenos Aires  \n",
       "67601           Grupo LATAM  Santiago      Buenos Aires  \n",
       "67697           Grupo LATAM  Santiago  Cataratas Iguacu  "
      ]
     },
     "execution_count": 26,
     "metadata": {},
     "output_type": "execute_result"
    }
   ],
   "source": [
    "df[df['Des-I'] != df['Des-O']]"
   ]
  },
  {
   "cell_type": "code",
   "execution_count": 27,
   "id": "7d6b5da8",
   "metadata": {},
   "outputs": [
    {
     "data": {
      "text/plain": [
       "28"
      ]
     },
     "execution_count": 27,
     "metadata": {},
     "output_type": "execute_result"
    }
   ],
   "source": [
    "len(df[df['Des-I'] != df['Des-O']])"
   ]
  },
  {
   "cell_type": "markdown",
   "id": "13ed7770",
   "metadata": {},
   "source": [
    "There are few cases of this, a new feature might not be helpful in this case"
   ]
  },
  {
   "cell_type": "markdown",
   "id": "de8a3e97",
   "metadata": {},
   "source": [
    "## Emp-O"
   ]
  },
  {
   "cell_type": "code",
   "execution_count": 28,
   "id": "fe0e9724",
   "metadata": {},
   "outputs": [
    {
     "data": {
      "text/plain": [
       "0        AAL\n",
       "1        AAL\n",
       "2        AAL\n",
       "3        AAL\n",
       "4        AAL\n",
       "        ... \n",
       "68201    JAT\n",
       "68202    JAT\n",
       "68203    JAT\n",
       "68204    JAT\n",
       "68205    JAT\n",
       "Name: Emp-O, Length: 68206, dtype: category\n",
       "Categories (32, object): ['48O', '56R', 'AAL', 'ACA', ..., 'SKU', 'TAM', 'TPU', 'UAL']"
      ]
     },
     "execution_count": 28,
     "metadata": {},
     "output_type": "execute_result"
    }
   ],
   "source": [
    "df['Emp-O'].astype('category')"
   ]
  },
  {
   "cell_type": "code",
   "execution_count": 29,
   "id": "3e9a6c20",
   "metadata": {
    "scrolled": false
   },
   "outputs": [
    {
     "data": {
      "text/plain": [
       "<AxesSubplot:>"
      ]
     },
     "execution_count": 29,
     "metadata": {},
     "output_type": "execute_result"
    },
    {
     "data": {
      "image/png": "[encoded data removed]",
      "text/plain": [
       "<Figure size 1800x1080 with 1 Axes>"
      ]
     },
     "metadata": {
      "needs_background": "light"
     },
     "output_type": "display_data"
    }
   ],
   "source": [
    "df['Emp-O'].value_counts().plot.bar(figsize=(25,15))"
   ]
  },
  {
   "cell_type": "markdown",
   "id": "8952dd3c",
   "metadata": {},
   "source": [
    "Comparing Emp-I to Emp-O"
   ]
  },
  {
   "cell_type": "code",
   "execution_count": 30,
   "id": "610fa862",
   "metadata": {
    "scrolled": true
   },
   "outputs": [
    {
     "data": {
      "text/html": [
       "<div>\n",
       "<style scoped>\n",
       "    .dataframe tbody tr th:only-of-type {\n",
       "        vertical-align: middle;\n",
       "    }\n",
       "\n",
       "    .dataframe tbody tr th {\n",
       "        vertical-align: top;\n",
       "    }\n",
       "\n",
       "    .dataframe thead th {\n",
       "        text-align: right;\n",
       "    }\n",
       "</style>\n",
       "<table border=\"1\" class=\"dataframe\">\n",
       "  <thead>\n",
       "    <tr style=\"text-align: right;\">\n",
       "      <th></th>\n",
       "      <th>Fecha-I</th>\n",
       "      <th>Vlo-I</th>\n",
       "      <th>Ori-I</th>\n",
       "      <th>Des-I</th>\n",
       "      <th>Emp-I</th>\n",
       "      <th>Fecha-O</th>\n",
       "      <th>Vlo-O</th>\n",
       "      <th>Ori-O</th>\n",
       "      <th>Des-O</th>\n",
       "      <th>Emp-O</th>\n",
       "      <th>DIA</th>\n",
       "      <th>MES</th>\n",
       "      <th>AÑO</th>\n",
       "      <th>DIANOM</th>\n",
       "      <th>TIPOVUELO</th>\n",
       "      <th>OPERA</th>\n",
       "      <th>SIGLAORI</th>\n",
       "      <th>SIGLADES</th>\n",
       "    </tr>\n",
       "  </thead>\n",
       "  <tbody>\n",
       "    <tr>\n",
       "      <th>345</th>\n",
       "      <td>2017-01-21 22:30:00</td>\n",
       "      <td>2291</td>\n",
       "      <td>SCEL</td>\n",
       "      <td>SABE</td>\n",
       "      <td>AUT</td>\n",
       "      <td>2017-01-21 22:28:00</td>\n",
       "      <td>2291</td>\n",
       "      <td>SCEL</td>\n",
       "      <td>SABE</td>\n",
       "      <td>ARG</td>\n",
       "      <td>21</td>\n",
       "      <td>1</td>\n",
       "      <td>2017</td>\n",
       "      <td>Sabado</td>\n",
       "      <td>I</td>\n",
       "      <td>Austral</td>\n",
       "      <td>Santiago</td>\n",
       "      <td>Buenos Aires</td>\n",
       "    </tr>\n",
       "    <tr>\n",
       "      <th>814</th>\n",
       "      <td>2017-01-01 07:14:00</td>\n",
       "      <td>624</td>\n",
       "      <td>SCEL</td>\n",
       "      <td>SPJC</td>\n",
       "      <td>AVA</td>\n",
       "      <td>2017-01-01 07:11:00</td>\n",
       "      <td>624</td>\n",
       "      <td>SCEL</td>\n",
       "      <td>SPJC</td>\n",
       "      <td>LRC</td>\n",
       "      <td>1</td>\n",
       "      <td>1</td>\n",
       "      <td>2017</td>\n",
       "      <td>Domingo</td>\n",
       "      <td>I</td>\n",
       "      <td>Avianca</td>\n",
       "      <td>Santiago</td>\n",
       "      <td>Lima</td>\n",
       "    </tr>\n",
       "    <tr>\n",
       "      <th>815</th>\n",
       "      <td>2017-01-02 07:00:00</td>\n",
       "      <td>624</td>\n",
       "      <td>SCEL</td>\n",
       "      <td>SPJC</td>\n",
       "      <td>AVA</td>\n",
       "      <td>2017-01-02 07:05:00</td>\n",
       "      <td>624</td>\n",
       "      <td>SCEL</td>\n",
       "      <td>SPJC</td>\n",
       "      <td>LRC</td>\n",
       "      <td>2</td>\n",
       "      <td>1</td>\n",
       "      <td>2017</td>\n",
       "      <td>Lunes</td>\n",
       "      <td>I</td>\n",
       "      <td>Avianca</td>\n",
       "      <td>Santiago</td>\n",
       "      <td>Lima</td>\n",
       "    </tr>\n",
       "    <tr>\n",
       "      <th>816</th>\n",
       "      <td>2017-01-03 07:14:00</td>\n",
       "      <td>624</td>\n",
       "      <td>SCEL</td>\n",
       "      <td>SPJC</td>\n",
       "      <td>AVA</td>\n",
       "      <td>2017-01-03 07:14:00</td>\n",
       "      <td>624</td>\n",
       "      <td>SCEL</td>\n",
       "      <td>SPJC</td>\n",
       "      <td>LRC</td>\n",
       "      <td>3</td>\n",
       "      <td>1</td>\n",
       "      <td>2017</td>\n",
       "      <td>Martes</td>\n",
       "      <td>I</td>\n",
       "      <td>Avianca</td>\n",
       "      <td>Santiago</td>\n",
       "      <td>Lima</td>\n",
       "    </tr>\n",
       "    <tr>\n",
       "      <th>817</th>\n",
       "      <td>2017-01-04 07:00:00</td>\n",
       "      <td>624</td>\n",
       "      <td>SCEL</td>\n",
       "      <td>SPJC</td>\n",
       "      <td>AVA</td>\n",
       "      <td>2017-01-04 07:24:00</td>\n",
       "      <td>624</td>\n",
       "      <td>SCEL</td>\n",
       "      <td>SPJC</td>\n",
       "      <td>LRC</td>\n",
       "      <td>4</td>\n",
       "      <td>1</td>\n",
       "      <td>2017</td>\n",
       "      <td>Miercoles</td>\n",
       "      <td>I</td>\n",
       "      <td>Avianca</td>\n",
       "      <td>Santiago</td>\n",
       "      <td>Lima</td>\n",
       "    </tr>\n",
       "    <tr>\n",
       "      <th>...</th>\n",
       "      <td>...</td>\n",
       "      <td>...</td>\n",
       "      <td>...</td>\n",
       "      <td>...</td>\n",
       "      <td>...</td>\n",
       "      <td>...</td>\n",
       "      <td>...</td>\n",
       "      <td>...</td>\n",
       "      <td>...</td>\n",
       "      <td>...</td>\n",
       "      <td>...</td>\n",
       "      <td>...</td>\n",
       "      <td>...</td>\n",
       "      <td>...</td>\n",
       "      <td>...</td>\n",
       "      <td>...</td>\n",
       "      <td>...</td>\n",
       "      <td>...</td>\n",
       "    </tr>\n",
       "    <tr>\n",
       "      <th>67877</th>\n",
       "      <td>2017-12-26 16:30:00</td>\n",
       "      <td>1033</td>\n",
       "      <td>SCEL</td>\n",
       "      <td>SCIE</td>\n",
       "      <td>LAW</td>\n",
       "      <td>2017-12-26 16:34:00</td>\n",
       "      <td>1033</td>\n",
       "      <td>SCEL</td>\n",
       "      <td>SCIE</td>\n",
       "      <td>JMR</td>\n",
       "      <td>26</td>\n",
       "      <td>12</td>\n",
       "      <td>2017</td>\n",
       "      <td>Martes</td>\n",
       "      <td>N</td>\n",
       "      <td>Latin American Wings</td>\n",
       "      <td>Santiago</td>\n",
       "      <td>Concepcion</td>\n",
       "    </tr>\n",
       "    <tr>\n",
       "      <th>67878</th>\n",
       "      <td>2017-12-27 16:30:00</td>\n",
       "      <td>1033</td>\n",
       "      <td>SCEL</td>\n",
       "      <td>SCIE</td>\n",
       "      <td>LAW</td>\n",
       "      <td>2017-12-27 16:30:00</td>\n",
       "      <td>1033</td>\n",
       "      <td>SCEL</td>\n",
       "      <td>SCIE</td>\n",
       "      <td>JMR</td>\n",
       "      <td>27</td>\n",
       "      <td>12</td>\n",
       "      <td>2017</td>\n",
       "      <td>Miercoles</td>\n",
       "      <td>N</td>\n",
       "      <td>Latin American Wings</td>\n",
       "      <td>Santiago</td>\n",
       "      <td>Concepcion</td>\n",
       "    </tr>\n",
       "    <tr>\n",
       "      <th>67879</th>\n",
       "      <td>2017-12-28 16:30:00</td>\n",
       "      <td>1033</td>\n",
       "      <td>SCEL</td>\n",
       "      <td>SCIE</td>\n",
       "      <td>LAW</td>\n",
       "      <td>2017-12-28 16:29:00</td>\n",
       "      <td>1033</td>\n",
       "      <td>SCEL</td>\n",
       "      <td>SCIE</td>\n",
       "      <td>JMR</td>\n",
       "      <td>28</td>\n",
       "      <td>12</td>\n",
       "      <td>2017</td>\n",
       "      <td>Jueves</td>\n",
       "      <td>N</td>\n",
       "      <td>Latin American Wings</td>\n",
       "      <td>Santiago</td>\n",
       "      <td>Concepcion</td>\n",
       "    </tr>\n",
       "    <tr>\n",
       "      <th>67880</th>\n",
       "      <td>2017-12-29 16:30:00</td>\n",
       "      <td>1033</td>\n",
       "      <td>SCEL</td>\n",
       "      <td>SCIE</td>\n",
       "      <td>LAW</td>\n",
       "      <td>2017-12-29 16:49:00</td>\n",
       "      <td>1033</td>\n",
       "      <td>SCEL</td>\n",
       "      <td>SCIE</td>\n",
       "      <td>JMR</td>\n",
       "      <td>29</td>\n",
       "      <td>12</td>\n",
       "      <td>2017</td>\n",
       "      <td>Viernes</td>\n",
       "      <td>N</td>\n",
       "      <td>Latin American Wings</td>\n",
       "      <td>Santiago</td>\n",
       "      <td>Concepcion</td>\n",
       "    </tr>\n",
       "    <tr>\n",
       "      <th>67881</th>\n",
       "      <td>2017-12-31 17:30:00</td>\n",
       "      <td>1033</td>\n",
       "      <td>SCEL</td>\n",
       "      <td>SCIE</td>\n",
       "      <td>LAW</td>\n",
       "      <td>2017-12-31 17:26:00</td>\n",
       "      <td>1033</td>\n",
       "      <td>SCEL</td>\n",
       "      <td>SCIE</td>\n",
       "      <td>JMR</td>\n",
       "      <td>31</td>\n",
       "      <td>12</td>\n",
       "      <td>2017</td>\n",
       "      <td>Domingo</td>\n",
       "      <td>N</td>\n",
       "      <td>Latin American Wings</td>\n",
       "      <td>Santiago</td>\n",
       "      <td>Concepcion</td>\n",
       "    </tr>\n",
       "  </tbody>\n",
       "</table>\n",
       "<p>18669 rows × 18 columns</p>\n",
       "</div>"
      ],
      "text/plain": [
       "                   Fecha-I Vlo-I Ori-I Des-I Emp-I              Fecha-O Vlo-O  \\\n",
       "345    2017-01-21 22:30:00  2291  SCEL  SABE   AUT  2017-01-21 22:28:00  2291   \n",
       "814    2017-01-01 07:14:00   624  SCEL  SPJC   AVA  2017-01-01 07:11:00   624   \n",
       "815    2017-01-02 07:00:00   624  SCEL  SPJC   AVA  2017-01-02 07:05:00   624   \n",
       "816    2017-01-03 07:14:00   624  SCEL  SPJC   AVA  2017-01-03 07:14:00   624   \n",
       "817    2017-01-04 07:00:00   624  SCEL  SPJC   AVA  2017-01-04 07:24:00   624   \n",
       "...                    ...   ...   ...   ...   ...                  ...   ...   \n",
       "67877  2017-12-26 16:30:00  1033  SCEL  SCIE   LAW  2017-12-26 16:34:00  1033   \n",
       "67878  2017-12-27 16:30:00  1033  SCEL  SCIE   LAW  2017-12-27 16:30:00  1033   \n",
       "67879  2017-12-28 16:30:00  1033  SCEL  SCIE   LAW  2017-12-28 16:29:00  1033   \n",
       "67880  2017-12-29 16:30:00  1033  SCEL  SCIE   LAW  2017-12-29 16:49:00  1033   \n",
       "67881  2017-12-31 17:30:00  1033  SCEL  SCIE   LAW  2017-12-31 17:26:00  1033   \n",
       "\n",
       "      Ori-O Des-O Emp-O  DIA  MES   AÑO     DIANOM TIPOVUELO  \\\n",
       "345    SCEL  SABE   ARG   21    1  2017     Sabado         I   \n",
       "814    SCEL  SPJC   LRC    1    1  2017    Domingo         I   \n",
       "815    SCEL  SPJC   LRC    2    1  2017      Lunes         I   \n",
       "816    SCEL  SPJC   LRC    3    1  2017     Martes         I   \n",
       "817    SCEL  SPJC   LRC    4    1  2017  Miercoles         I   \n",
       "...     ...   ...   ...  ...  ...   ...        ...       ...   \n",
       "67877  SCEL  SCIE   JMR   26   12  2017     Martes         N   \n",
       "67878  SCEL  SCIE   JMR   27   12  2017  Miercoles         N   \n",
       "67879  SCEL  SCIE   JMR   28   12  2017     Jueves         N   \n",
       "67880  SCEL  SCIE   JMR   29   12  2017    Viernes         N   \n",
       "67881  SCEL  SCIE   JMR   31   12  2017    Domingo         N   \n",
       "\n",
       "                      OPERA  SIGLAORI      SIGLADES  \n",
       "345                 Austral  Santiago  Buenos Aires  \n",
       "814                 Avianca  Santiago          Lima  \n",
       "815                 Avianca  Santiago          Lima  \n",
       "816                 Avianca  Santiago          Lima  \n",
       "817                 Avianca  Santiago          Lima  \n",
       "...                     ...       ...           ...  \n",
       "67877  Latin American Wings  Santiago    Concepcion  \n",
       "67878  Latin American Wings  Santiago    Concepcion  \n",
       "67879  Latin American Wings  Santiago    Concepcion  \n",
       "67880  Latin American Wings  Santiago    Concepcion  \n",
       "67881  Latin American Wings  Santiago    Concepcion  \n",
       "\n",
       "[18669 rows x 18 columns]"
      ]
     },
     "execution_count": 30,
     "metadata": {},
     "output_type": "execute_result"
    }
   ],
   "source": [
    "df[df['Emp-I'] != df['Emp-O']]"
   ]
  },
  {
   "cell_type": "markdown",
   "id": "9f4d848d",
   "metadata": {},
   "source": [
    "In this case, there are thousands of cases where the actual airline code differs from the scheduled one. Adding a new feature for this case: Emp-diff"
   ]
  },
  {
   "cell_type": "code",
   "execution_count": 31,
   "id": "04483bd5",
   "metadata": {},
   "outputs": [],
   "source": [
    "df['Emp-diff'] = df['Emp-I'] != df['Emp-O']"
   ]
  },
  {
   "cell_type": "markdown",
   "id": "fa59e543",
   "metadata": {},
   "source": [
    "## DIA"
   ]
  },
  {
   "cell_type": "code",
   "execution_count": 32,
   "id": "a8a7cdb7",
   "metadata": {},
   "outputs": [
    {
     "data": {
      "text/plain": [
       "<AxesSubplot:>"
      ]
     },
     "execution_count": 32,
     "metadata": {},
     "output_type": "execute_result"
    },
    {
     "data": {
      "image/png": "[encoded data removed]",
      "text/plain": [
       "<Figure size 1440x720 with 1 Axes>"
      ]
     },
     "metadata": {
      "needs_background": "light"
     },
     "output_type": "display_data"
    }
   ],
   "source": [
    "df['DIA'].value_counts(sort = False).plot.bar(figsize=(20,10))"
   ]
  },
  {
   "cell_type": "markdown",
   "id": "37a3fc10",
   "metadata": {},
   "source": [
    "Flights seem to be equally distributed across every day.  \n",
    "31 is a special case because only 7 months have 31 days.  "
   ]
  },
  {
   "cell_type": "markdown",
   "id": "a079d477",
   "metadata": {},
   "source": [
    "## MES"
   ]
  },
  {
   "cell_type": "code",
   "execution_count": 33,
   "id": "1cd3e03f",
   "metadata": {},
   "outputs": [
    {
     "data": {
      "text/plain": [
       "<AxesSubplot:>"
      ]
     },
     "execution_count": 33,
     "metadata": {},
     "output_type": "execute_result"
    },
    {
     "data": {
      "image/png": "[encoded data removed]",
      "text/plain": [
       "<Figure size 432x288 with 1 Axes>"
      ]
     },
     "metadata": {
      "needs_background": "light"
     },
     "output_type": "display_data"
    }
   ],
   "source": [
    "df['MES'].value_counts().plot.bar()"
   ]
  },
  {
   "cell_type": "code",
   "execution_count": 34,
   "id": "f5a79ffc",
   "metadata": {},
   "outputs": [
    {
     "data": {
      "text/plain": [
       "<AxesSubplot:>"
      ]
     },
     "execution_count": 34,
     "metadata": {},
     "output_type": "execute_result"
    },
    {
     "data": {
      "image/png": "[encoded data removed]",
      "text/plain": [
       "<Figure size 432x288 with 1 Axes>"
      ]
     },
     "metadata": {
      "needs_background": "light"
     },
     "output_type": "display_data"
    }
   ],
   "source": [
    "df['MES'].value_counts(normalize=True).plot.bar()"
   ]
  },
  {
   "cell_type": "markdown",
   "id": "a3de5aa6",
   "metadata": {},
   "source": [
    "- April, May and June are months with less flights compared to the rest.\n",
    "- December is the month with most filghts, followed by January, November, October and July."
   ]
  },
  {
   "cell_type": "markdown",
   "id": "fe38f4f4",
   "metadata": {},
   "source": [
    "## AÑO"
   ]
  },
  {
   "cell_type": "code",
   "execution_count": 35,
   "id": "0744d90e",
   "metadata": {},
   "outputs": [
    {
     "data": {
      "text/plain": [
       "<AxesSubplot:>"
      ]
     },
     "execution_count": 35,
     "metadata": {},
     "output_type": "execute_result"
    },
    {
     "data": {
      "image/png": "[encoded data removed]",
      "text/plain": [
       "<Figure size 432x288 with 1 Axes>"
      ]
     },
     "metadata": {
      "needs_background": "light"
     },
     "output_type": "display_data"
    }
   ],
   "source": [
    "df['AÑO'].value_counts(sort = False).plot.bar()"
   ]
  },
  {
   "cell_type": "code",
   "execution_count": 36,
   "id": "91a37e3b",
   "metadata": {},
   "outputs": [
    {
     "data": {
      "text/html": [
       "<div>\n",
       "<style scoped>\n",
       "    .dataframe tbody tr th:only-of-type {\n",
       "        vertical-align: middle;\n",
       "    }\n",
       "\n",
       "    .dataframe tbody tr th {\n",
       "        vertical-align: top;\n",
       "    }\n",
       "\n",
       "    .dataframe thead th {\n",
       "        text-align: right;\n",
       "    }\n",
       "</style>\n",
       "<table border=\"1\" class=\"dataframe\">\n",
       "  <thead>\n",
       "    <tr style=\"text-align: right;\">\n",
       "      <th></th>\n",
       "      <th>Fecha-I</th>\n",
       "      <th>Vlo-I</th>\n",
       "      <th>Ori-I</th>\n",
       "      <th>Des-I</th>\n",
       "      <th>Emp-I</th>\n",
       "      <th>Fecha-O</th>\n",
       "      <th>Vlo-O</th>\n",
       "      <th>Ori-O</th>\n",
       "      <th>Des-O</th>\n",
       "      <th>Emp-O</th>\n",
       "      <th>DIA</th>\n",
       "      <th>MES</th>\n",
       "      <th>AÑO</th>\n",
       "      <th>DIANOM</th>\n",
       "      <th>TIPOVUELO</th>\n",
       "      <th>OPERA</th>\n",
       "      <th>SIGLAORI</th>\n",
       "      <th>SIGLADES</th>\n",
       "      <th>Emp-diff</th>\n",
       "    </tr>\n",
       "  </thead>\n",
       "  <tbody>\n",
       "    <tr>\n",
       "      <th>66918</th>\n",
       "      <td>2017-12-31 23:55:00</td>\n",
       "      <td>602</td>\n",
       "      <td>SCEL</td>\n",
       "      <td>KLAX</td>\n",
       "      <td>LAN</td>\n",
       "      <td>2018-01-01 00:02:00</td>\n",
       "      <td>602</td>\n",
       "      <td>SCEL</td>\n",
       "      <td>KLAX</td>\n",
       "      <td>LAN</td>\n",
       "      <td>1</td>\n",
       "      <td>1</td>\n",
       "      <td>2018</td>\n",
       "      <td>Lunes</td>\n",
       "      <td>I</td>\n",
       "      <td>Grupo LATAM</td>\n",
       "      <td>Santiago</td>\n",
       "      <td>Los Angeles</td>\n",
       "      <td>False</td>\n",
       "    </tr>\n",
       "    <tr>\n",
       "      <th>66947</th>\n",
       "      <td>2017-12-31 23:40:00</td>\n",
       "      <td>622</td>\n",
       "      <td>SCEL</td>\n",
       "      <td>MMMX</td>\n",
       "      <td>LAN</td>\n",
       "      <td>2018-01-01 00:12:00</td>\n",
       "      <td>622</td>\n",
       "      <td>SCEL</td>\n",
       "      <td>MMMX</td>\n",
       "      <td>LAN</td>\n",
       "      <td>1</td>\n",
       "      <td>1</td>\n",
       "      <td>2018</td>\n",
       "      <td>Lunes</td>\n",
       "      <td>I</td>\n",
       "      <td>Grupo LATAM</td>\n",
       "      <td>Santiago</td>\n",
       "      <td>Ciudad de Mexico</td>\n",
       "      <td>False</td>\n",
       "    </tr>\n",
       "  </tbody>\n",
       "</table>\n",
       "</div>"
      ],
      "text/plain": [
       "                   Fecha-I Vlo-I Ori-I Des-I Emp-I              Fecha-O Vlo-O  \\\n",
       "66918  2017-12-31 23:55:00   602  SCEL  KLAX   LAN  2018-01-01 00:02:00   602   \n",
       "66947  2017-12-31 23:40:00   622  SCEL  MMMX   LAN  2018-01-01 00:12:00   622   \n",
       "\n",
       "      Ori-O Des-O Emp-O  DIA  MES   AÑO DIANOM TIPOVUELO        OPERA  \\\n",
       "66918  SCEL  KLAX   LAN    1    1  2018  Lunes         I  Grupo LATAM   \n",
       "66947  SCEL  MMMX   LAN    1    1  2018  Lunes         I  Grupo LATAM   \n",
       "\n",
       "       SIGLAORI          SIGLADES  Emp-diff  \n",
       "66918  Santiago       Los Angeles     False  \n",
       "66947  Santiago  Ciudad de Mexico     False  "
      ]
     },
     "execution_count": 36,
     "metadata": {},
     "output_type": "execute_result"
    }
   ],
   "source": [
    "df[df['AÑO'] == 2018]"
   ]
  },
  {
   "cell_type": "markdown",
   "id": "2398afed",
   "metadata": {},
   "source": [
    "Only 2 records are from 2018, AÑO doesn't seem to be a field useful in this case."
   ]
  },
  {
   "cell_type": "markdown",
   "id": "a4d6920a",
   "metadata": {},
   "source": [
    "## DIANOM"
   ]
  },
  {
   "cell_type": "code",
   "execution_count": 37,
   "id": "8f2484e8",
   "metadata": {},
   "outputs": [
    {
     "data": {
      "text/plain": [
       "<AxesSubplot:>"
      ]
     },
     "execution_count": 37,
     "metadata": {},
     "output_type": "execute_result"
    },
    {
     "data": {
      "image/png": "[encoded data removed]",
      "text/plain": [
       "<Figure size 432x288 with 1 Axes>"
      ]
     },
     "metadata": {
      "needs_background": "light"
     },
     "output_type": "display_data"
    }
   ],
   "source": [
    "df['DIANOM'].value_counts().plot.bar()"
   ]
  },
  {
   "cell_type": "markdown",
   "id": "9f0bf3c7",
   "metadata": {},
   "source": [
    "Saturdays are days with less flights compared to the rest, but is still relevant."
   ]
  },
  {
   "cell_type": "markdown",
   "id": "eed504b1",
   "metadata": {},
   "source": [
    "## TIPOVUELO"
   ]
  },
  {
   "cell_type": "code",
   "execution_count": 38,
   "id": "455dee75",
   "metadata": {},
   "outputs": [
    {
     "data": {
      "text/plain": [
       "<AxesSubplot:>"
      ]
     },
     "execution_count": 38,
     "metadata": {},
     "output_type": "execute_result"
    },
    {
     "data": {
      "image/png": "[encoded data removed]",
      "text/plain": [
       "<Figure size 432x288 with 1 Axes>"
      ]
     },
     "metadata": {
      "needs_background": "light"
     },
     "output_type": "display_data"
    }
   ],
   "source": [
    "df['TIPOVUELO'].value_counts().plot.bar()"
   ]
  },
  {
   "cell_type": "code",
   "execution_count": 39,
   "id": "19e92deb",
   "metadata": {},
   "outputs": [
    {
     "data": {
      "text/plain": [
       "<AxesSubplot:>"
      ]
     },
     "execution_count": 39,
     "metadata": {},
     "output_type": "execute_result"
    },
    {
     "data": {
      "image/png": "[encoded data removed]",
      "text/plain": [
       "<Figure size 432x288 with 1 Axes>"
      ]
     },
     "metadata": {
      "needs_background": "light"
     },
     "output_type": "display_data"
    }
   ],
   "source": [
    "df['TIPOVUELO'].value_counts(normalize=True).plot.bar()"
   ]
  },
  {
   "cell_type": "markdown",
   "id": "5982e986",
   "metadata": {},
   "source": [
    "More than half of the flights are National ones, but International flights are close to that."
   ]
  },
  {
   "cell_type": "markdown",
   "id": "a9d33388",
   "metadata": {},
   "source": [
    "## OPERA"
   ]
  },
  {
   "cell_type": "code",
   "execution_count": 40,
   "id": "a7f69dc0",
   "metadata": {},
   "outputs": [
    {
     "data": {
      "text/plain": [
       "0        American Airlines\n",
       "1        American Airlines\n",
       "2        American Airlines\n",
       "3        American Airlines\n",
       "4        American Airlines\n",
       "               ...        \n",
       "68201         JetSmart SPA\n",
       "68202         JetSmart SPA\n",
       "68203         JetSmart SPA\n",
       "68204         JetSmart SPA\n",
       "68205         JetSmart SPA\n",
       "Name: OPERA, Length: 68206, dtype: category\n",
       "Categories (23, object): ['Aerolineas Argentinas', 'Aeromexico', 'Air Canada', 'Air France', ..., 'Plus Ultra Lineas Aereas', 'Qantas Airways', 'Sky Airline', 'United Airlines']"
      ]
     },
     "execution_count": 40,
     "metadata": {},
     "output_type": "execute_result"
    }
   ],
   "source": [
    "df['OPERA'].astype('category')"
   ]
  },
  {
   "cell_type": "code",
   "execution_count": 41,
   "id": "50f02e9f",
   "metadata": {
    "scrolled": false
   },
   "outputs": [
    {
     "data": {
      "text/plain": [
       "<AxesSubplot:>"
      ]
     },
     "execution_count": 41,
     "metadata": {},
     "output_type": "execute_result"
    },
    {
     "data": {
      "image/png": "[encoded data removed]",
      "text/plain": [
       "<Figure size 1440x720 with 1 Axes>"
      ]
     },
     "metadata": {
      "needs_background": "light"
     },
     "output_type": "display_data"
    }
   ],
   "source": [
    "df['OPERA'].value_counts().plot.bar(figsize=(20,10))"
   ]
  },
  {
   "cell_type": "markdown",
   "id": "0bea9471",
   "metadata": {},
   "source": [
    "Most of the flights are performed by Grupo LATAM."
   ]
  },
  {
   "cell_type": "markdown",
   "id": "fb4d8029",
   "metadata": {},
   "source": [
    "## SIGLAORI"
   ]
  },
  {
   "cell_type": "code",
   "execution_count": 42,
   "id": "66444dab",
   "metadata": {},
   "outputs": [
    {
     "data": {
      "text/plain": [
       "0        Santiago\n",
       "1        Santiago\n",
       "2        Santiago\n",
       "3        Santiago\n",
       "4        Santiago\n",
       "           ...   \n",
       "68201    Santiago\n",
       "68202    Santiago\n",
       "68203    Santiago\n",
       "68204    Santiago\n",
       "68205    Santiago\n",
       "Name: SIGLAORI, Length: 68206, dtype: category\n",
       "Categories (1, object): ['Santiago']"
      ]
     },
     "execution_count": 42,
     "metadata": {},
     "output_type": "execute_result"
    }
   ],
   "source": [
    "df['SIGLAORI'].astype('category')"
   ]
  },
  {
   "cell_type": "markdown",
   "id": "660de8e1",
   "metadata": {},
   "source": [
    "Same value across all records, this field won't be considered."
   ]
  },
  {
   "cell_type": "markdown",
   "id": "98566440",
   "metadata": {},
   "source": [
    "## SIGLADES"
   ]
  },
  {
   "cell_type": "code",
   "execution_count": 43,
   "id": "c983668c",
   "metadata": {},
   "outputs": [
    {
     "data": {
      "text/plain": [
       "0        Miami\n",
       "1        Miami\n",
       "2        Miami\n",
       "3        Miami\n",
       "4        Miami\n",
       "         ...  \n",
       "68201     Lima\n",
       "68202     Lima\n",
       "68203     Lima\n",
       "68204     Lima\n",
       "68205     Lima\n",
       "Name: SIGLADES, Length: 68206, dtype: category\n",
       "Categories (62, object): ['Antofagasta', 'Arica', 'Asuncion', 'Atlanta', ..., 'Tucuman', 'Ushuia', 'Valdivia', 'Washington']"
      ]
     },
     "execution_count": 43,
     "metadata": {},
     "output_type": "execute_result"
    }
   ],
   "source": [
    "df['SIGLADES'].astype('category')"
   ]
  },
  {
   "cell_type": "code",
   "execution_count": 44,
   "id": "a696a777",
   "metadata": {},
   "outputs": [
    {
     "data": {
      "text/plain": [
       "<AxesSubplot:>"
      ]
     },
     "execution_count": 44,
     "metadata": {},
     "output_type": "execute_result"
    },
    {
     "data": {
      "image/png": "[encoded data removed]",
      "text/plain": [
       "<Figure size 1440x720 with 1 Axes>"
      ]
     },
     "metadata": {
      "needs_background": "light"
     },
     "output_type": "display_data"
    }
   ],
   "source": [
    "df['SIGLADES'].value_counts().plot.bar(figsize=(20,10))"
   ]
  },
  {
   "cell_type": "markdown",
   "id": "e774887c",
   "metadata": {},
   "source": [
    "This field is almost the same as Des-O, so it won't be considered as it's redundant."
   ]
  },
  {
   "cell_type": "markdown",
   "id": "ac98d535",
   "metadata": {},
   "source": [
    "## Conclusions"
   ]
  },
  {
   "cell_type": "markdown",
   "id": "c4567637",
   "metadata": {},
   "source": [
    "- Vlo-I and Vlo-O have similar distribution, but they also show that the actual flight is the one scheduled at the beginning. The same happens with Des-I, Des-O and Emp-I, Emp-O.\n",
    "- In the case of Emp-I and Emp-O, there are thousands of cases where those values are not the same, so a new feature (Emp-diff) was added and will be later evaluated if this information is useful or not.\n",
    "- Ori-I and Ori-O are discarded because they have a unique value.\n",
    "- Date fields have the following behavior:\n",
    "    - DIA: data looks like it's equally distributed.\n",
    "    - MES: some months have higher number of flights which is expected because there are temporal factors that impact on this (festivities, vacations, and more)\n",
    "    - AÑO: Almost all data is from 2017, so this field will be discarded as well.\n",
    "    - DIANOM: Saturdays are the days with less flights, but they are still relevant.\n",
    "- The type of flight is also useful because it can be seen that more than halve of the flights are national ones, but the international flights are close to that too."
   ]
  },
  {
   "cell_type": "markdown",
   "id": "71b9a3ff",
   "metadata": {},
   "source": [
    "## Adding requested fields"
   ]
  },
  {
   "cell_type": "markdown",
   "id": "3e0ecfeb",
   "metadata": {},
   "source": [
    "### high_season"
   ]
  },
  {
   "cell_type": "code",
   "execution_count": 102,
   "id": "6f779524",
   "metadata": {},
   "outputs": [],
   "source": [
    "def get_high_season(datetime):\n",
    "    is_high_season = (datetime.month >= 12 and datetime.day >= 15) or \\\n",
    "        (datetime.month <= 3 and datetime.day <= 3) or \\\n",
    "        (datetime.month == 7 and datetime.day >= 15 and datetime.day <= 31) or \\\n",
    "        (datetime.month == 9 and datetime.day >= 11 and datetime.day <= 30)\n",
    "        \n",
    "    return int(is_high_season)"
   ]
  },
  {
   "cell_type": "code",
   "execution_count": 103,
   "id": "a72cee7b",
   "metadata": {},
   "outputs": [],
   "source": [
    "df['high_season'] = df['Fecha-I'].apply(lambda datetime: get_high_season(datetime))"
   ]
  },
  {
   "cell_type": "markdown",
   "id": "ee51ba84",
   "metadata": {},
   "source": [
    "### min_diff"
   ]
  },
  {
   "cell_type": "code",
   "execution_count": 106,
   "id": "9c06660a",
   "metadata": {},
   "outputs": [],
   "source": [
    "df['min_diff'] = ((df['Fecha-O'] - df['Fecha-I']).dt.total_seconds() / 60).astype('int')"
   ]
  },
  {
   "cell_type": "markdown",
   "id": "a533a2bb",
   "metadata": {},
   "source": [
    "### delay_15"
   ]
  },
  {
   "cell_type": "code",
   "execution_count": 86,
   "id": "6bd50268",
   "metadata": {},
   "outputs": [],
   "source": [
    "df['delay_15'] = df['min_diff'].apply(lambda diff: 1 if diff > 15 else 0)"
   ]
  },
  {
   "cell_type": "code",
   "execution_count": 293,
   "id": "3781d38c",
   "metadata": {
    "scrolled": true
   },
   "outputs": [
    {
     "data": {
      "text/plain": [
       "<AxesSubplot:>"
      ]
     },
     "execution_count": 293,
     "metadata": {},
     "output_type": "execute_result"
    },
    {
     "data": {
      "image/png": "[encoded data removed]",
      "text/plain": [
       "<Figure size 432x288 with 1 Axes>"
      ]
     },
     "metadata": {
      "needs_background": "light"
     },
     "output_type": "display_data"
    }
   ],
   "source": [
    "df['delay_15'].value_counts().plot.bar()"
   ]
  },
  {
   "cell_type": "code",
   "execution_count": 294,
   "id": "2477eabf",
   "metadata": {},
   "outputs": [
    {
     "data": {
      "text/plain": [
       "<AxesSubplot:>"
      ]
     },
     "execution_count": 294,
     "metadata": {},
     "output_type": "execute_result"
    },
    {
     "data": {
      "image/png": "[encoded data removed]",
      "text/plain": [
       "<Figure size 432x288 with 1 Axes>"
      ]
     },
     "metadata": {
      "needs_background": "light"
     },
     "output_type": "display_data"
    }
   ],
   "source": [
    "df['delay_15'].value_counts(normalize=True).plot.bar()"
   ]
  },
  {
   "cell_type": "markdown",
   "id": "29267c88",
   "metadata": {},
   "source": [
    "**This is an imbalanced dataset case, so f1 score weighted is the metric that will be used.**"
   ]
  },
  {
   "cell_type": "markdown",
   "id": "db219eca",
   "metadata": {},
   "source": [
    "### period_day"
   ]
  },
  {
   "cell_type": "code",
   "execution_count": 97,
   "id": "e68031c3",
   "metadata": {},
   "outputs": [],
   "source": [
    "def get_period_day(datetime):\n",
    "    if datetime.hour >= 5 and datetime.hour < 12:\n",
    "        return 'morning'\n",
    "    elif datetime.hour >= 12 and datetime.hour < 19:\n",
    "        return 'afternoon'\n",
    "    else:\n",
    "        return 'night'"
   ]
  },
  {
   "cell_type": "code",
   "execution_count": 99,
   "id": "9a1c133f",
   "metadata": {},
   "outputs": [],
   "source": [
    "df['period_day'] = df['Fecha-I'].apply(lambda datetime: get_period_day(datetime))"
   ]
  },
  {
   "cell_type": "markdown",
   "id": "eb780fe3",
   "metadata": {},
   "source": [
    "### Exporting synthetic features"
   ]
  },
  {
   "cell_type": "code",
   "execution_count": 107,
   "id": "4f304380",
   "metadata": {},
   "outputs": [],
   "source": [
    "df[['high_season', 'min_diff', 'delay_15', 'period_day']].to_csv('synthetic_features.csv')"
   ]
  },
  {
   "cell_type": "markdown",
   "id": "9ac3dee9",
   "metadata": {},
   "source": [
    "## Looking for delay rate behavior"
   ]
  },
  {
   "cell_type": "markdown",
   "id": "5753b3c6",
   "metadata": {},
   "source": [
    "### Des-I"
   ]
  },
  {
   "cell_type": "code",
   "execution_count": 168,
   "id": "8f17b7cc",
   "metadata": {},
   "outputs": [],
   "source": [
    "desI_delay_df = df[df['delay_15'] == 1].groupby('Des-I').describe()['delay_15'].sort_values(by='count', ascending=False)[['count']]"
   ]
  },
  {
   "cell_type": "code",
   "execution_count": 169,
   "id": "83ffacfd",
   "metadata": {
    "scrolled": true
   },
   "outputs": [
    {
     "data": {
      "text/html": [
       "<div>\n",
       "<style scoped>\n",
       "    .dataframe tbody tr th:only-of-type {\n",
       "        vertical-align: middle;\n",
       "    }\n",
       "\n",
       "    .dataframe tbody tr th {\n",
       "        vertical-align: top;\n",
       "    }\n",
       "\n",
       "    .dataframe thead th {\n",
       "        text-align: right;\n",
       "    }\n",
       "</style>\n",
       "<table border=\"1\" class=\"dataframe\">\n",
       "  <thead>\n",
       "    <tr style=\"text-align: right;\">\n",
       "      <th></th>\n",
       "      <th>count</th>\n",
       "    </tr>\n",
       "    <tr>\n",
       "      <th>Des-I</th>\n",
       "      <th></th>\n",
       "    </tr>\n",
       "  </thead>\n",
       "  <tbody>\n",
       "    <tr>\n",
       "      <th>SPJC</th>\n",
       "      <td>1214.0</td>\n",
       "    </tr>\n",
       "    <tr>\n",
       "      <th>SBGR</th>\n",
       "      <td>881.0</td>\n",
       "    </tr>\n",
       "    <tr>\n",
       "      <th>SCFA</th>\n",
       "      <td>847.0</td>\n",
       "    </tr>\n",
       "    <tr>\n",
       "      <th>SABE</th>\n",
       "      <td>830.0</td>\n",
       "    </tr>\n",
       "    <tr>\n",
       "      <th>SAEZ</th>\n",
       "      <td>790.0</td>\n",
       "    </tr>\n",
       "    <tr>\n",
       "      <th>SCTE</th>\n",
       "      <td>734.0</td>\n",
       "    </tr>\n",
       "    <tr>\n",
       "      <th>SCDA</th>\n",
       "      <td>640.0</td>\n",
       "    </tr>\n",
       "    <tr>\n",
       "      <th>SCCF</th>\n",
       "      <td>629.0</td>\n",
       "    </tr>\n",
       "    <tr>\n",
       "      <th>SCIE</th>\n",
       "      <td>625.0</td>\n",
       "    </tr>\n",
       "    <tr>\n",
       "      <th>SAME</th>\n",
       "      <td>443.0</td>\n",
       "    </tr>\n",
       "    <tr>\n",
       "      <th>SKBO</th>\n",
       "      <td>415.0</td>\n",
       "    </tr>\n",
       "    <tr>\n",
       "      <th>SBGL</th>\n",
       "      <td>405.0</td>\n",
       "    </tr>\n",
       "    <tr>\n",
       "      <th>SCQP</th>\n",
       "      <td>401.0</td>\n",
       "    </tr>\n",
       "    <tr>\n",
       "      <th>SCSE</th>\n",
       "      <td>390.0</td>\n",
       "    </tr>\n",
       "    <tr>\n",
       "      <th>SCAR</th>\n",
       "      <td>330.0</td>\n",
       "    </tr>\n",
       "    <tr>\n",
       "      <th>SCCI</th>\n",
       "      <td>324.0</td>\n",
       "    </tr>\n",
       "    <tr>\n",
       "      <th>SACO</th>\n",
       "      <td>308.0</td>\n",
       "    </tr>\n",
       "    <tr>\n",
       "      <th>SCAT</th>\n",
       "      <td>242.0</td>\n",
       "    </tr>\n",
       "    <tr>\n",
       "      <th>SUMU</th>\n",
       "      <td>220.0</td>\n",
       "    </tr>\n",
       "    <tr>\n",
       "      <th>KMIA</th>\n",
       "      <td>193.0</td>\n",
       "    </tr>\n",
       "    <tr>\n",
       "      <th>LEMD</th>\n",
       "      <td>170.0</td>\n",
       "    </tr>\n",
       "    <tr>\n",
       "      <th>NZAA</th>\n",
       "      <td>135.0</td>\n",
       "    </tr>\n",
       "    <tr>\n",
       "      <th>SCBA</th>\n",
       "      <td>123.0</td>\n",
       "    </tr>\n",
       "    <tr>\n",
       "      <th>SCVD</th>\n",
       "      <td>117.0</td>\n",
       "    </tr>\n",
       "    <tr>\n",
       "      <th>MPTO</th>\n",
       "      <td>116.0</td>\n",
       "    </tr>\n",
       "    <tr>\n",
       "      <th>YSSY</th>\n",
       "      <td>113.0</td>\n",
       "    </tr>\n",
       "    <tr>\n",
       "      <th>CYYZ</th>\n",
       "      <td>89.0</td>\n",
       "    </tr>\n",
       "    <tr>\n",
       "      <th>SCIP</th>\n",
       "      <td>89.0</td>\n",
       "    </tr>\n",
       "    <tr>\n",
       "      <th>KJFK</th>\n",
       "      <td>83.0</td>\n",
       "    </tr>\n",
       "    <tr>\n",
       "      <th>SEGU</th>\n",
       "      <td>82.0</td>\n",
       "    </tr>\n",
       "    <tr>\n",
       "      <th>MMMX</th>\n",
       "      <td>66.0</td>\n",
       "    </tr>\n",
       "    <tr>\n",
       "      <th>SGAS</th>\n",
       "      <td>66.0</td>\n",
       "    </tr>\n",
       "    <tr>\n",
       "      <th>SAAR</th>\n",
       "      <td>54.0</td>\n",
       "    </tr>\n",
       "    <tr>\n",
       "      <th>SCJO</th>\n",
       "      <td>50.0</td>\n",
       "    </tr>\n",
       "    <tr>\n",
       "      <th>KLAX</th>\n",
       "      <td>39.0</td>\n",
       "    </tr>\n",
       "    <tr>\n",
       "      <th>SLLP</th>\n",
       "      <td>32.0</td>\n",
       "    </tr>\n",
       "    <tr>\n",
       "      <th>LFPG</th>\n",
       "      <td>31.0</td>\n",
       "    </tr>\n",
       "    <tr>\n",
       "      <th>SBFL</th>\n",
       "      <td>30.0</td>\n",
       "    </tr>\n",
       "    <tr>\n",
       "      <th>SLVR</th>\n",
       "      <td>30.0</td>\n",
       "    </tr>\n",
       "    <tr>\n",
       "      <th>LIRF</th>\n",
       "      <td>29.0</td>\n",
       "    </tr>\n",
       "    <tr>\n",
       "      <th>EGLL</th>\n",
       "      <td>29.0</td>\n",
       "    </tr>\n",
       "    <tr>\n",
       "      <th>KDFW</th>\n",
       "      <td>25.0</td>\n",
       "    </tr>\n",
       "    <tr>\n",
       "      <th>KATL</th>\n",
       "      <td>21.0</td>\n",
       "    </tr>\n",
       "    <tr>\n",
       "      <th>YMML</th>\n",
       "      <td>21.0</td>\n",
       "    </tr>\n",
       "    <tr>\n",
       "      <th>MDPC</th>\n",
       "      <td>18.0</td>\n",
       "    </tr>\n",
       "    <tr>\n",
       "      <th>SCPQ</th>\n",
       "      <td>18.0</td>\n",
       "    </tr>\n",
       "    <tr>\n",
       "      <th>KIAH</th>\n",
       "      <td>17.0</td>\n",
       "    </tr>\n",
       "    <tr>\n",
       "      <th>MMUN</th>\n",
       "      <td>12.0</td>\n",
       "    </tr>\n",
       "    <tr>\n",
       "      <th>SANT</th>\n",
       "      <td>10.0</td>\n",
       "    </tr>\n",
       "    <tr>\n",
       "      <th>KMCO</th>\n",
       "      <td>9.0</td>\n",
       "    </tr>\n",
       "    <tr>\n",
       "      <th>SANU</th>\n",
       "      <td>8.0</td>\n",
       "    </tr>\n",
       "    <tr>\n",
       "      <th>SCNT</th>\n",
       "      <td>7.0</td>\n",
       "    </tr>\n",
       "    <tr>\n",
       "      <th>SAWH</th>\n",
       "      <td>4.0</td>\n",
       "    </tr>\n",
       "    <tr>\n",
       "      <th>SAZN</th>\n",
       "      <td>4.0</td>\n",
       "    </tr>\n",
       "    <tr>\n",
       "      <th>SEQU</th>\n",
       "      <td>1.0</td>\n",
       "    </tr>\n",
       "    <tr>\n",
       "      <th>SEQM</th>\n",
       "      <td>1.0</td>\n",
       "    </tr>\n",
       "    <tr>\n",
       "      <th>SLCB</th>\n",
       "      <td>1.0</td>\n",
       "    </tr>\n",
       "    <tr>\n",
       "      <th>SAZS</th>\n",
       "      <td>1.0</td>\n",
       "    </tr>\n",
       "    <tr>\n",
       "      <th>SULS</th>\n",
       "      <td>1.0</td>\n",
       "    </tr>\n",
       "    <tr>\n",
       "      <th>EGYP</th>\n",
       "      <td>1.0</td>\n",
       "    </tr>\n",
       "  </tbody>\n",
       "</table>\n",
       "</div>"
      ],
      "text/plain": [
       "        count\n",
       "Des-I        \n",
       "SPJC   1214.0\n",
       "SBGR    881.0\n",
       "SCFA    847.0\n",
       "SABE    830.0\n",
       "SAEZ    790.0\n",
       "SCTE    734.0\n",
       "SCDA    640.0\n",
       "SCCF    629.0\n",
       "SCIE    625.0\n",
       "SAME    443.0\n",
       "SKBO    415.0\n",
       "SBGL    405.0\n",
       "SCQP    401.0\n",
       "SCSE    390.0\n",
       "SCAR    330.0\n",
       "SCCI    324.0\n",
       "SACO    308.0\n",
       "SCAT    242.0\n",
       "SUMU    220.0\n",
       "KMIA    193.0\n",
       "LEMD    170.0\n",
       "NZAA    135.0\n",
       "SCBA    123.0\n",
       "SCVD    117.0\n",
       "MPTO    116.0\n",
       "YSSY    113.0\n",
       "CYYZ     89.0\n",
       "SCIP     89.0\n",
       "KJFK     83.0\n",
       "SEGU     82.0\n",
       "MMMX     66.0\n",
       "SGAS     66.0\n",
       "SAAR     54.0\n",
       "SCJO     50.0\n",
       "KLAX     39.0\n",
       "SLLP     32.0\n",
       "LFPG     31.0\n",
       "SBFL     30.0\n",
       "SLVR     30.0\n",
       "LIRF     29.0\n",
       "EGLL     29.0\n",
       "KDFW     25.0\n",
       "KATL     21.0\n",
       "YMML     21.0\n",
       "MDPC     18.0\n",
       "SCPQ     18.0\n",
       "KIAH     17.0\n",
       "MMUN     12.0\n",
       "SANT     10.0\n",
       "KMCO      9.0\n",
       "SANU      8.0\n",
       "SCNT      7.0\n",
       "SAWH      4.0\n",
       "SAZN      4.0\n",
       "SEQU      1.0\n",
       "SEQM      1.0\n",
       "SLCB      1.0\n",
       "SAZS      1.0\n",
       "SULS      1.0\n",
       "EGYP      1.0"
      ]
     },
     "execution_count": 169,
     "metadata": {},
     "output_type": "execute_result"
    }
   ],
   "source": [
    "desI_delay_df"
   ]
  },
  {
   "cell_type": "markdown",
   "id": "2a7b6dbe",
   "metadata": {},
   "source": [
    "Filtering to the top 10"
   ]
  },
  {
   "cell_type": "code",
   "execution_count": 170,
   "id": "3b6a4604",
   "metadata": {},
   "outputs": [
    {
     "data": {
      "text/plain": [
       "Des-I\n",
       "SPJC    0.017799\n",
       "SBGR    0.012917\n",
       "SCFA    0.012418\n",
       "SABE    0.012169\n",
       "SAEZ    0.011583\n",
       "SCTE    0.010762\n",
       "SCDA    0.009383\n",
       "SCCF    0.009222\n",
       "SCIE    0.009163\n",
       "SAME    0.006495\n",
       "Name: count, dtype: float64"
      ]
     },
     "execution_count": 170,
     "metadata": {},
     "output_type": "execute_result"
    }
   ],
   "source": [
    "(desI_delay_df['count'] / len(df))[:10]"
   ]
  },
  {
   "cell_type": "code",
   "execution_count": 147,
   "id": "08249800",
   "metadata": {
    "scrolled": true
   },
   "outputs": [
    {
     "data": {
      "text/plain": [
       "0.11191097557399643"
      ]
     },
     "execution_count": 147,
     "metadata": {},
     "output_type": "execute_result"
    }
   ],
   "source": [
    "sum((desI_delay_df['count'] / len(df))[:10])"
   ]
  },
  {
   "cell_type": "markdown",
   "id": "3d793abc",
   "metadata": {},
   "source": [
    "This 10 scheduled destinations represent 11.1% of flights with delay"
   ]
  },
  {
   "cell_type": "markdown",
   "id": "9ce98951",
   "metadata": {},
   "source": [
    "Visualizing number of delayed flights per scheduled destination:"
   ]
  },
  {
   "cell_type": "code",
   "execution_count": 158,
   "id": "b0270223",
   "metadata": {},
   "outputs": [
    {
     "data": {
      "text/plain": [
       "<AxesSubplot:xlabel='Des-I'>"
      ]
     },
     "execution_count": 158,
     "metadata": {},
     "output_type": "execute_result"
    },
    {
     "data": {
      "image/png": "[encoded data removed]",
      "text/plain": [
       "<Figure size 1440x720 with 1 Axes>"
      ]
     },
     "metadata": {
      "needs_background": "light"
     },
     "output_type": "display_data"
    }
   ],
   "source": [
    "desI_delay_df['count'].plot.bar(figsize=(20,10))"
   ]
  },
  {
   "cell_type": "markdown",
   "id": "cc3ba3f3",
   "metadata": {},
   "source": [
    "### Des-O"
   ]
  },
  {
   "cell_type": "code",
   "execution_count": 171,
   "id": "5dd58378",
   "metadata": {},
   "outputs": [],
   "source": [
    "desO_delay_df = df[df['delay_15'] == 1].groupby('Des-O').describe()['delay_15'].sort_values(by='count', ascending=False)[['count']]"
   ]
  },
  {
   "cell_type": "code",
   "execution_count": 172,
   "id": "e6144092",
   "metadata": {
    "scrolled": true
   },
   "outputs": [
    {
     "data": {
      "text/html": [
       "<div>\n",
       "<style scoped>\n",
       "    .dataframe tbody tr th:only-of-type {\n",
       "        vertical-align: middle;\n",
       "    }\n",
       "\n",
       "    .dataframe tbody tr th {\n",
       "        vertical-align: top;\n",
       "    }\n",
       "\n",
       "    .dataframe thead th {\n",
       "        text-align: right;\n",
       "    }\n",
       "</style>\n",
       "<table border=\"1\" class=\"dataframe\">\n",
       "  <thead>\n",
       "    <tr style=\"text-align: right;\">\n",
       "      <th></th>\n",
       "      <th>count</th>\n",
       "    </tr>\n",
       "    <tr>\n",
       "      <th>Des-O</th>\n",
       "      <th></th>\n",
       "    </tr>\n",
       "  </thead>\n",
       "  <tbody>\n",
       "    <tr>\n",
       "      <th>SPJC</th>\n",
       "      <td>1214.0</td>\n",
       "    </tr>\n",
       "    <tr>\n",
       "      <th>SBGR</th>\n",
       "      <td>881.0</td>\n",
       "    </tr>\n",
       "    <tr>\n",
       "      <th>SCFA</th>\n",
       "      <td>847.0</td>\n",
       "    </tr>\n",
       "    <tr>\n",
       "      <th>SABE</th>\n",
       "      <td>827.0</td>\n",
       "    </tr>\n",
       "    <tr>\n",
       "      <th>SAEZ</th>\n",
       "      <td>793.0</td>\n",
       "    </tr>\n",
       "    <tr>\n",
       "      <th>SCTE</th>\n",
       "      <td>734.0</td>\n",
       "    </tr>\n",
       "    <tr>\n",
       "      <th>SCDA</th>\n",
       "      <td>640.0</td>\n",
       "    </tr>\n",
       "    <tr>\n",
       "      <th>SCCF</th>\n",
       "      <td>629.0</td>\n",
       "    </tr>\n",
       "    <tr>\n",
       "      <th>SCIE</th>\n",
       "      <td>623.0</td>\n",
       "    </tr>\n",
       "    <tr>\n",
       "      <th>SAME</th>\n",
       "      <td>443.0</td>\n",
       "    </tr>\n",
       "    <tr>\n",
       "      <th>SKBO</th>\n",
       "      <td>415.0</td>\n",
       "    </tr>\n",
       "    <tr>\n",
       "      <th>SBGL</th>\n",
       "      <td>405.0</td>\n",
       "    </tr>\n",
       "    <tr>\n",
       "      <th>SCQP</th>\n",
       "      <td>403.0</td>\n",
       "    </tr>\n",
       "    <tr>\n",
       "      <th>SCSE</th>\n",
       "      <td>390.0</td>\n",
       "    </tr>\n",
       "    <tr>\n",
       "      <th>SCAR</th>\n",
       "      <td>330.0</td>\n",
       "    </tr>\n",
       "    <tr>\n",
       "      <th>SCCI</th>\n",
       "      <td>324.0</td>\n",
       "    </tr>\n",
       "    <tr>\n",
       "      <th>SACO</th>\n",
       "      <td>308.0</td>\n",
       "    </tr>\n",
       "    <tr>\n",
       "      <th>SCAT</th>\n",
       "      <td>242.0</td>\n",
       "    </tr>\n",
       "    <tr>\n",
       "      <th>SUMU</th>\n",
       "      <td>220.0</td>\n",
       "    </tr>\n",
       "    <tr>\n",
       "      <th>KMIA</th>\n",
       "      <td>194.0</td>\n",
       "    </tr>\n",
       "    <tr>\n",
       "      <th>LEMD</th>\n",
       "      <td>170.0</td>\n",
       "    </tr>\n",
       "    <tr>\n",
       "      <th>NZAA</th>\n",
       "      <td>135.0</td>\n",
       "    </tr>\n",
       "    <tr>\n",
       "      <th>SCBA</th>\n",
       "      <td>123.0</td>\n",
       "    </tr>\n",
       "    <tr>\n",
       "      <th>SCVD</th>\n",
       "      <td>117.0</td>\n",
       "    </tr>\n",
       "    <tr>\n",
       "      <th>MPTO</th>\n",
       "      <td>116.0</td>\n",
       "    </tr>\n",
       "    <tr>\n",
       "      <th>YSSY</th>\n",
       "      <td>113.0</td>\n",
       "    </tr>\n",
       "    <tr>\n",
       "      <th>CYYZ</th>\n",
       "      <td>89.0</td>\n",
       "    </tr>\n",
       "    <tr>\n",
       "      <th>SCIP</th>\n",
       "      <td>89.0</td>\n",
       "    </tr>\n",
       "    <tr>\n",
       "      <th>SEGU</th>\n",
       "      <td>82.0</td>\n",
       "    </tr>\n",
       "    <tr>\n",
       "      <th>KJFK</th>\n",
       "      <td>82.0</td>\n",
       "    </tr>\n",
       "    <tr>\n",
       "      <th>SGAS</th>\n",
       "      <td>66.0</td>\n",
       "    </tr>\n",
       "    <tr>\n",
       "      <th>MMMX</th>\n",
       "      <td>66.0</td>\n",
       "    </tr>\n",
       "    <tr>\n",
       "      <th>SAAR</th>\n",
       "      <td>54.0</td>\n",
       "    </tr>\n",
       "    <tr>\n",
       "      <th>SCJO</th>\n",
       "      <td>50.0</td>\n",
       "    </tr>\n",
       "    <tr>\n",
       "      <th>KLAX</th>\n",
       "      <td>39.0</td>\n",
       "    </tr>\n",
       "    <tr>\n",
       "      <th>SLLP</th>\n",
       "      <td>32.0</td>\n",
       "    </tr>\n",
       "    <tr>\n",
       "      <th>LFPG</th>\n",
       "      <td>31.0</td>\n",
       "    </tr>\n",
       "    <tr>\n",
       "      <th>SLVR</th>\n",
       "      <td>30.0</td>\n",
       "    </tr>\n",
       "    <tr>\n",
       "      <th>SBFL</th>\n",
       "      <td>30.0</td>\n",
       "    </tr>\n",
       "    <tr>\n",
       "      <th>LIRF</th>\n",
       "      <td>29.0</td>\n",
       "    </tr>\n",
       "    <tr>\n",
       "      <th>EGLL</th>\n",
       "      <td>29.0</td>\n",
       "    </tr>\n",
       "    <tr>\n",
       "      <th>KDFW</th>\n",
       "      <td>25.0</td>\n",
       "    </tr>\n",
       "    <tr>\n",
       "      <th>YMML</th>\n",
       "      <td>21.0</td>\n",
       "    </tr>\n",
       "    <tr>\n",
       "      <th>KATL</th>\n",
       "      <td>21.0</td>\n",
       "    </tr>\n",
       "    <tr>\n",
       "      <th>SCPQ</th>\n",
       "      <td>18.0</td>\n",
       "    </tr>\n",
       "    <tr>\n",
       "      <th>MDPC</th>\n",
       "      <td>18.0</td>\n",
       "    </tr>\n",
       "    <tr>\n",
       "      <th>KIAH</th>\n",
       "      <td>17.0</td>\n",
       "    </tr>\n",
       "    <tr>\n",
       "      <th>MMUN</th>\n",
       "      <td>12.0</td>\n",
       "    </tr>\n",
       "    <tr>\n",
       "      <th>SANT</th>\n",
       "      <td>10.0</td>\n",
       "    </tr>\n",
       "    <tr>\n",
       "      <th>KMCO</th>\n",
       "      <td>9.0</td>\n",
       "    </tr>\n",
       "    <tr>\n",
       "      <th>SANU</th>\n",
       "      <td>8.0</td>\n",
       "    </tr>\n",
       "    <tr>\n",
       "      <th>SCNT</th>\n",
       "      <td>7.0</td>\n",
       "    </tr>\n",
       "    <tr>\n",
       "      <th>SAWH</th>\n",
       "      <td>4.0</td>\n",
       "    </tr>\n",
       "    <tr>\n",
       "      <th>SAZN</th>\n",
       "      <td>4.0</td>\n",
       "    </tr>\n",
       "    <tr>\n",
       "      <th>SEQM</th>\n",
       "      <td>2.0</td>\n",
       "    </tr>\n",
       "    <tr>\n",
       "      <th>SAZS</th>\n",
       "      <td>1.0</td>\n",
       "    </tr>\n",
       "    <tr>\n",
       "      <th>SLCB</th>\n",
       "      <td>1.0</td>\n",
       "    </tr>\n",
       "    <tr>\n",
       "      <th>SULS</th>\n",
       "      <td>1.0</td>\n",
       "    </tr>\n",
       "    <tr>\n",
       "      <th>EGYP</th>\n",
       "      <td>1.0</td>\n",
       "    </tr>\n",
       "  </tbody>\n",
       "</table>\n",
       "</div>"
      ],
      "text/plain": [
       "        count\n",
       "Des-O        \n",
       "SPJC   1214.0\n",
       "SBGR    881.0\n",
       "SCFA    847.0\n",
       "SABE    827.0\n",
       "SAEZ    793.0\n",
       "SCTE    734.0\n",
       "SCDA    640.0\n",
       "SCCF    629.0\n",
       "SCIE    623.0\n",
       "SAME    443.0\n",
       "SKBO    415.0\n",
       "SBGL    405.0\n",
       "SCQP    403.0\n",
       "SCSE    390.0\n",
       "SCAR    330.0\n",
       "SCCI    324.0\n",
       "SACO    308.0\n",
       "SCAT    242.0\n",
       "SUMU    220.0\n",
       "KMIA    194.0\n",
       "LEMD    170.0\n",
       "NZAA    135.0\n",
       "SCBA    123.0\n",
       "SCVD    117.0\n",
       "MPTO    116.0\n",
       "YSSY    113.0\n",
       "CYYZ     89.0\n",
       "SCIP     89.0\n",
       "SEGU     82.0\n",
       "KJFK     82.0\n",
       "SGAS     66.0\n",
       "MMMX     66.0\n",
       "SAAR     54.0\n",
       "SCJO     50.0\n",
       "KLAX     39.0\n",
       "SLLP     32.0\n",
       "LFPG     31.0\n",
       "SLVR     30.0\n",
       "SBFL     30.0\n",
       "LIRF     29.0\n",
       "EGLL     29.0\n",
       "KDFW     25.0\n",
       "YMML     21.0\n",
       "KATL     21.0\n",
       "SCPQ     18.0\n",
       "MDPC     18.0\n",
       "KIAH     17.0\n",
       "MMUN     12.0\n",
       "SANT     10.0\n",
       "KMCO      9.0\n",
       "SANU      8.0\n",
       "SCNT      7.0\n",
       "SAWH      4.0\n",
       "SAZN      4.0\n",
       "SEQM      2.0\n",
       "SAZS      1.0\n",
       "SLCB      1.0\n",
       "SULS      1.0\n",
       "EGYP      1.0"
      ]
     },
     "execution_count": 172,
     "metadata": {},
     "output_type": "execute_result"
    }
   ],
   "source": [
    "desO_delay_df"
   ]
  },
  {
   "cell_type": "markdown",
   "id": "f429ec86",
   "metadata": {},
   "source": [
    "Filtering to the top 10"
   ]
  },
  {
   "cell_type": "code",
   "execution_count": 152,
   "id": "551a9b91",
   "metadata": {},
   "outputs": [
    {
     "data": {
      "text/plain": [
       "Des-O\n",
       "SPJC    0.017799\n",
       "SBGR    0.012917\n",
       "SCFA    0.012418\n",
       "SABE    0.012125\n",
       "SAEZ    0.011627\n",
       "SCTE    0.010762\n",
       "SCDA    0.009383\n",
       "SCCF    0.009222\n",
       "SCIE    0.009134\n",
       "SAME    0.006495\n",
       "Name: count, dtype: float64"
      ]
     },
     "execution_count": 152,
     "metadata": {},
     "output_type": "execute_result"
    }
   ],
   "source": [
    "(desO_delay_df['count'] / len(df))[:10]"
   ]
  },
  {
   "cell_type": "code",
   "execution_count": 153,
   "id": "5c78254f",
   "metadata": {},
   "outputs": [
    {
     "data": {
      "text/plain": [
       "0.11188165264053017"
      ]
     },
     "execution_count": 153,
     "metadata": {},
     "output_type": "execute_result"
    }
   ],
   "source": [
    "sum((desO_delay_df['count'] / len(df))[:10])"
   ]
  },
  {
   "cell_type": "markdown",
   "id": "97682213",
   "metadata": {},
   "source": [
    "This 10 actual destinations represent 11.1% of flights with delay"
   ]
  },
  {
   "cell_type": "markdown",
   "id": "52deec59",
   "metadata": {},
   "source": [
    "Visualizing number of delayed flights per actual destination:"
   ]
  },
  {
   "cell_type": "code",
   "execution_count": 159,
   "id": "df3cc4c3",
   "metadata": {},
   "outputs": [
    {
     "data": {
      "text/plain": [
       "<AxesSubplot:xlabel='Des-O'>"
      ]
     },
     "execution_count": 159,
     "metadata": {},
     "output_type": "execute_result"
    },
    {
     "data": {
      "image/png": "[encoded data removed]",
      "text/plain": [
       "<Figure size 1440x720 with 1 Axes>"
      ]
     },
     "metadata": {
      "needs_background": "light"
     },
     "output_type": "display_data"
    }
   ],
   "source": [
    "desO_delay_df['count'].plot.bar(figsize=(20,10))"
   ]
  },
  {
   "cell_type": "markdown",
   "id": "46854cb9",
   "metadata": {},
   "source": [
    "### Emp-I"
   ]
  },
  {
   "cell_type": "code",
   "execution_count": 173,
   "id": "017bfcef",
   "metadata": {},
   "outputs": [],
   "source": [
    "empI_delay_df = df[df['delay_15'] == 1].groupby('Emp-I').describe()['delay_15'].sort_values(by='count', ascending=False)[['count']]"
   ]
  },
  {
   "cell_type": "code",
   "execution_count": 174,
   "id": "3e5653cb",
   "metadata": {
    "scrolled": true
   },
   "outputs": [
    {
     "data": {
      "text/html": [
       "<div>\n",
       "<style scoped>\n",
       "    .dataframe tbody tr th:only-of-type {\n",
       "        vertical-align: middle;\n",
       "    }\n",
       "\n",
       "    .dataframe tbody tr th {\n",
       "        vertical-align: top;\n",
       "    }\n",
       "\n",
       "    .dataframe thead th {\n",
       "        text-align: right;\n",
       "    }\n",
       "</style>\n",
       "<table border=\"1\" class=\"dataframe\">\n",
       "  <thead>\n",
       "    <tr style=\"text-align: right;\">\n",
       "      <th></th>\n",
       "      <th>count</th>\n",
       "    </tr>\n",
       "    <tr>\n",
       "      <th>Emp-I</th>\n",
       "      <th></th>\n",
       "    </tr>\n",
       "  </thead>\n",
       "  <tbody>\n",
       "    <tr>\n",
       "      <th>LAN</th>\n",
       "      <td>6453.0</td>\n",
       "    </tr>\n",
       "    <tr>\n",
       "      <th>SKU</th>\n",
       "      <td>2540.0</td>\n",
       "    </tr>\n",
       "    <tr>\n",
       "      <th>TAM</th>\n",
       "      <td>780.0</td>\n",
       "    </tr>\n",
       "    <tr>\n",
       "      <th>LAW</th>\n",
       "      <td>642.0</td>\n",
       "    </tr>\n",
       "    <tr>\n",
       "      <th>ARG</th>\n",
       "      <td>468.0</td>\n",
       "    </tr>\n",
       "    <tr>\n",
       "      <th>AVA</th>\n",
       "      <td>306.0</td>\n",
       "    </tr>\n",
       "    <tr>\n",
       "      <th>GLO</th>\n",
       "      <td>287.0</td>\n",
       "    </tr>\n",
       "    <tr>\n",
       "      <th>ACA</th>\n",
       "      <td>258.0</td>\n",
       "    </tr>\n",
       "    <tr>\n",
       "      <th>JAT</th>\n",
       "      <td>196.0</td>\n",
       "    </tr>\n",
       "    <tr>\n",
       "      <th>CMP</th>\n",
       "      <td>116.0</td>\n",
       "    </tr>\n",
       "    <tr>\n",
       "      <th>QFU</th>\n",
       "      <td>113.0</td>\n",
       "    </tr>\n",
       "    <tr>\n",
       "      <th>LAP</th>\n",
       "      <td>61.0</td>\n",
       "    </tr>\n",
       "    <tr>\n",
       "      <th>AAL</th>\n",
       "      <td>51.0</td>\n",
       "    </tr>\n",
       "    <tr>\n",
       "      <th>ONE</th>\n",
       "      <td>43.0</td>\n",
       "    </tr>\n",
       "    <tr>\n",
       "      <th>JMR</th>\n",
       "      <td>39.0</td>\n",
       "    </tr>\n",
       "    <tr>\n",
       "      <th>IBE</th>\n",
       "      <td>36.0</td>\n",
       "    </tr>\n",
       "    <tr>\n",
       "      <th>PUE</th>\n",
       "      <td>30.0</td>\n",
       "    </tr>\n",
       "    <tr>\n",
       "      <th>AFR</th>\n",
       "      <td>30.0</td>\n",
       "    </tr>\n",
       "    <tr>\n",
       "      <th>BAW</th>\n",
       "      <td>29.0</td>\n",
       "    </tr>\n",
       "    <tr>\n",
       "      <th>AZA</th>\n",
       "      <td>29.0</td>\n",
       "    </tr>\n",
       "    <tr>\n",
       "      <th>KLM</th>\n",
       "      <td>21.0</td>\n",
       "    </tr>\n",
       "    <tr>\n",
       "      <th>DAL</th>\n",
       "      <td>21.0</td>\n",
       "    </tr>\n",
       "    <tr>\n",
       "      <th>UAL</th>\n",
       "      <td>17.0</td>\n",
       "    </tr>\n",
       "    <tr>\n",
       "      <th>AUT</th>\n",
       "      <td>15.0</td>\n",
       "    </tr>\n",
       "    <tr>\n",
       "      <th>LRC</th>\n",
       "      <td>11.0</td>\n",
       "    </tr>\n",
       "    <tr>\n",
       "      <th>AMX</th>\n",
       "      <td>10.0</td>\n",
       "    </tr>\n",
       "    <tr>\n",
       "      <th>LXP</th>\n",
       "      <td>7.0</td>\n",
       "    </tr>\n",
       "    <tr>\n",
       "      <th>DSM</th>\n",
       "      <td>2.0</td>\n",
       "    </tr>\n",
       "    <tr>\n",
       "      <th>LPE</th>\n",
       "      <td>2.0</td>\n",
       "    </tr>\n",
       "    <tr>\n",
       "      <th>LNE</th>\n",
       "      <td>1.0</td>\n",
       "    </tr>\n",
       "  </tbody>\n",
       "</table>\n",
       "</div>"
      ],
      "text/plain": [
       "        count\n",
       "Emp-I        \n",
       "LAN    6453.0\n",
       "SKU    2540.0\n",
       "TAM     780.0\n",
       "LAW     642.0\n",
       "ARG     468.0\n",
       "AVA     306.0\n",
       "GLO     287.0\n",
       "ACA     258.0\n",
       "JAT     196.0\n",
       "CMP     116.0\n",
       "QFU     113.0\n",
       "LAP      61.0\n",
       "AAL      51.0\n",
       "ONE      43.0\n",
       "JMR      39.0\n",
       "IBE      36.0\n",
       "PUE      30.0\n",
       "AFR      30.0\n",
       "BAW      29.0\n",
       "AZA      29.0\n",
       "KLM      21.0\n",
       "DAL      21.0\n",
       "UAL      17.0\n",
       "AUT      15.0\n",
       "LRC      11.0\n",
       "AMX      10.0\n",
       "LXP       7.0\n",
       "DSM       2.0\n",
       "LPE       2.0\n",
       "LNE       1.0"
      ]
     },
     "execution_count": 174,
     "metadata": {},
     "output_type": "execute_result"
    }
   ],
   "source": [
    "empI_delay_df"
   ]
  },
  {
   "cell_type": "markdown",
   "id": "daf61029",
   "metadata": {},
   "source": [
    "Filtering to the top 10"
   ]
  },
  {
   "cell_type": "code",
   "execution_count": 163,
   "id": "471b2110",
   "metadata": {},
   "outputs": [
    {
     "data": {
      "text/plain": [
       "Emp-I\n",
       "LAN    0.094610\n",
       "SKU    0.037240\n",
       "TAM    0.011436\n",
       "LAW    0.009413\n",
       "ARG    0.006862\n",
       "AVA    0.004486\n",
       "GLO    0.004208\n",
       "ACA    0.003783\n",
       "JAT    0.002874\n",
       "CMP    0.001701\n",
       "Name: count, dtype: float64"
      ]
     },
     "execution_count": 163,
     "metadata": {},
     "output_type": "execute_result"
    }
   ],
   "source": [
    "(empI_delay_df['count'] / len(df))[:10]"
   ]
  },
  {
   "cell_type": "code",
   "execution_count": 164,
   "id": "e7e75924",
   "metadata": {},
   "outputs": [
    {
     "data": {
      "text/plain": [
       "0.17661202826730787"
      ]
     },
     "execution_count": 164,
     "metadata": {},
     "output_type": "execute_result"
    }
   ],
   "source": [
    "sum((empI_delay_df['count'] / len(df))[:10])"
   ]
  },
  {
   "cell_type": "markdown",
   "id": "687e4a49",
   "metadata": {},
   "source": [
    "This 10 scheduled airlines represent 17.6% of flights with delay"
   ]
  },
  {
   "cell_type": "markdown",
   "id": "32124466",
   "metadata": {},
   "source": [
    "Visualizing number of delayed flights per scheduled airline:"
   ]
  },
  {
   "cell_type": "code",
   "execution_count": 165,
   "id": "3966ce40",
   "metadata": {},
   "outputs": [
    {
     "data": {
      "text/plain": [
       "<AxesSubplot:xlabel='Emp-I'>"
      ]
     },
     "execution_count": 165,
     "metadata": {},
     "output_type": "execute_result"
    },
    {
     "data": {
      "image/png": "[encoded data removed]",
      "text/plain": [
       "<Figure size 1440x720 with 1 Axes>"
      ]
     },
     "metadata": {
      "needs_background": "light"
     },
     "output_type": "display_data"
    }
   ],
   "source": [
    "empI_delay_df['count'].plot.bar(figsize=(20,10))"
   ]
  },
  {
   "cell_type": "markdown",
   "id": "600f421e",
   "metadata": {},
   "source": [
    "It looks like LAN has the most number of delayed flights, however, it is important to look at the ratio of delayed flights based on their total flights."
   ]
  },
  {
   "cell_type": "code",
   "execution_count": 214,
   "id": "4d312b93",
   "metadata": {
    "scrolled": true
   },
   "outputs": [],
   "source": [
    "emp_delay_rate_df = df[df['delay_15'] == 1].groupby('Emp-I').describe()['delay_15'][['count']] / df.groupby('Emp-I').describe()['delay_15'][['count']]"
   ]
  },
  {
   "cell_type": "code",
   "execution_count": 215,
   "id": "858d4349",
   "metadata": {
    "scrolled": true
   },
   "outputs": [],
   "source": [
    "emp_delay_rate_df = pd.DataFrame({'emp': emp_delay_rate_df.index.tolist(), 'rate': emp_delay_rate_df['count'].values})"
   ]
  },
  {
   "cell_type": "code",
   "execution_count": 216,
   "id": "56a40d88",
   "metadata": {},
   "outputs": [
    {
     "data": {
      "text/plain": [
       "<AxesSubplot:xlabel='emp'>"
      ]
     },
     "execution_count": 216,
     "metadata": {},
     "output_type": "execute_result"
    },
    {
     "data": {
      "image/png": "[encoded data removed]",
      "text/plain": [
       "<Figure size 1440x720 with 1 Axes>"
      ]
     },
     "metadata": {
      "needs_background": "light"
     },
     "output_type": "display_data"
    }
   ],
   "source": [
    "emp_delay_rate_df.set_index('emp').plot.bar(figsize=(20,10))"
   ]
  },
  {
   "cell_type": "markdown",
   "id": "55218068",
   "metadata": {},
   "source": [
    "Even though LAN seemed to have the most number of delayed flights, turns out it represents less than 20% of their total flights, which is less than other airlines. However, those airlines have a few flights, so it still not fair to claim they \"most of the time\" are delayed. This is an interesting feature to look up when more data is available for the rest."
   ]
  },
  {
   "cell_type": "markdown",
   "id": "1e43ab2c",
   "metadata": {},
   "source": [
    "### Emp-O"
   ]
  },
  {
   "cell_type": "code",
   "execution_count": 175,
   "id": "63faba6e",
   "metadata": {},
   "outputs": [],
   "source": [
    "empO_delay_df = df[df['delay_15'] == 1].groupby('Emp-O').describe()['delay_15'].sort_values(by='count', ascending=False)[['count']]"
   ]
  },
  {
   "cell_type": "code",
   "execution_count": 176,
   "id": "bc53e3d3",
   "metadata": {
    "scrolled": true
   },
   "outputs": [
    {
     "data": {
      "text/html": [
       "<div>\n",
       "<style scoped>\n",
       "    .dataframe tbody tr th:only-of-type {\n",
       "        vertical-align: middle;\n",
       "    }\n",
       "\n",
       "    .dataframe tbody tr th {\n",
       "        vertical-align: top;\n",
       "    }\n",
       "\n",
       "    .dataframe thead th {\n",
       "        text-align: right;\n",
       "    }\n",
       "</style>\n",
       "<table border=\"1\" class=\"dataframe\">\n",
       "  <thead>\n",
       "    <tr style=\"text-align: right;\">\n",
       "      <th></th>\n",
       "      <th>count</th>\n",
       "    </tr>\n",
       "    <tr>\n",
       "      <th>Emp-O</th>\n",
       "      <th></th>\n",
       "    </tr>\n",
       "  </thead>\n",
       "  <tbody>\n",
       "    <tr>\n",
       "      <th>LAN</th>\n",
       "      <td>3876.0</td>\n",
       "    </tr>\n",
       "    <tr>\n",
       "      <th>SKU</th>\n",
       "      <td>2540.0</td>\n",
       "    </tr>\n",
       "    <tr>\n",
       "      <th>LXP</th>\n",
       "      <td>2068.0</td>\n",
       "    </tr>\n",
       "    <tr>\n",
       "      <th>TAM</th>\n",
       "      <td>779.0</td>\n",
       "    </tr>\n",
       "    <tr>\n",
       "      <th>JMR</th>\n",
       "      <td>668.0</td>\n",
       "    </tr>\n",
       "    <tr>\n",
       "      <th>ARG</th>\n",
       "      <td>466.0</td>\n",
       "    </tr>\n",
       "    <tr>\n",
       "      <th>GLO</th>\n",
       "      <td>287.0</td>\n",
       "    </tr>\n",
       "    <tr>\n",
       "      <th>LPE</th>\n",
       "      <td>281.0</td>\n",
       "    </tr>\n",
       "    <tr>\n",
       "      <th>AVA</th>\n",
       "      <td>280.0</td>\n",
       "    </tr>\n",
       "    <tr>\n",
       "      <th>ACA</th>\n",
       "      <td>258.0</td>\n",
       "    </tr>\n",
       "    <tr>\n",
       "      <th>JAT</th>\n",
       "      <td>196.0</td>\n",
       "    </tr>\n",
       "    <tr>\n",
       "      <th>DSM</th>\n",
       "      <td>167.0</td>\n",
       "    </tr>\n",
       "    <tr>\n",
       "      <th>CMP</th>\n",
       "      <td>116.0</td>\n",
       "    </tr>\n",
       "    <tr>\n",
       "      <th>QFA</th>\n",
       "      <td>113.0</td>\n",
       "    </tr>\n",
       "    <tr>\n",
       "      <th>LNE</th>\n",
       "      <td>73.0</td>\n",
       "    </tr>\n",
       "    <tr>\n",
       "      <th>LAP</th>\n",
       "      <td>62.0</td>\n",
       "    </tr>\n",
       "    <tr>\n",
       "      <th>AAL</th>\n",
       "      <td>51.0</td>\n",
       "    </tr>\n",
       "    <tr>\n",
       "      <th>ONE</th>\n",
       "      <td>43.0</td>\n",
       "    </tr>\n",
       "    <tr>\n",
       "      <th>IBE</th>\n",
       "      <td>36.0</td>\n",
       "    </tr>\n",
       "    <tr>\n",
       "      <th>LRC</th>\n",
       "      <td>35.0</td>\n",
       "    </tr>\n",
       "    <tr>\n",
       "      <th>PUE</th>\n",
       "      <td>30.0</td>\n",
       "    </tr>\n",
       "    <tr>\n",
       "      <th>AFR</th>\n",
       "      <td>30.0</td>\n",
       "    </tr>\n",
       "    <tr>\n",
       "      <th>BAW</th>\n",
       "      <td>29.0</td>\n",
       "    </tr>\n",
       "    <tr>\n",
       "      <th>AZA</th>\n",
       "      <td>29.0</td>\n",
       "    </tr>\n",
       "    <tr>\n",
       "      <th>DAL</th>\n",
       "      <td>21.0</td>\n",
       "    </tr>\n",
       "    <tr>\n",
       "      <th>KLM</th>\n",
       "      <td>21.0</td>\n",
       "    </tr>\n",
       "    <tr>\n",
       "      <th>UAL</th>\n",
       "      <td>17.0</td>\n",
       "    </tr>\n",
       "    <tr>\n",
       "      <th>AUT</th>\n",
       "      <td>17.0</td>\n",
       "    </tr>\n",
       "    <tr>\n",
       "      <th>56R</th>\n",
       "      <td>11.0</td>\n",
       "    </tr>\n",
       "    <tr>\n",
       "      <th>AMX</th>\n",
       "      <td>10.0</td>\n",
       "    </tr>\n",
       "    <tr>\n",
       "      <th>TPU</th>\n",
       "      <td>2.0</td>\n",
       "    </tr>\n",
       "    <tr>\n",
       "      <th>48O</th>\n",
       "      <td>2.0</td>\n",
       "    </tr>\n",
       "  </tbody>\n",
       "</table>\n",
       "</div>"
      ],
      "text/plain": [
       "        count\n",
       "Emp-O        \n",
       "LAN    3876.0\n",
       "SKU    2540.0\n",
       "LXP    2068.0\n",
       "TAM     779.0\n",
       "JMR     668.0\n",
       "ARG     466.0\n",
       "GLO     287.0\n",
       "LPE     281.0\n",
       "AVA     280.0\n",
       "ACA     258.0\n",
       "JAT     196.0\n",
       "DSM     167.0\n",
       "CMP     116.0\n",
       "QFA     113.0\n",
       "LNE      73.0\n",
       "LAP      62.0\n",
       "AAL      51.0\n",
       "ONE      43.0\n",
       "IBE      36.0\n",
       "LRC      35.0\n",
       "PUE      30.0\n",
       "AFR      30.0\n",
       "BAW      29.0\n",
       "AZA      29.0\n",
       "DAL      21.0\n",
       "KLM      21.0\n",
       "UAL      17.0\n",
       "AUT      17.0\n",
       "56R      11.0\n",
       "AMX      10.0\n",
       "TPU       2.0\n",
       "48O       2.0"
      ]
     },
     "execution_count": 176,
     "metadata": {},
     "output_type": "execute_result"
    }
   ],
   "source": [
    "empO_delay_df"
   ]
  },
  {
   "cell_type": "markdown",
   "id": "69ceadce",
   "metadata": {},
   "source": [
    "Filtering to the top 10"
   ]
  },
  {
   "cell_type": "code",
   "execution_count": 178,
   "id": "dc2c2d3d",
   "metadata": {},
   "outputs": [
    {
     "data": {
      "text/plain": [
       "Emp-O\n",
       "LAN    0.056828\n",
       "SKU    0.037240\n",
       "LXP    0.030320\n",
       "TAM    0.011421\n",
       "JMR    0.009794\n",
       "ARG    0.006832\n",
       "GLO    0.004208\n",
       "LPE    0.004120\n",
       "AVA    0.004105\n",
       "ACA    0.003783\n",
       "Name: count, dtype: float64"
      ]
     },
     "execution_count": 178,
     "metadata": {},
     "output_type": "execute_result"
    }
   ],
   "source": [
    "(empO_delay_df['count'] / len(df))[:10]"
   ]
  },
  {
   "cell_type": "code",
   "execution_count": 179,
   "id": "5ae1a256",
   "metadata": {},
   "outputs": [
    {
     "data": {
      "text/plain": [
       "0.16865085183121722"
      ]
     },
     "execution_count": 179,
     "metadata": {},
     "output_type": "execute_result"
    }
   ],
   "source": [
    "sum((empO_delay_df['count'] / len(df))[:10])"
   ]
  },
  {
   "cell_type": "markdown",
   "id": "7646b364",
   "metadata": {},
   "source": [
    "This 10 scheduled airlines represent 17.8% of flights with delay"
   ]
  },
  {
   "cell_type": "markdown",
   "id": "4981353b",
   "metadata": {},
   "source": [
    "Visualizing number of delayed flights per scheduled airline:"
   ]
  },
  {
   "cell_type": "code",
   "execution_count": 180,
   "id": "e3a938bc",
   "metadata": {},
   "outputs": [
    {
     "data": {
      "text/plain": [
       "<AxesSubplot:xlabel='Emp-O'>"
      ]
     },
     "execution_count": 180,
     "metadata": {},
     "output_type": "execute_result"
    },
    {
     "data": {
      "image/png": "[encoded data removed]",
      "text/plain": [
       "<Figure size 1440x720 with 1 Axes>"
      ]
     },
     "metadata": {
      "needs_background": "light"
     },
     "output_type": "display_data"
    }
   ],
   "source": [
    "empO_delay_df['count'].plot.bar(figsize=(20,10))"
   ]
  },
  {
   "cell_type": "markdown",
   "id": "d5639563",
   "metadata": {},
   "source": [
    "This has a similar behavior like Emp-I"
   ]
  },
  {
   "cell_type": "markdown",
   "id": "d64b8a97",
   "metadata": {},
   "source": [
    "### Month of the year"
   ]
  },
  {
   "cell_type": "code",
   "execution_count": 233,
   "id": "68239a67",
   "metadata": {},
   "outputs": [
    {
     "data": {
      "text/html": [
       "<div>\n",
       "<style scoped>\n",
       "    .dataframe tbody tr th:only-of-type {\n",
       "        vertical-align: middle;\n",
       "    }\n",
       "\n",
       "    .dataframe tbody tr th {\n",
       "        vertical-align: top;\n",
       "    }\n",
       "\n",
       "    .dataframe thead th {\n",
       "        text-align: right;\n",
       "    }\n",
       "</style>\n",
       "<table border=\"1\" class=\"dataframe\">\n",
       "  <thead>\n",
       "    <tr style=\"text-align: right;\">\n",
       "      <th></th>\n",
       "      <th>count</th>\n",
       "    </tr>\n",
       "    <tr>\n",
       "      <th>MES</th>\n",
       "      <th></th>\n",
       "    </tr>\n",
       "  </thead>\n",
       "  <tbody>\n",
       "    <tr>\n",
       "      <th>7</th>\n",
       "      <td>1758.0</td>\n",
       "    </tr>\n",
       "    <tr>\n",
       "      <th>12</th>\n",
       "      <td>1615.0</td>\n",
       "    </tr>\n",
       "    <tr>\n",
       "      <th>10</th>\n",
       "      <td>1363.0</td>\n",
       "    </tr>\n",
       "    <tr>\n",
       "      <th>11</th>\n",
       "      <td>1199.0</td>\n",
       "    </tr>\n",
       "    <tr>\n",
       "      <th>8</th>\n",
       "      <td>996.0</td>\n",
       "    </tr>\n",
       "    <tr>\n",
       "      <th>1</th>\n",
       "      <td>978.0</td>\n",
       "    </tr>\n",
       "    <tr>\n",
       "      <th>9</th>\n",
       "      <td>967.0</td>\n",
       "    </tr>\n",
       "    <tr>\n",
       "      <th>6</th>\n",
       "      <td>852.0</td>\n",
       "    </tr>\n",
       "    <tr>\n",
       "      <th>2</th>\n",
       "      <td>843.0</td>\n",
       "    </tr>\n",
       "    <tr>\n",
       "      <th>5</th>\n",
       "      <td>827.0</td>\n",
       "    </tr>\n",
       "    <tr>\n",
       "      <th>3</th>\n",
       "      <td>631.0</td>\n",
       "    </tr>\n",
       "    <tr>\n",
       "      <th>4</th>\n",
       "      <td>585.0</td>\n",
       "    </tr>\n",
       "  </tbody>\n",
       "</table>\n",
       "</div>"
      ],
      "text/plain": [
       "      count\n",
       "MES        \n",
       "7    1758.0\n",
       "12   1615.0\n",
       "10   1363.0\n",
       "11   1199.0\n",
       "8     996.0\n",
       "1     978.0\n",
       "9     967.0\n",
       "6     852.0\n",
       "2     843.0\n",
       "5     827.0\n",
       "3     631.0\n",
       "4     585.0"
      ]
     },
     "execution_count": 233,
     "metadata": {},
     "output_type": "execute_result"
    }
   ],
   "source": [
    "df[df['delay_15'] == 1].groupby('MES').describe()['delay_15'].sort_values(by='count', ascending=False)[['count']]"
   ]
  },
  {
   "cell_type": "markdown",
   "id": "756d3bb7",
   "metadata": {},
   "source": [
    "Months 7, 12, 10 and 11 are those with more delayed flights. Let's find out their delay rate based on their total flights."
   ]
  },
  {
   "cell_type": "code",
   "execution_count": 228,
   "id": "a684b368",
   "metadata": {},
   "outputs": [],
   "source": [
    "month_delay_rate_df = df[df['delay_15'] == 1].groupby('MES').describe()['delay_15'][['count']] / df.groupby('MES').describe()['delay_15'][['count']]"
   ]
  },
  {
   "cell_type": "code",
   "execution_count": 230,
   "id": "b44f24e7",
   "metadata": {},
   "outputs": [],
   "source": [
    "month_delay_rate_df = pd.DataFrame({'month': month_delay_rate_df.index.tolist(), 'rate': month_delay_rate_df['count'].values})"
   ]
  },
  {
   "cell_type": "code",
   "execution_count": 231,
   "id": "673a9ffe",
   "metadata": {},
   "outputs": [
    {
     "data": {
      "text/plain": [
       "<AxesSubplot:xlabel='month'>"
      ]
     },
     "execution_count": 231,
     "metadata": {},
     "output_type": "execute_result"
    },
    {
     "data": {
      "image/png": "[encoded data removed]",
      "text/plain": [
       "<Figure size 1440x720 with 1 Axes>"
      ]
     },
     "metadata": {
      "needs_background": "light"
     },
     "output_type": "display_data"
    }
   ],
   "source": [
    "month_delay_rate_df.set_index('month').plot.bar(figsize=(20,10))"
   ]
  },
  {
   "cell_type": "markdown",
   "id": "5733727b",
   "metadata": {},
   "source": [
    "Months 12, 7, 10 and 11 have a higher delay rate, this could mean that the increased number of flights during those months might have some kind of impact and cause more delay rates than other months."
   ]
  },
  {
   "cell_type": "markdown",
   "id": "4945ed02",
   "metadata": {},
   "source": [
    "### Day of the week"
   ]
  },
  {
   "cell_type": "code",
   "execution_count": 234,
   "id": "d34c6bb9",
   "metadata": {},
   "outputs": [
    {
     "data": {
      "text/html": [
       "<div>\n",
       "<style scoped>\n",
       "    .dataframe tbody tr th:only-of-type {\n",
       "        vertical-align: middle;\n",
       "    }\n",
       "\n",
       "    .dataframe tbody tr th {\n",
       "        vertical-align: top;\n",
       "    }\n",
       "\n",
       "    .dataframe thead th {\n",
       "        text-align: right;\n",
       "    }\n",
       "</style>\n",
       "<table border=\"1\" class=\"dataframe\">\n",
       "  <thead>\n",
       "    <tr style=\"text-align: right;\">\n",
       "      <th></th>\n",
       "      <th>count</th>\n",
       "    </tr>\n",
       "    <tr>\n",
       "      <th>DIANOM</th>\n",
       "      <th></th>\n",
       "    </tr>\n",
       "  </thead>\n",
       "  <tbody>\n",
       "    <tr>\n",
       "      <th>Viernes</th>\n",
       "      <td>2285.0</td>\n",
       "    </tr>\n",
       "    <tr>\n",
       "      <th>Lunes</th>\n",
       "      <td>2048.0</td>\n",
       "    </tr>\n",
       "    <tr>\n",
       "      <th>Jueves</th>\n",
       "      <td>2045.0</td>\n",
       "    </tr>\n",
       "    <tr>\n",
       "      <th>Miercoles</th>\n",
       "      <td>1661.0</td>\n",
       "    </tr>\n",
       "    <tr>\n",
       "      <th>Martes</th>\n",
       "      <td>1634.0</td>\n",
       "    </tr>\n",
       "    <tr>\n",
       "      <th>Domingo</th>\n",
       "      <td>1578.0</td>\n",
       "    </tr>\n",
       "    <tr>\n",
       "      <th>Sabado</th>\n",
       "      <td>1363.0</td>\n",
       "    </tr>\n",
       "  </tbody>\n",
       "</table>\n",
       "</div>"
      ],
      "text/plain": [
       "            count\n",
       "DIANOM           \n",
       "Viernes    2285.0\n",
       "Lunes      2048.0\n",
       "Jueves     2045.0\n",
       "Miercoles  1661.0\n",
       "Martes     1634.0\n",
       "Domingo    1578.0\n",
       "Sabado     1363.0"
      ]
     },
     "execution_count": 234,
     "metadata": {},
     "output_type": "execute_result"
    }
   ],
   "source": [
    "df[df['delay_15'] == 1].groupby('DIANOM').describe()['delay_15'].sort_values(by='count', ascending=False)[['count']]"
   ]
  },
  {
   "cell_type": "markdown",
   "id": "a2dc895e",
   "metadata": {},
   "source": [
    "Friday, Monday and Thursday are days with more delayed flights. Let's find out their delay rate based on their total flights."
   ]
  },
  {
   "cell_type": "code",
   "execution_count": 235,
   "id": "f06f9a78",
   "metadata": {},
   "outputs": [],
   "source": [
    "day_of_week_delay_rate_df = df[df['delay_15'] == 1].groupby('DIANOM').describe()['delay_15'][['count']] / df.groupby('DIANOM').describe()['delay_15'][['count']]"
   ]
  },
  {
   "cell_type": "code",
   "execution_count": 236,
   "id": "9956ce2a",
   "metadata": {},
   "outputs": [],
   "source": [
    "day_of_week_delay_rate_df = pd.DataFrame({'day_of_week': day_of_week_delay_rate_df.index.tolist(), 'rate': day_of_week_delay_rate_df['count'].values})"
   ]
  },
  {
   "cell_type": "code",
   "execution_count": 237,
   "id": "a5a7aede",
   "metadata": {},
   "outputs": [
    {
     "data": {
      "text/plain": [
       "<AxesSubplot:xlabel='day_of_week'>"
      ]
     },
     "execution_count": 237,
     "metadata": {},
     "output_type": "execute_result"
    },
    {
     "data": {
      "image/png": "[encoded data removed]",
      "text/plain": [
       "<Figure size 1440x720 with 1 Axes>"
      ]
     },
     "metadata": {
      "needs_background": "light"
     },
     "output_type": "display_data"
    }
   ],
   "source": [
    "day_of_week_delay_rate_df.set_index('day_of_week').plot.bar(figsize=(20,10))"
   ]
  },
  {
   "cell_type": "markdown",
   "id": "5f5f63dc",
   "metadata": {},
   "source": [
    "Friday, Monday and Thursday have higher delay rates as well, so this also tells that maybe the higher number of flights cause to increase the delay rate. However, the rate difference between days is not that much compared to months."
   ]
  },
  {
   "cell_type": "markdown",
   "id": "9a65ff10",
   "metadata": {},
   "source": [
    "### high_season"
   ]
  },
  {
   "cell_type": "code",
   "execution_count": 238,
   "id": "93dc4725",
   "metadata": {},
   "outputs": [
    {
     "data": {
      "text/html": [
       "<div>\n",
       "<style scoped>\n",
       "    .dataframe tbody tr th:only-of-type {\n",
       "        vertical-align: middle;\n",
       "    }\n",
       "\n",
       "    .dataframe tbody tr th {\n",
       "        vertical-align: top;\n",
       "    }\n",
       "\n",
       "    .dataframe thead th {\n",
       "        text-align: right;\n",
       "    }\n",
       "</style>\n",
       "<table border=\"1\" class=\"dataframe\">\n",
       "  <thead>\n",
       "    <tr style=\"text-align: right;\">\n",
       "      <th></th>\n",
       "      <th>count</th>\n",
       "    </tr>\n",
       "    <tr>\n",
       "      <th>high_season</th>\n",
       "      <th></th>\n",
       "    </tr>\n",
       "  </thead>\n",
       "  <tbody>\n",
       "    <tr>\n",
       "      <th>0</th>\n",
       "      <td>9772.0</td>\n",
       "    </tr>\n",
       "    <tr>\n",
       "      <th>1</th>\n",
       "      <td>2842.0</td>\n",
       "    </tr>\n",
       "  </tbody>\n",
       "</table>\n",
       "</div>"
      ],
      "text/plain": [
       "              count\n",
       "high_season        \n",
       "0            9772.0\n",
       "1            2842.0"
      ]
     },
     "execution_count": 238,
     "metadata": {},
     "output_type": "execute_result"
    }
   ],
   "source": [
    "df[df['delay_15'] == 1].groupby('high_season').describe()['delay_15'].sort_values(by='count', ascending=False)[['count']]"
   ]
  },
  {
   "cell_type": "markdown",
   "id": "60995f62",
   "metadata": {},
   "source": [
    "There are more delayed flights when it's not high season, which is counter intuitive because one would expect that a higher number of fligths lead to a higher number of delayed fligths."
   ]
  },
  {
   "cell_type": "code",
   "execution_count": 239,
   "id": "5224a179",
   "metadata": {},
   "outputs": [],
   "source": [
    "high_season_delay_rate_df = df[df['delay_15'] == 1].groupby('high_season').describe()['delay_15'][['count']] / df.groupby('high_season').describe()['delay_15'][['count']]"
   ]
  },
  {
   "cell_type": "code",
   "execution_count": 240,
   "id": "b23fd084",
   "metadata": {},
   "outputs": [],
   "source": [
    "high_season_delay_rate_df = pd.DataFrame({'high_season': high_season_delay_rate_df.index.tolist(), 'rate': high_season_delay_rate_df['count'].values})"
   ]
  },
  {
   "cell_type": "code",
   "execution_count": 241,
   "id": "cc2d3f23",
   "metadata": {},
   "outputs": [
    {
     "data": {
      "text/plain": [
       "<AxesSubplot:xlabel='high_season'>"
      ]
     },
     "execution_count": 241,
     "metadata": {},
     "output_type": "execute_result"
    },
    {
     "data": {
      "image/png": "[encoded data removed]",
      "text/plain": [
       "<Figure size 1440x720 with 1 Axes>"
      ]
     },
     "metadata": {
      "needs_background": "light"
     },
     "output_type": "display_data"
    }
   ],
   "source": [
    "high_season_delay_rate_df.set_index('high_season').plot.bar(figsize=(20,10))"
   ]
  },
  {
   "cell_type": "markdown",
   "id": "26f3915d",
   "metadata": {},
   "source": [
    "Turns out that high season flights have more delay rate!"
   ]
  },
  {
   "cell_type": "markdown",
   "id": "9ebe551f",
   "metadata": {},
   "source": [
    "### Type of flights"
   ]
  },
  {
   "cell_type": "code",
   "execution_count": 244,
   "id": "0939c3e6",
   "metadata": {},
   "outputs": [
    {
     "data": {
      "text/html": [
       "<div>\n",
       "<style scoped>\n",
       "    .dataframe tbody tr th:only-of-type {\n",
       "        vertical-align: middle;\n",
       "    }\n",
       "\n",
       "    .dataframe tbody tr th {\n",
       "        vertical-align: top;\n",
       "    }\n",
       "\n",
       "    .dataframe thead th {\n",
       "        text-align: right;\n",
       "    }\n",
       "</style>\n",
       "<table border=\"1\" class=\"dataframe\">\n",
       "  <thead>\n",
       "    <tr style=\"text-align: right;\">\n",
       "      <th></th>\n",
       "      <th>count</th>\n",
       "    </tr>\n",
       "    <tr>\n",
       "      <th>TIPOVUELO</th>\n",
       "      <th></th>\n",
       "    </tr>\n",
       "  </thead>\n",
       "  <tbody>\n",
       "    <tr>\n",
       "      <th>I</th>\n",
       "      <td>7048.0</td>\n",
       "    </tr>\n",
       "    <tr>\n",
       "      <th>N</th>\n",
       "      <td>5566.0</td>\n",
       "    </tr>\n",
       "  </tbody>\n",
       "</table>\n",
       "</div>"
      ],
      "text/plain": [
       "            count\n",
       "TIPOVUELO        \n",
       "I          7048.0\n",
       "N          5566.0"
      ]
     },
     "execution_count": 244,
     "metadata": {},
     "output_type": "execute_result"
    }
   ],
   "source": [
    "df[df['delay_15'] == 1].groupby('TIPOVUELO').describe()['delay_15'].sort_values(by='count', ascending=False)[['count']]"
   ]
  },
  {
   "cell_type": "markdown",
   "id": "a20df577",
   "metadata": {},
   "source": [
    "There are more delayed flights of type I even though there are more N flights in total"
   ]
  },
  {
   "cell_type": "code",
   "execution_count": 245,
   "id": "aaa1f589",
   "metadata": {},
   "outputs": [],
   "source": [
    "type_delay_rate_df = df[df['delay_15'] == 1].groupby('TIPOVUELO').describe()['delay_15'][['count']] / df.groupby('TIPOVUELO').describe()['delay_15'][['count']]"
   ]
  },
  {
   "cell_type": "code",
   "execution_count": 246,
   "id": "95158130",
   "metadata": {},
   "outputs": [],
   "source": [
    "type_delay_rate_df = pd.DataFrame({'type': type_delay_rate_df.index.tolist(), 'rate': type_delay_rate_df['count'].values})"
   ]
  },
  {
   "cell_type": "code",
   "execution_count": 247,
   "id": "76f7f0ec",
   "metadata": {},
   "outputs": [
    {
     "data": {
      "text/plain": [
       "<AxesSubplot:xlabel='type'>"
      ]
     },
     "execution_count": 247,
     "metadata": {},
     "output_type": "execute_result"
    },
    {
     "data": {
      "image/png": "[encoded data removed]",
      "text/plain": [
       "<Figure size 1440x720 with 1 Axes>"
      ]
     },
     "metadata": {
      "needs_background": "light"
     },
     "output_type": "display_data"
    }
   ],
   "source": [
    "type_delay_rate_df.set_index('type').plot.bar(figsize=(20,10))"
   ]
  },
  {
   "cell_type": "markdown",
   "id": "1f232193",
   "metadata": {},
   "source": [
    "International flights have a higher delay rate than national ones."
   ]
  },
  {
   "cell_type": "markdown",
   "id": "fc5a4a09",
   "metadata": {},
   "source": [
    "### Conclusions"
   ]
  },
  {
   "cell_type": "markdown",
   "id": "f43501c6",
   "metadata": {},
   "source": [
    "The following variables are expected to have most influence in predicting delays:\n",
    "- Des-I\n",
    "- Des-O\n",
    "- Emp-I\n",
    "- Emp-O\n",
    "- Month\n",
    "- High season\n",
    "- Type"
   ]
  },
  {
   "cell_type": "markdown",
   "id": "a278f60d",
   "metadata": {},
   "source": [
    "## Selected fields to be used"
   ]
  },
  {
   "cell_type": "markdown",
   "id": "362891e4",
   "metadata": {},
   "source": [
    "The following fields will be used:\n",
    "- Vlo-I\n",
    "- Des-I\n",
    "- Emp-I\n",
    "- Vlo-O\n",
    "- Des-O\n",
    "- Emp-O\n",
    "- DIA\n",
    "- MES\n",
    "- DIANOM\n",
    "- TIPOVUELO\n",
    "- OPERA\n",
    "- high_season\n",
    "- period_day\n",
    "- Emp-diff\n",
    "\n",
    "Target: delay_15"
   ]
  },
  {
   "cell_type": "markdown",
   "id": "9de78528",
   "metadata": {},
   "source": [
    "## Preprocessing fields"
   ]
  },
  {
   "cell_type": "code",
   "execution_count": 255,
   "id": "3c659ad7",
   "metadata": {},
   "outputs": [],
   "source": [
    "copy_df = df.copy()"
   ]
  },
  {
   "cell_type": "code",
   "execution_count": 260,
   "id": "364c2877",
   "metadata": {
    "scrolled": true
   },
   "outputs": [],
   "source": [
    "copy_df = pd.get_dummies(copy_df, columns=['Vlo-I', 'Des-I', 'Emp-I', 'Vlo-O', 'Des-O', 'Emp-O', 'DIA', 'MES', 'DIANOM', 'TIPOVUELO', 'OPERA', 'high_season', 'period_day', 'Emp-diff'], prefix=['Vlo-I', 'Des-I', 'Emp-I', 'Vlo-O', 'Des-O', 'Emp-O', 'DIA', 'MES', 'DIANOM', 'TIPOVUELO', 'OPERA', 'high_season', 'period_day', 'Emp-diff'])"
   ]
  },
  {
   "cell_type": "code",
   "execution_count": 262,
   "id": "27bbdd92",
   "metadata": {},
   "outputs": [
    {
     "data": {
      "text/plain": [
       "Index(['Fecha-I', 'Vlo-I', 'Ori-I', 'Des-I', 'Emp-I', 'Fecha-O', 'Vlo-O',\n",
       "       'Ori-O', 'Des-O', 'Emp-O', 'DIA', 'MES', 'AÑO', 'DIANOM', 'TIPOVUELO',\n",
       "       'OPERA', 'SIGLAORI', 'SIGLADES', 'Emp-diff', 'high_season', 'min_diff',\n",
       "       'delay_15', 'period_day'],\n",
       "      dtype='object')"
      ]
     },
     "execution_count": 262,
     "metadata": {},
     "output_type": "execute_result"
    }
   ],
   "source": [
    "df.columns"
   ]
  },
  {
   "cell_type": "code",
   "execution_count": 264,
   "id": "61253e25",
   "metadata": {},
   "outputs": [],
   "source": [
    "target_df = copy_df[['delay_15']]"
   ]
  },
  {
   "cell_type": "code",
   "execution_count": 271,
   "id": "67bd3760",
   "metadata": {},
   "outputs": [],
   "source": [
    "cols_to_remove = ['Fecha-I', 'Fecha-O', 'AÑO', 'SIGLAORI', 'SIGLADES', 'min_diff', 'delay_15', 'Ori-I', 'Ori-O']"
   ]
  },
  {
   "cell_type": "code",
   "execution_count": 275,
   "id": "c503e1ee",
   "metadata": {},
   "outputs": [],
   "source": [
    "X_df = copy_df.drop(columns=cols_to_remove)"
   ]
  },
  {
   "cell_type": "code",
   "execution_count": 274,
   "id": "9e1e96a4",
   "metadata": {},
   "outputs": [],
   "source": [
    "from sklearn.model_selection import train_test_split"
   ]
  },
  {
   "cell_type": "code",
   "execution_count": 276,
   "id": "78c260aa",
   "metadata": {},
   "outputs": [],
   "source": [
    "X_train, X_test, y_train, y_test = train_test_split(X_df, target_df, random_state=42, test_size=0.25, shuffle=True)"
   ]
  },
  {
   "cell_type": "markdown",
   "id": "fa78af4a",
   "metadata": {},
   "source": [
    "## Training"
   ]
  },
  {
   "cell_type": "markdown",
   "id": "69754b07",
   "metadata": {},
   "source": [
    "### KNN"
   ]
  },
  {
   "cell_type": "code",
   "execution_count": 277,
   "id": "bf3d0d8c",
   "metadata": {},
   "outputs": [],
   "source": [
    "from sklearn.neighbors import KNeighborsClassifier"
   ]
  },
  {
   "cell_type": "code",
   "execution_count": 286,
   "id": "775e5ac7",
   "metadata": {},
   "outputs": [],
   "source": [
    "knn = KNeighborsClassifier(n_neighbors=10)"
   ]
  },
  {
   "cell_type": "code",
   "execution_count": 287,
   "id": "bde97655",
   "metadata": {},
   "outputs": [
    {
     "data": {
      "text/plain": [
       "KNeighborsClassifier(n_neighbors=10)"
      ]
     },
     "execution_count": 287,
     "metadata": {},
     "output_type": "execute_result"
    }
   ],
   "source": [
    "knn.fit(X_train, y_train['delay_15'])"
   ]
  },
  {
   "cell_type": "code",
   "execution_count": 288,
   "id": "b85fa07f",
   "metadata": {},
   "outputs": [
    {
     "name": "stdout",
     "output_type": "stream",
     "text": [
      "F1: 0.5384467077277687\n",
      "F1 w: 0.7633609602733452\n",
      "Acc: 0.8182617874736101\n",
      "Precision: 0.7022914515900487\n",
      "Recall: 0.5440688081216143\n"
     ]
    }
   ],
   "source": [
    "y_pred = knn.predict(X_test)\n",
    "f1, f1_w, acc, precision, recall = get_metrics(y_test, y_pred)\n",
    "print(f'F1: {f1}\\nF1 w: {f1_w}\\nAcc: {acc}\\nPrecision: {precision}\\nRecall: {recall}')"
   ]
  },
  {
   "cell_type": "markdown",
   "id": "577a092b",
   "metadata": {},
   "source": [
    "### SGDClassifier"
   ]
  },
  {
   "cell_type": "code",
   "execution_count": 299,
   "id": "f0e5828b",
   "metadata": {},
   "outputs": [],
   "source": [
    "from sklearn.linear_model import SGDClassifier\n",
    "from sklearn.model_selection import cross_val_score"
   ]
  },
  {
   "cell_type": "code",
   "execution_count": 300,
   "id": "d1e3089d",
   "metadata": {},
   "outputs": [
    {
     "data": {
      "text/plain": [
       "SGDClassifier(random_state=42)"
      ]
     },
     "execution_count": 300,
     "metadata": {},
     "output_type": "execute_result"
    }
   ],
   "source": [
    "sgd_clf = SGDClassifier(random_state=42)\n",
    "sgd_clf.fit(X_train, y_train['delay_15'])"
   ]
  },
  {
   "cell_type": "code",
   "execution_count": 301,
   "id": "07de666a",
   "metadata": {},
   "outputs": [
    {
     "name": "stdout",
     "output_type": "stream",
     "text": [
      "F1: 0.5087345246415926\n",
      "F1 w: 0.7525990825877814\n",
      "Acc: 0.8177926342950973\n",
      "Precision: 0.7224312106168077\n",
      "Recall: 0.5283344919400322\n"
     ]
    }
   ],
   "source": [
    "y_pred = sgd_clf.predict(X_test)\n",
    "f1, f1_w, acc, precision, recall = get_metrics(y_test, y_pred)\n",
    "print(f'F1: {f1}\\nF1 w: {f1_w}\\nAcc: {acc}\\nPrecision: {precision}\\nRecall: {recall}')"
   ]
  },
  {
   "cell_type": "markdown",
   "id": "85469490",
   "metadata": {},
   "source": [
    "### SVM"
   ]
  },
  {
   "cell_type": "code",
   "execution_count": 305,
   "id": "a02e5265",
   "metadata": {},
   "outputs": [],
   "source": [
    "from sklearn.svm import SVC"
   ]
  },
  {
   "cell_type": "code",
   "execution_count": null,
   "id": "1b4cde09",
   "metadata": {},
   "outputs": [],
   "source": [
    "svc = SVC()\n",
    "svc.fit(X_train, y_train['delay_15'])"
   ]
  },
  {
   "cell_type": "code",
   "execution_count": null,
   "id": "a45fd486",
   "metadata": {},
   "outputs": [],
   "source": [
    "y_pred = svc.predict(X_test)\n",
    "f1, f1_w, acc, precision, recall = get_metrics(y_test, y_pred)\n",
    "print(f'F1: {f1}\\nF1 w: {f1_w}\\nAcc: {acc}\\nPrecision: {precision}\\nRecall: {recall}')"
   ]
  },
  {
   "cell_type": "markdown",
   "id": "00ebb8c3",
   "metadata": {},
   "source": [
    "### Random Forest"
   ]
  },
  {
   "cell_type": "code",
   "execution_count": null,
   "id": "a052b989",
   "metadata": {},
   "outputs": [],
   "source": [
    "import os\n",
    "  \n",
    "n_cpu = os.cpu_count()"
   ]
  },
  {
   "cell_type": "code",
   "execution_count": null,
   "id": "1b47d3cf",
   "metadata": {},
   "outputs": [],
   "source": [
    "from sklearn.model_selection import GridSearchCV\n",
    "from sklearn.ensemble import RandomForestClassifier"
   ]
  },
  {
   "cell_type": "code",
   "execution_count": null,
   "id": "6e8470bc",
   "metadata": {},
   "outputs": [],
   "source": [
    "model = GridSearchCV(\n",
    "    RandomForestClassifier(),\n",
    "    param_grid={\n",
    "        'n_estimators': [100, 300],\n",
    "        'max_features': ['sqrt', 'log2'],\n",
    "        'max_depth': [128, 256],\n",
    "        'criterion': ['gini', 'entropy'],\n",
    "        'n_jobs': [n_cpu - 1]\n",
    "    },\n",
    "    scoring=\"f1_weighted\",\n",
    "    return_train_score=False,\n",
    "    n_jobs=-1,\n",
    ")"
   ]
  },
  {
   "cell_type": "code",
   "execution_count": null,
   "id": "00ccf9d4",
   "metadata": {},
   "outputs": [],
   "source": [
    "model.fit(X_train, y_train['delay_15'])"
   ]
  },
  {
   "cell_type": "code",
   "execution_count": null,
   "id": "0387d72e",
   "metadata": {},
   "outputs": [],
   "source": [
    "y_pred = model.predict(X_test)\n",
    "f1, f1_w, acc, precision, recall = get_metrics(y_test, y_pred)\n",
    "print(f'F1: {f1}\\nF1 w: {f1_w}\\nAcc: {acc}\\nPrecision: {precision}\\nRecall: {recall}')"
   ]
  },
  {
   "cell_type": "markdown",
   "id": "a32893ff",
   "metadata": {},
   "source": [
    "# Results comparison"
   ]
  },
  {
   "cell_type": "markdown",
   "id": "3ea9348e",
   "metadata": {},
   "source": [
    "_SVM and RandomForest models comments not included because they didn't finish training in time yet._  \n",
    "\n",
    "KNN and SGDClassifier performed quite similar, with an F1-score (weighted) of 0.76 and 0.75 respectively, along with accuracies of 0.81 for both of them. These models are good and can be used for the task. However, asuming that it's better to have a false positive (predict there is going to be a delay when it's actually not a delay) than a false negative, we are going to focus on which model has a better precision metric.  \n",
    "\n",
    "SDGClassifier has a higher precision (0.72) than KNN (0.7), so the SDGClssifier would be the prefered model to work with."
   ]
  },
  {
   "cell_type": "code",
   "execution_count": null,
   "id": "fdbed3e1",
   "metadata": {},
   "outputs": [],
   "source": []
  }
 ],
 "metadata": {
  "kernelspec": {
   "display_name": "Python 3 (ipykernel)",
   "language": "python",
   "name": "python3"
  },
  "language_info": {
   "codemirror_mode": {
    "name": "ipython",
    "version": 3
   },
   "file_extension": ".py",
   "mimetype": "text/x-python",
   "name": "python",
   "nbconvert_exporter": "python",
   "pygments_lexer": "ipython3",
   "version": "3.8.9"
  }
 },
 "nbformat": 4,
 "nbformat_minor": 5
}
